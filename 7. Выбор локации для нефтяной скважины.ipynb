{
 "cells": [
  {
   "cell_type": "markdown",
   "metadata": {},
   "source": [
    "# Выбор локации для нефтяной скважины"
   ]
  },
  {
   "cell_type": "markdown",
   "metadata": {},
   "source": [
    "Работаем в добывающей компании «ГлавРосГосНефть». Задача: решить, где бурить новую скважину.\n",
    "\n",
    "Имеются пробы нефти в трёх регионах: в каждом 10 000 месторождений, где измерили качество нефти и объём её запасов. Необходимо построить модель машинного обучения, которая поможет определить регион, где добыча принесёт наибольшую прибыль. И проанализировать возможную прибыль и риски техникой *Bootstrap.*\n",
    "\n",
    "Шаги для выбора локации:\n",
    "\n",
    "- В избранном регионе ищут месторождения, для каждого определяют значения признаков;\n",
    "- Строят модель и оценивают объём запасов;\n",
    "- Выбирают месторождения с самым высокими оценками значений. Количество месторождений зависит от бюджета компании и стоимости разработки одной скважины;\n",
    "- Прибыль равна суммарной прибыли отобранных месторождений."
   ]
  },
  {
   "cell_type": "markdown",
   "metadata": {},
   "source": [
    "## Библиотеки и функции"
   ]
  },
  {
   "cell_type": "code",
   "execution_count": 1,
   "metadata": {},
   "outputs": [],
   "source": [
    "import numpy as np\n",
    "import pandas as pd   \n",
    "import matplotlib.pyplot as plt\n",
    "import seaborn as sns\n",
    "from sklearn.model_selection import train_test_split\n",
    "from sklearn.linear_model import LinearRegression\n",
    "from sklearn.metrics import mean_squared_error\n",
    "from sklearn.preprocessing import StandardScaler"
   ]
  },
  {
   "cell_type": "code",
   "execution_count": 2,
   "metadata": {},
   "outputs": [],
   "source": [
    "def read_df_csv(names, sep=','):      \n",
    "    '''принимает список имен датасетов, которые находятся в директории /datasets/ \n",
    "    и помещает их в переменные data_1,_2,_3 и т.д.'''\n",
    "    for i, c in enumerate(names):       \n",
    "        globals().update({'data_'+str(i+1): pd.read_csv('/datasets/'+c, sep=sep)}) "
   ]
  },
  {
   "cell_type": "code",
   "execution_count": 3,
   "metadata": {},
   "outputs": [],
   "source": [
    "def about_df(list_df):\n",
    "    '''выводит информацию о всех датасетах из списка list_df'''\n",
    "    for c, i in enumerate(list_df):\n",
    "        display(\"**** DATA_\"+str(c+1)+' ****')\n",
    "        display(i.info())\n",
    "        display(i.describe().round(2))\n",
    "        display(f'Количество дубликатов: {i.duplicated().sum()}')\n",
    "        display('Количество пропущенных значений:', i.isnull().sum())"
   ]
  },
  {
   "cell_type": "markdown",
   "metadata": {},
   "source": [
    "## Загрузка и подготовка данных"
   ]
  },
  {
   "cell_type": "markdown",
   "metadata": {},
   "source": [
    "### Загрузка и описание данных"
   ]
  },
  {
   "cell_type": "code",
   "execution_count": 4,
   "metadata": {},
   "outputs": [
    {
     "data": {
      "text/html": [
       "<div>\n",
       "<style scoped>\n",
       "    .dataframe tbody tr th:only-of-type {\n",
       "        vertical-align: middle;\n",
       "    }\n",
       "\n",
       "    .dataframe tbody tr th {\n",
       "        vertical-align: top;\n",
       "    }\n",
       "\n",
       "    .dataframe thead th {\n",
       "        text-align: right;\n",
       "    }\n",
       "</style>\n",
       "<table border=\"1\" class=\"dataframe\">\n",
       "  <thead>\n",
       "    <tr style=\"text-align: right;\">\n",
       "      <th></th>\n",
       "      <th>id</th>\n",
       "      <th>f0</th>\n",
       "      <th>f1</th>\n",
       "      <th>f2</th>\n",
       "      <th>product</th>\n",
       "    </tr>\n",
       "  </thead>\n",
       "  <tbody>\n",
       "    <tr>\n",
       "      <th>0</th>\n",
       "      <td>txEyH</td>\n",
       "      <td>0.705745</td>\n",
       "      <td>-0.497823</td>\n",
       "      <td>1.221170</td>\n",
       "      <td>105.280062</td>\n",
       "    </tr>\n",
       "    <tr>\n",
       "      <th>1</th>\n",
       "      <td>2acmU</td>\n",
       "      <td>1.334711</td>\n",
       "      <td>-0.340164</td>\n",
       "      <td>4.365080</td>\n",
       "      <td>73.037750</td>\n",
       "    </tr>\n",
       "    <tr>\n",
       "      <th>2</th>\n",
       "      <td>409Wp</td>\n",
       "      <td>1.022732</td>\n",
       "      <td>0.151990</td>\n",
       "      <td>1.419926</td>\n",
       "      <td>85.265647</td>\n",
       "    </tr>\n",
       "  </tbody>\n",
       "</table>\n",
       "</div>"
      ],
      "text/plain": [
       "      id        f0        f1        f2     product\n",
       "0  txEyH  0.705745 -0.497823  1.221170  105.280062\n",
       "1  2acmU  1.334711 -0.340164  4.365080   73.037750\n",
       "2  409Wp  1.022732  0.151990  1.419926   85.265647"
      ]
     },
     "metadata": {},
     "output_type": "display_data"
    },
    {
     "data": {
      "text/html": [
       "<div>\n",
       "<style scoped>\n",
       "    .dataframe tbody tr th:only-of-type {\n",
       "        vertical-align: middle;\n",
       "    }\n",
       "\n",
       "    .dataframe tbody tr th {\n",
       "        vertical-align: top;\n",
       "    }\n",
       "\n",
       "    .dataframe thead th {\n",
       "        text-align: right;\n",
       "    }\n",
       "</style>\n",
       "<table border=\"1\" class=\"dataframe\">\n",
       "  <thead>\n",
       "    <tr style=\"text-align: right;\">\n",
       "      <th></th>\n",
       "      <th>id</th>\n",
       "      <th>f0</th>\n",
       "      <th>f1</th>\n",
       "      <th>f2</th>\n",
       "      <th>product</th>\n",
       "    </tr>\n",
       "  </thead>\n",
       "  <tbody>\n",
       "    <tr>\n",
       "      <th>0</th>\n",
       "      <td>kBEdx</td>\n",
       "      <td>-15.001348</td>\n",
       "      <td>-8.276000</td>\n",
       "      <td>-0.005876</td>\n",
       "      <td>3.179103</td>\n",
       "    </tr>\n",
       "    <tr>\n",
       "      <th>1</th>\n",
       "      <td>62mP7</td>\n",
       "      <td>14.272088</td>\n",
       "      <td>-3.475083</td>\n",
       "      <td>0.999183</td>\n",
       "      <td>26.953261</td>\n",
       "    </tr>\n",
       "    <tr>\n",
       "      <th>2</th>\n",
       "      <td>vyE1P</td>\n",
       "      <td>6.263187</td>\n",
       "      <td>-5.948386</td>\n",
       "      <td>5.001160</td>\n",
       "      <td>134.766305</td>\n",
       "    </tr>\n",
       "  </tbody>\n",
       "</table>\n",
       "</div>"
      ],
      "text/plain": [
       "      id         f0        f1        f2     product\n",
       "0  kBEdx -15.001348 -8.276000 -0.005876    3.179103\n",
       "1  62mP7  14.272088 -3.475083  0.999183   26.953261\n",
       "2  vyE1P   6.263187 -5.948386  5.001160  134.766305"
      ]
     },
     "metadata": {},
     "output_type": "display_data"
    },
    {
     "data": {
      "text/html": [
       "<div>\n",
       "<style scoped>\n",
       "    .dataframe tbody tr th:only-of-type {\n",
       "        vertical-align: middle;\n",
       "    }\n",
       "\n",
       "    .dataframe tbody tr th {\n",
       "        vertical-align: top;\n",
       "    }\n",
       "\n",
       "    .dataframe thead th {\n",
       "        text-align: right;\n",
       "    }\n",
       "</style>\n",
       "<table border=\"1\" class=\"dataframe\">\n",
       "  <thead>\n",
       "    <tr style=\"text-align: right;\">\n",
       "      <th></th>\n",
       "      <th>id</th>\n",
       "      <th>f0</th>\n",
       "      <th>f1</th>\n",
       "      <th>f2</th>\n",
       "      <th>product</th>\n",
       "    </tr>\n",
       "  </thead>\n",
       "  <tbody>\n",
       "    <tr>\n",
       "      <th>0</th>\n",
       "      <td>fwXo0</td>\n",
       "      <td>-1.146987</td>\n",
       "      <td>0.963328</td>\n",
       "      <td>-0.828965</td>\n",
       "      <td>27.758673</td>\n",
       "    </tr>\n",
       "    <tr>\n",
       "      <th>1</th>\n",
       "      <td>WJtFt</td>\n",
       "      <td>0.262778</td>\n",
       "      <td>0.269839</td>\n",
       "      <td>-2.530187</td>\n",
       "      <td>56.069697</td>\n",
       "    </tr>\n",
       "    <tr>\n",
       "      <th>2</th>\n",
       "      <td>ovLUW</td>\n",
       "      <td>0.194587</td>\n",
       "      <td>0.289035</td>\n",
       "      <td>-5.586433</td>\n",
       "      <td>62.871910</td>\n",
       "    </tr>\n",
       "  </tbody>\n",
       "</table>\n",
       "</div>"
      ],
      "text/plain": [
       "      id        f0        f1        f2    product\n",
       "0  fwXo0 -1.146987  0.963328 -0.828965  27.758673\n",
       "1  WJtFt  0.262778  0.269839 -2.530187  56.069697\n",
       "2  ovLUW  0.194587  0.289035 -5.586433  62.871910"
      ]
     },
     "metadata": {},
     "output_type": "display_data"
    }
   ],
   "source": [
    "# Загрузка и вывод датасетов на экран:\n",
    "names = ['geo_data_0.csv', 'geo_data_1.csv', 'geo_data_2.csv']\n",
    "read_df_csv(names)\n",
    "display(data_1.head(3), data_2.head(3), data_3.head(3))"
   ]
  },
  {
   "cell_type": "code",
   "execution_count": 5,
   "metadata": {
    "scrolled": false
   },
   "outputs": [
    {
     "data": {
      "text/plain": [
       "'**** DATA_1 ****'"
      ]
     },
     "metadata": {},
     "output_type": "display_data"
    },
    {
     "name": "stdout",
     "output_type": "stream",
     "text": [
      "<class 'pandas.core.frame.DataFrame'>\n",
      "RangeIndex: 100000 entries, 0 to 99999\n",
      "Data columns (total 5 columns):\n",
      " #   Column   Non-Null Count   Dtype  \n",
      "---  ------   --------------   -----  \n",
      " 0   id       100000 non-null  object \n",
      " 1   f0       100000 non-null  float64\n",
      " 2   f1       100000 non-null  float64\n",
      " 3   f2       100000 non-null  float64\n",
      " 4   product  100000 non-null  float64\n",
      "dtypes: float64(4), object(1)\n",
      "memory usage: 3.8+ MB\n"
     ]
    },
    {
     "data": {
      "text/plain": [
       "None"
      ]
     },
     "metadata": {},
     "output_type": "display_data"
    },
    {
     "data": {
      "text/html": [
       "<div>\n",
       "<style scoped>\n",
       "    .dataframe tbody tr th:only-of-type {\n",
       "        vertical-align: middle;\n",
       "    }\n",
       "\n",
       "    .dataframe tbody tr th {\n",
       "        vertical-align: top;\n",
       "    }\n",
       "\n",
       "    .dataframe thead th {\n",
       "        text-align: right;\n",
       "    }\n",
       "</style>\n",
       "<table border=\"1\" class=\"dataframe\">\n",
       "  <thead>\n",
       "    <tr style=\"text-align: right;\">\n",
       "      <th></th>\n",
       "      <th>f0</th>\n",
       "      <th>f1</th>\n",
       "      <th>f2</th>\n",
       "      <th>product</th>\n",
       "    </tr>\n",
       "  </thead>\n",
       "  <tbody>\n",
       "    <tr>\n",
       "      <th>count</th>\n",
       "      <td>100000.00</td>\n",
       "      <td>100000.00</td>\n",
       "      <td>100000.00</td>\n",
       "      <td>100000.00</td>\n",
       "    </tr>\n",
       "    <tr>\n",
       "      <th>mean</th>\n",
       "      <td>0.50</td>\n",
       "      <td>0.25</td>\n",
       "      <td>2.50</td>\n",
       "      <td>92.50</td>\n",
       "    </tr>\n",
       "    <tr>\n",
       "      <th>std</th>\n",
       "      <td>0.87</td>\n",
       "      <td>0.50</td>\n",
       "      <td>3.25</td>\n",
       "      <td>44.29</td>\n",
       "    </tr>\n",
       "    <tr>\n",
       "      <th>min</th>\n",
       "      <td>-1.41</td>\n",
       "      <td>-0.85</td>\n",
       "      <td>-12.09</td>\n",
       "      <td>0.00</td>\n",
       "    </tr>\n",
       "    <tr>\n",
       "      <th>25%</th>\n",
       "      <td>-0.07</td>\n",
       "      <td>-0.20</td>\n",
       "      <td>0.29</td>\n",
       "      <td>56.50</td>\n",
       "    </tr>\n",
       "    <tr>\n",
       "      <th>50%</th>\n",
       "      <td>0.50</td>\n",
       "      <td>0.25</td>\n",
       "      <td>2.52</td>\n",
       "      <td>91.85</td>\n",
       "    </tr>\n",
       "    <tr>\n",
       "      <th>75%</th>\n",
       "      <td>1.07</td>\n",
       "      <td>0.70</td>\n",
       "      <td>4.72</td>\n",
       "      <td>128.56</td>\n",
       "    </tr>\n",
       "    <tr>\n",
       "      <th>max</th>\n",
       "      <td>2.36</td>\n",
       "      <td>1.34</td>\n",
       "      <td>16.00</td>\n",
       "      <td>185.36</td>\n",
       "    </tr>\n",
       "  </tbody>\n",
       "</table>\n",
       "</div>"
      ],
      "text/plain": [
       "              f0         f1         f2    product\n",
       "count  100000.00  100000.00  100000.00  100000.00\n",
       "mean        0.50       0.25       2.50      92.50\n",
       "std         0.87       0.50       3.25      44.29\n",
       "min        -1.41      -0.85     -12.09       0.00\n",
       "25%        -0.07      -0.20       0.29      56.50\n",
       "50%         0.50       0.25       2.52      91.85\n",
       "75%         1.07       0.70       4.72     128.56\n",
       "max         2.36       1.34      16.00     185.36"
      ]
     },
     "metadata": {},
     "output_type": "display_data"
    },
    {
     "data": {
      "text/plain": [
       "'Количество дубликатов: 0'"
      ]
     },
     "metadata": {},
     "output_type": "display_data"
    },
    {
     "data": {
      "text/plain": [
       "'Количество пропущенных значений:'"
      ]
     },
     "metadata": {},
     "output_type": "display_data"
    },
    {
     "data": {
      "text/plain": [
       "id         0\n",
       "f0         0\n",
       "f1         0\n",
       "f2         0\n",
       "product    0\n",
       "dtype: int64"
      ]
     },
     "metadata": {},
     "output_type": "display_data"
    },
    {
     "data": {
      "text/plain": [
       "'**** DATA_2 ****'"
      ]
     },
     "metadata": {},
     "output_type": "display_data"
    },
    {
     "name": "stdout",
     "output_type": "stream",
     "text": [
      "<class 'pandas.core.frame.DataFrame'>\n",
      "RangeIndex: 100000 entries, 0 to 99999\n",
      "Data columns (total 5 columns):\n",
      " #   Column   Non-Null Count   Dtype  \n",
      "---  ------   --------------   -----  \n",
      " 0   id       100000 non-null  object \n",
      " 1   f0       100000 non-null  float64\n",
      " 2   f1       100000 non-null  float64\n",
      " 3   f2       100000 non-null  float64\n",
      " 4   product  100000 non-null  float64\n",
      "dtypes: float64(4), object(1)\n",
      "memory usage: 3.8+ MB\n"
     ]
    },
    {
     "data": {
      "text/plain": [
       "None"
      ]
     },
     "metadata": {},
     "output_type": "display_data"
    },
    {
     "data": {
      "text/html": [
       "<div>\n",
       "<style scoped>\n",
       "    .dataframe tbody tr th:only-of-type {\n",
       "        vertical-align: middle;\n",
       "    }\n",
       "\n",
       "    .dataframe tbody tr th {\n",
       "        vertical-align: top;\n",
       "    }\n",
       "\n",
       "    .dataframe thead th {\n",
       "        text-align: right;\n",
       "    }\n",
       "</style>\n",
       "<table border=\"1\" class=\"dataframe\">\n",
       "  <thead>\n",
       "    <tr style=\"text-align: right;\">\n",
       "      <th></th>\n",
       "      <th>f0</th>\n",
       "      <th>f1</th>\n",
       "      <th>f2</th>\n",
       "      <th>product</th>\n",
       "    </tr>\n",
       "  </thead>\n",
       "  <tbody>\n",
       "    <tr>\n",
       "      <th>count</th>\n",
       "      <td>100000.00</td>\n",
       "      <td>100000.00</td>\n",
       "      <td>100000.00</td>\n",
       "      <td>100000.00</td>\n",
       "    </tr>\n",
       "    <tr>\n",
       "      <th>mean</th>\n",
       "      <td>1.14</td>\n",
       "      <td>-4.80</td>\n",
       "      <td>2.49</td>\n",
       "      <td>68.83</td>\n",
       "    </tr>\n",
       "    <tr>\n",
       "      <th>std</th>\n",
       "      <td>8.97</td>\n",
       "      <td>5.12</td>\n",
       "      <td>1.70</td>\n",
       "      <td>45.94</td>\n",
       "    </tr>\n",
       "    <tr>\n",
       "      <th>min</th>\n",
       "      <td>-31.61</td>\n",
       "      <td>-26.36</td>\n",
       "      <td>-0.02</td>\n",
       "      <td>0.00</td>\n",
       "    </tr>\n",
       "    <tr>\n",
       "      <th>25%</th>\n",
       "      <td>-6.30</td>\n",
       "      <td>-8.27</td>\n",
       "      <td>1.00</td>\n",
       "      <td>26.95</td>\n",
       "    </tr>\n",
       "    <tr>\n",
       "      <th>50%</th>\n",
       "      <td>1.15</td>\n",
       "      <td>-4.81</td>\n",
       "      <td>2.01</td>\n",
       "      <td>57.09</td>\n",
       "    </tr>\n",
       "    <tr>\n",
       "      <th>75%</th>\n",
       "      <td>8.62</td>\n",
       "      <td>-1.33</td>\n",
       "      <td>4.00</td>\n",
       "      <td>107.81</td>\n",
       "    </tr>\n",
       "    <tr>\n",
       "      <th>max</th>\n",
       "      <td>29.42</td>\n",
       "      <td>18.73</td>\n",
       "      <td>5.02</td>\n",
       "      <td>137.95</td>\n",
       "    </tr>\n",
       "  </tbody>\n",
       "</table>\n",
       "</div>"
      ],
      "text/plain": [
       "              f0         f1         f2    product\n",
       "count  100000.00  100000.00  100000.00  100000.00\n",
       "mean        1.14      -4.80       2.49      68.83\n",
       "std         8.97       5.12       1.70      45.94\n",
       "min       -31.61     -26.36      -0.02       0.00\n",
       "25%        -6.30      -8.27       1.00      26.95\n",
       "50%         1.15      -4.81       2.01      57.09\n",
       "75%         8.62      -1.33       4.00     107.81\n",
       "max        29.42      18.73       5.02     137.95"
      ]
     },
     "metadata": {},
     "output_type": "display_data"
    },
    {
     "data": {
      "text/plain": [
       "'Количество дубликатов: 0'"
      ]
     },
     "metadata": {},
     "output_type": "display_data"
    },
    {
     "data": {
      "text/plain": [
       "'Количество пропущенных значений:'"
      ]
     },
     "metadata": {},
     "output_type": "display_data"
    },
    {
     "data": {
      "text/plain": [
       "id         0\n",
       "f0         0\n",
       "f1         0\n",
       "f2         0\n",
       "product    0\n",
       "dtype: int64"
      ]
     },
     "metadata": {},
     "output_type": "display_data"
    },
    {
     "data": {
      "text/plain": [
       "'**** DATA_3 ****'"
      ]
     },
     "metadata": {},
     "output_type": "display_data"
    },
    {
     "name": "stdout",
     "output_type": "stream",
     "text": [
      "<class 'pandas.core.frame.DataFrame'>\n",
      "RangeIndex: 100000 entries, 0 to 99999\n",
      "Data columns (total 5 columns):\n",
      " #   Column   Non-Null Count   Dtype  \n",
      "---  ------   --------------   -----  \n",
      " 0   id       100000 non-null  object \n",
      " 1   f0       100000 non-null  float64\n",
      " 2   f1       100000 non-null  float64\n",
      " 3   f2       100000 non-null  float64\n",
      " 4   product  100000 non-null  float64\n",
      "dtypes: float64(4), object(1)\n",
      "memory usage: 3.8+ MB\n"
     ]
    },
    {
     "data": {
      "text/plain": [
       "None"
      ]
     },
     "metadata": {},
     "output_type": "display_data"
    },
    {
     "data": {
      "text/html": [
       "<div>\n",
       "<style scoped>\n",
       "    .dataframe tbody tr th:only-of-type {\n",
       "        vertical-align: middle;\n",
       "    }\n",
       "\n",
       "    .dataframe tbody tr th {\n",
       "        vertical-align: top;\n",
       "    }\n",
       "\n",
       "    .dataframe thead th {\n",
       "        text-align: right;\n",
       "    }\n",
       "</style>\n",
       "<table border=\"1\" class=\"dataframe\">\n",
       "  <thead>\n",
       "    <tr style=\"text-align: right;\">\n",
       "      <th></th>\n",
       "      <th>f0</th>\n",
       "      <th>f1</th>\n",
       "      <th>f2</th>\n",
       "      <th>product</th>\n",
       "    </tr>\n",
       "  </thead>\n",
       "  <tbody>\n",
       "    <tr>\n",
       "      <th>count</th>\n",
       "      <td>100000.00</td>\n",
       "      <td>100000.00</td>\n",
       "      <td>100000.00</td>\n",
       "      <td>100000.00</td>\n",
       "    </tr>\n",
       "    <tr>\n",
       "      <th>mean</th>\n",
       "      <td>0.00</td>\n",
       "      <td>-0.00</td>\n",
       "      <td>2.50</td>\n",
       "      <td>95.00</td>\n",
       "    </tr>\n",
       "    <tr>\n",
       "      <th>std</th>\n",
       "      <td>1.73</td>\n",
       "      <td>1.73</td>\n",
       "      <td>3.47</td>\n",
       "      <td>44.75</td>\n",
       "    </tr>\n",
       "    <tr>\n",
       "      <th>min</th>\n",
       "      <td>-8.76</td>\n",
       "      <td>-7.08</td>\n",
       "      <td>-11.97</td>\n",
       "      <td>0.00</td>\n",
       "    </tr>\n",
       "    <tr>\n",
       "      <th>25%</th>\n",
       "      <td>-1.16</td>\n",
       "      <td>-1.17</td>\n",
       "      <td>0.13</td>\n",
       "      <td>59.45</td>\n",
       "    </tr>\n",
       "    <tr>\n",
       "      <th>50%</th>\n",
       "      <td>0.01</td>\n",
       "      <td>-0.01</td>\n",
       "      <td>2.48</td>\n",
       "      <td>94.93</td>\n",
       "    </tr>\n",
       "    <tr>\n",
       "      <th>75%</th>\n",
       "      <td>1.16</td>\n",
       "      <td>1.16</td>\n",
       "      <td>4.86</td>\n",
       "      <td>130.60</td>\n",
       "    </tr>\n",
       "    <tr>\n",
       "      <th>max</th>\n",
       "      <td>7.24</td>\n",
       "      <td>7.84</td>\n",
       "      <td>16.74</td>\n",
       "      <td>190.03</td>\n",
       "    </tr>\n",
       "  </tbody>\n",
       "</table>\n",
       "</div>"
      ],
      "text/plain": [
       "              f0         f1         f2    product\n",
       "count  100000.00  100000.00  100000.00  100000.00\n",
       "mean        0.00      -0.00       2.50      95.00\n",
       "std         1.73       1.73       3.47      44.75\n",
       "min        -8.76      -7.08     -11.97       0.00\n",
       "25%        -1.16      -1.17       0.13      59.45\n",
       "50%         0.01      -0.01       2.48      94.93\n",
       "75%         1.16       1.16       4.86     130.60\n",
       "max         7.24       7.84      16.74     190.03"
      ]
     },
     "metadata": {},
     "output_type": "display_data"
    },
    {
     "data": {
      "text/plain": [
       "'Количество дубликатов: 0'"
      ]
     },
     "metadata": {},
     "output_type": "display_data"
    },
    {
     "data": {
      "text/plain": [
       "'Количество пропущенных значений:'"
      ]
     },
     "metadata": {},
     "output_type": "display_data"
    },
    {
     "data": {
      "text/plain": [
       "id         0\n",
       "f0         0\n",
       "f1         0\n",
       "f2         0\n",
       "product    0\n",
       "dtype: int64"
      ]
     },
     "metadata": {},
     "output_type": "display_data"
    }
   ],
   "source": [
    "# Вывод информации о датасетах:\n",
    "dfs = [data_1, data_2, data_3]\n",
    "about_df(dfs)"
   ]
  },
  {
   "cell_type": "markdown",
   "metadata": {},
   "source": [
    "**Вывод**\n",
    "<br>Данные содержат информацию о геологоразведке трех регионов. Каждый регион включает в себя 100 тыс. скважин. Явных дубликатов и пропущенных значений нет. Имеются аномальные значения.\n",
    "Далее посмотрим, сколько будет скважин с одинаковым `id` и с одинаковыми параметрами кроме `id`"
   ]
  },
  {
   "cell_type": "markdown",
   "metadata": {},
   "source": [
    "### Предобработка данных"
   ]
  },
  {
   "cell_type": "code",
   "execution_count": 6,
   "metadata": {},
   "outputs": [
    {
     "data": {
      "text/html": [
       "<div>\n",
       "<style scoped>\n",
       "    .dataframe tbody tr th:only-of-type {\n",
       "        vertical-align: middle;\n",
       "    }\n",
       "\n",
       "    .dataframe tbody tr th {\n",
       "        vertical-align: top;\n",
       "    }\n",
       "\n",
       "    .dataframe thead th {\n",
       "        text-align: right;\n",
       "    }\n",
       "</style>\n",
       "<table border=\"1\" class=\"dataframe\">\n",
       "  <thead>\n",
       "    <tr style=\"text-align: right;\">\n",
       "      <th></th>\n",
       "      <th>id</th>\n",
       "      <th>f0</th>\n",
       "      <th>f1</th>\n",
       "      <th>f2</th>\n",
       "      <th>product</th>\n",
       "    </tr>\n",
       "  </thead>\n",
       "  <tbody>\n",
       "    <tr>\n",
       "      <th>7530</th>\n",
       "      <td>HZww2</td>\n",
       "      <td>1.061194</td>\n",
       "      <td>-0.373969</td>\n",
       "      <td>10.430210</td>\n",
       "      <td>158.828695</td>\n",
       "    </tr>\n",
       "    <tr>\n",
       "      <th>41724</th>\n",
       "      <td>bxg6G</td>\n",
       "      <td>-0.823752</td>\n",
       "      <td>0.546319</td>\n",
       "      <td>3.630479</td>\n",
       "      <td>93.007798</td>\n",
       "    </tr>\n",
       "    <tr>\n",
       "      <th>51970</th>\n",
       "      <td>A5aEY</td>\n",
       "      <td>-0.180335</td>\n",
       "      <td>0.935548</td>\n",
       "      <td>-2.094773</td>\n",
       "      <td>33.020205</td>\n",
       "    </tr>\n",
       "    <tr>\n",
       "      <th>63593</th>\n",
       "      <td>QcMuo</td>\n",
       "      <td>0.635635</td>\n",
       "      <td>-0.473422</td>\n",
       "      <td>0.862670</td>\n",
       "      <td>64.578675</td>\n",
       "    </tr>\n",
       "    <tr>\n",
       "      <th>66136</th>\n",
       "      <td>74z30</td>\n",
       "      <td>1.084962</td>\n",
       "      <td>-0.312358</td>\n",
       "      <td>6.990771</td>\n",
       "      <td>127.643327</td>\n",
       "    </tr>\n",
       "    <tr>\n",
       "      <th>69163</th>\n",
       "      <td>AGS9W</td>\n",
       "      <td>-0.933795</td>\n",
       "      <td>0.116194</td>\n",
       "      <td>-3.655896</td>\n",
       "      <td>19.230453</td>\n",
       "    </tr>\n",
       "    <tr>\n",
       "      <th>75715</th>\n",
       "      <td>Tdehs</td>\n",
       "      <td>0.112079</td>\n",
       "      <td>0.430296</td>\n",
       "      <td>3.218993</td>\n",
       "      <td>60.964018</td>\n",
       "    </tr>\n",
       "    <tr>\n",
       "      <th>90815</th>\n",
       "      <td>fiKDv</td>\n",
       "      <td>0.049883</td>\n",
       "      <td>0.841313</td>\n",
       "      <td>6.394613</td>\n",
       "      <td>137.346586</td>\n",
       "    </tr>\n",
       "    <tr>\n",
       "      <th>92341</th>\n",
       "      <td>TtcGQ</td>\n",
       "      <td>0.110711</td>\n",
       "      <td>1.022689</td>\n",
       "      <td>0.911381</td>\n",
       "      <td>101.318008</td>\n",
       "    </tr>\n",
       "    <tr>\n",
       "      <th>97785</th>\n",
       "      <td>bsk9y</td>\n",
       "      <td>0.378429</td>\n",
       "      <td>0.005837</td>\n",
       "      <td>0.160827</td>\n",
       "      <td>160.637302</td>\n",
       "    </tr>\n",
       "  </tbody>\n",
       "</table>\n",
       "</div>"
      ],
      "text/plain": [
       "          id        f0        f1         f2     product\n",
       "7530   HZww2  1.061194 -0.373969  10.430210  158.828695\n",
       "41724  bxg6G -0.823752  0.546319   3.630479   93.007798\n",
       "51970  A5aEY -0.180335  0.935548  -2.094773   33.020205\n",
       "63593  QcMuo  0.635635 -0.473422   0.862670   64.578675\n",
       "66136  74z30  1.084962 -0.312358   6.990771  127.643327\n",
       "69163  AGS9W -0.933795  0.116194  -3.655896   19.230453\n",
       "75715  Tdehs  0.112079  0.430296   3.218993   60.964018\n",
       "90815  fiKDv  0.049883  0.841313   6.394613  137.346586\n",
       "92341  TtcGQ  0.110711  1.022689   0.911381  101.318008\n",
       "97785  bsk9y  0.378429  0.005837   0.160827  160.637302"
      ]
     },
     "metadata": {},
     "output_type": "display_data"
    },
    {
     "data": {
      "text/html": [
       "<div>\n",
       "<style scoped>\n",
       "    .dataframe tbody tr th:only-of-type {\n",
       "        vertical-align: middle;\n",
       "    }\n",
       "\n",
       "    .dataframe tbody tr th {\n",
       "        vertical-align: top;\n",
       "    }\n",
       "\n",
       "    .dataframe thead th {\n",
       "        text-align: right;\n",
       "    }\n",
       "</style>\n",
       "<table border=\"1\" class=\"dataframe\">\n",
       "  <thead>\n",
       "    <tr style=\"text-align: right;\">\n",
       "      <th></th>\n",
       "      <th>id</th>\n",
       "      <th>f0</th>\n",
       "      <th>f1</th>\n",
       "      <th>f2</th>\n",
       "      <th>product</th>\n",
       "    </tr>\n",
       "  </thead>\n",
       "  <tbody>\n",
       "    <tr>\n",
       "      <th>41906</th>\n",
       "      <td>LHZR0</td>\n",
       "      <td>-8.989672</td>\n",
       "      <td>-4.286607</td>\n",
       "      <td>2.009139</td>\n",
       "      <td>57.085625</td>\n",
       "    </tr>\n",
       "    <tr>\n",
       "      <th>82178</th>\n",
       "      <td>bfPNe</td>\n",
       "      <td>-6.202799</td>\n",
       "      <td>-4.820045</td>\n",
       "      <td>2.995107</td>\n",
       "      <td>84.038886</td>\n",
       "    </tr>\n",
       "    <tr>\n",
       "      <th>82873</th>\n",
       "      <td>wt4Uk</td>\n",
       "      <td>10.259972</td>\n",
       "      <td>-9.376355</td>\n",
       "      <td>4.994297</td>\n",
       "      <td>134.766305</td>\n",
       "    </tr>\n",
       "    <tr>\n",
       "      <th>84461</th>\n",
       "      <td>5ltQ6</td>\n",
       "      <td>18.213839</td>\n",
       "      <td>2.191999</td>\n",
       "      <td>3.993869</td>\n",
       "      <td>107.813044</td>\n",
       "    </tr>\n",
       "  </tbody>\n",
       "</table>\n",
       "</div>"
      ],
      "text/plain": [
       "          id         f0        f1        f2     product\n",
       "41906  LHZR0  -8.989672 -4.286607  2.009139   57.085625\n",
       "82178  bfPNe  -6.202799 -4.820045  2.995107   84.038886\n",
       "82873  wt4Uk  10.259972 -9.376355  4.994297  134.766305\n",
       "84461  5ltQ6  18.213839  2.191999  3.993869  107.813044"
      ]
     },
     "metadata": {},
     "output_type": "display_data"
    },
    {
     "data": {
      "text/html": [
       "<div>\n",
       "<style scoped>\n",
       "    .dataframe tbody tr th:only-of-type {\n",
       "        vertical-align: middle;\n",
       "    }\n",
       "\n",
       "    .dataframe tbody tr th {\n",
       "        vertical-align: top;\n",
       "    }\n",
       "\n",
       "    .dataframe thead th {\n",
       "        text-align: right;\n",
       "    }\n",
       "</style>\n",
       "<table border=\"1\" class=\"dataframe\">\n",
       "  <thead>\n",
       "    <tr style=\"text-align: right;\">\n",
       "      <th></th>\n",
       "      <th>id</th>\n",
       "      <th>f0</th>\n",
       "      <th>f1</th>\n",
       "      <th>f2</th>\n",
       "      <th>product</th>\n",
       "    </tr>\n",
       "  </thead>\n",
       "  <tbody>\n",
       "    <tr>\n",
       "      <th>43233</th>\n",
       "      <td>xCHr8</td>\n",
       "      <td>-0.847066</td>\n",
       "      <td>2.101796</td>\n",
       "      <td>5.597130</td>\n",
       "      <td>184.388641</td>\n",
       "    </tr>\n",
       "    <tr>\n",
       "      <th>49564</th>\n",
       "      <td>VF7Jo</td>\n",
       "      <td>-0.883115</td>\n",
       "      <td>0.560537</td>\n",
       "      <td>0.723601</td>\n",
       "      <td>136.233420</td>\n",
       "    </tr>\n",
       "    <tr>\n",
       "      <th>55967</th>\n",
       "      <td>KUPhW</td>\n",
       "      <td>1.211150</td>\n",
       "      <td>3.176408</td>\n",
       "      <td>5.543540</td>\n",
       "      <td>132.831802</td>\n",
       "    </tr>\n",
       "    <tr>\n",
       "      <th>95090</th>\n",
       "      <td>Vcm5J</td>\n",
       "      <td>2.587702</td>\n",
       "      <td>1.986875</td>\n",
       "      <td>2.482245</td>\n",
       "      <td>92.327572</td>\n",
       "    </tr>\n",
       "  </tbody>\n",
       "</table>\n",
       "</div>"
      ],
      "text/plain": [
       "          id        f0        f1        f2     product\n",
       "43233  xCHr8 -0.847066  2.101796  5.597130  184.388641\n",
       "49564  VF7Jo -0.883115  0.560537  0.723601  136.233420\n",
       "55967  KUPhW  1.211150  3.176408  5.543540  132.831802\n",
       "95090  Vcm5J  2.587702  1.986875  2.482245   92.327572"
      ]
     },
     "metadata": {},
     "output_type": "display_data"
    },
    {
     "data": {
      "text/plain": [
       "[None, None, None]"
      ]
     },
     "execution_count": 6,
     "metadata": {},
     "output_type": "execute_result"
    }
   ],
   "source": [
    "# Выведем на экран дубликаты по колонке id\n",
    "[display(i[i.duplicated('id')]) for i in dfs]"
   ]
  },
  {
   "cell_type": "markdown",
   "metadata": {},
   "source": [
    "Поскольку дубликатов мало: 10, 4 и 4 дубля на 100 тыс.наблюдений, то их можно удалить"
   ]
  },
  {
   "cell_type": "code",
   "execution_count": 7,
   "metadata": {},
   "outputs": [],
   "source": [
    "for i in dfs:\n",
    "    i.drop_duplicates(subset=['id'], inplace=True)"
   ]
  },
  {
   "cell_type": "code",
   "execution_count": 8,
   "metadata": {},
   "outputs": [
    {
     "data": {
      "text/html": [
       "<div>\n",
       "<style scoped>\n",
       "    .dataframe tbody tr th:only-of-type {\n",
       "        vertical-align: middle;\n",
       "    }\n",
       "\n",
       "    .dataframe tbody tr th {\n",
       "        vertical-align: top;\n",
       "    }\n",
       "\n",
       "    .dataframe thead th {\n",
       "        text-align: right;\n",
       "    }\n",
       "</style>\n",
       "<table border=\"1\" class=\"dataframe\">\n",
       "  <thead>\n",
       "    <tr style=\"text-align: right;\">\n",
       "      <th></th>\n",
       "      <th>id</th>\n",
       "      <th>f0</th>\n",
       "      <th>f1</th>\n",
       "      <th>f2</th>\n",
       "      <th>product</th>\n",
       "    </tr>\n",
       "  </thead>\n",
       "  <tbody>\n",
       "  </tbody>\n",
       "</table>\n",
       "</div>"
      ],
      "text/plain": [
       "Empty DataFrame\n",
       "Columns: [id, f0, f1, f2, product]\n",
       "Index: []"
      ]
     },
     "metadata": {},
     "output_type": "display_data"
    },
    {
     "data": {
      "text/html": [
       "<div>\n",
       "<style scoped>\n",
       "    .dataframe tbody tr th:only-of-type {\n",
       "        vertical-align: middle;\n",
       "    }\n",
       "\n",
       "    .dataframe tbody tr th {\n",
       "        vertical-align: top;\n",
       "    }\n",
       "\n",
       "    .dataframe thead th {\n",
       "        text-align: right;\n",
       "    }\n",
       "</style>\n",
       "<table border=\"1\" class=\"dataframe\">\n",
       "  <thead>\n",
       "    <tr style=\"text-align: right;\">\n",
       "      <th></th>\n",
       "      <th>id</th>\n",
       "      <th>f0</th>\n",
       "      <th>f1</th>\n",
       "      <th>f2</th>\n",
       "      <th>product</th>\n",
       "    </tr>\n",
       "  </thead>\n",
       "  <tbody>\n",
       "  </tbody>\n",
       "</table>\n",
       "</div>"
      ],
      "text/plain": [
       "Empty DataFrame\n",
       "Columns: [id, f0, f1, f2, product]\n",
       "Index: []"
      ]
     },
     "metadata": {},
     "output_type": "display_data"
    },
    {
     "data": {
      "text/html": [
       "<div>\n",
       "<style scoped>\n",
       "    .dataframe tbody tr th:only-of-type {\n",
       "        vertical-align: middle;\n",
       "    }\n",
       "\n",
       "    .dataframe tbody tr th {\n",
       "        vertical-align: top;\n",
       "    }\n",
       "\n",
       "    .dataframe thead th {\n",
       "        text-align: right;\n",
       "    }\n",
       "</style>\n",
       "<table border=\"1\" class=\"dataframe\">\n",
       "  <thead>\n",
       "    <tr style=\"text-align: right;\">\n",
       "      <th></th>\n",
       "      <th>id</th>\n",
       "      <th>f0</th>\n",
       "      <th>f1</th>\n",
       "      <th>f2</th>\n",
       "      <th>product</th>\n",
       "    </tr>\n",
       "  </thead>\n",
       "  <tbody>\n",
       "  </tbody>\n",
       "</table>\n",
       "</div>"
      ],
      "text/plain": [
       "Empty DataFrame\n",
       "Columns: [id, f0, f1, f2, product]\n",
       "Index: []"
      ]
     },
     "metadata": {},
     "output_type": "display_data"
    },
    {
     "data": {
      "text/plain": [
       "[None, None, None]"
      ]
     },
     "execution_count": 8,
     "metadata": {},
     "output_type": "execute_result"
    }
   ],
   "source": [
    "# Посмотрим, сколько есть дубликатов по первым двум столбцам:\n",
    "[display(i[i.duplicated(['f0', 'f1'], keep=False)]) for i in dfs]"
   ]
  },
  {
   "cell_type": "markdown",
   "metadata": {},
   "source": [
    "Повторяющихся строк с идентичными параметрами f0 и f1 нет, поэтому в датасетах также нет строк с полностью повторящимися входоными параметрами для моделирования."
   ]
  },
  {
   "cell_type": "markdown",
   "metadata": {},
   "source": [
    "Создадим списки с `id` скважин с максимальными и минимальными значениями по каждому признаку в каждом датасете."
   ]
  },
  {
   "cell_type": "code",
   "execution_count": 9,
   "metadata": {},
   "outputs": [],
   "source": [
    "anomaly_list = [[], [], []]\n",
    "for i, n in enumerate(dfs):\n",
    "    for j in ['f0', 'f1', 'f2', 'product']:                            \n",
    "        temp = n[n[j] == n[j].min()]['id'].to_list()\n",
    "        anomaly_list[i].extend(temp)\n",
    "        temp = n[n[j] == n[j].max()]['id'].to_list()\n",
    "        anomaly_list[i].extend(temp)"
   ]
  },
  {
   "cell_type": "code",
   "execution_count": 10,
   "metadata": {
    "scrolled": true
   },
   "outputs": [
    {
     "data": {
      "text/plain": [
       "[['oo1fC', '3lwQd', 'uRfPx', 'KqnUi', 'Ri3EF', 'QFDWZ', 'zCM5W', 'rjMou'],\n",
       " ['jJm67',\n",
       "  'X3QK2',\n",
       "  'vkz7N',\n",
       "  'A0TZE',\n",
       "  '8OlS8',\n",
       "  'E7IZn',\n",
       "  'OXyvW',\n",
       "  'igmai',\n",
       "  'Qjy5w',\n",
       "  'G6WCj',\n",
       "  'MzQhL',\n",
       "  'gdvra',\n",
       "  'VHp5v',\n",
       "  'dm9rM',\n",
       "  '6az0U',\n",
       "  'iDXiz',\n",
       "  'y64Of',\n",
       "  'IyegP',\n",
       "  'iBxns',\n",
       "  'M1H78',\n",
       "  '0FwBG',\n",
       "  'iidzz',\n",
       "  'GbM5c',\n",
       "  '68I1D',\n",
       "  'CcaiZ',\n",
       "  'WanNS',\n",
       "  'DDpSa',\n",
       "  'ymiWh',\n",
       "  'HFpHJ',\n",
       "  'SsbG8',\n",
       "  'qKsbw',\n",
       "  'DqUNv',\n",
       "  'N5Ltf',\n",
       "  '47FMq',\n",
       "  'YlJpm',\n",
       "  'cZQPz',\n",
       "  'TftoL',\n",
       "  'pxZda',\n",
       "  'D0Fed',\n",
       "  'U0NMZ',\n",
       "  'hCaTb',\n",
       "  'd1EP7',\n",
       "  'Cc8wd',\n",
       "  'WEjgX',\n",
       "  'BxxkB',\n",
       "  'VJje1',\n",
       "  'cUvqE',\n",
       "  'nVu0a',\n",
       "  'hdpOb',\n",
       "  'dVrLQ',\n",
       "  'rGlog',\n",
       "  'AjvbE',\n",
       "  'eGC8B',\n",
       "  'xIaFn',\n",
       "  'kNIg9',\n",
       "  'YzahX',\n",
       "  'OzLzx',\n",
       "  'EbvFJ',\n",
       "  '6h5mD',\n",
       "  '5tVwu',\n",
       "  'AVHpd',\n",
       "  'maJKK',\n",
       "  'kLSFJ',\n",
       "  'jTAgZ',\n",
       "  'JFk2g',\n",
       "  'yCT8O',\n",
       "  'TUvJ9',\n",
       "  'WxNy5',\n",
       "  'kpMhR',\n",
       "  'nnRqo',\n",
       "  'opgK9',\n",
       "  'lgymO',\n",
       "  'RZyKR',\n",
       "  '2tgOV',\n",
       "  'oqdF3',\n",
       "  'M2UwV',\n",
       "  'h4IfY',\n",
       "  '2nlhb',\n",
       "  'EBxqH',\n",
       "  'fmnNQ',\n",
       "  'kCaWa',\n",
       "  'RjcEL',\n",
       "  '8dfTC',\n",
       "  'iCgg9',\n",
       "  'FyPig',\n",
       "  'jRD7Y',\n",
       "  '7ydMO',\n",
       "  'UwH5a',\n",
       "  'jJUJX',\n",
       "  'JjOgI',\n",
       "  '14AGc',\n",
       "  'WEuqv',\n",
       "  '49wDx',\n",
       "  'MaMim',\n",
       "  '5EZIl',\n",
       "  'HH7Yx',\n",
       "  '7FVRZ',\n",
       "  'bhkpZ',\n",
       "  'nFviQ',\n",
       "  'HWWVs',\n",
       "  'uxOki',\n",
       "  'Wrkc5',\n",
       "  'hCy0a',\n",
       "  'h8miG',\n",
       "  '8m3cP',\n",
       "  'wBPl1',\n",
       "  'VJG6J',\n",
       "  'tF0LS',\n",
       "  'h8vHN',\n",
       "  '39CRp',\n",
       "  '0hsr7',\n",
       "  't3RcS',\n",
       "  '2rhpj',\n",
       "  'iK0cJ',\n",
       "  'BnV1N',\n",
       "  '3MH4L',\n",
       "  'QK81t',\n",
       "  '2RA0K',\n",
       "  'HpRtJ',\n",
       "  'qgroD',\n",
       "  'MyjvS',\n",
       "  'cp0Px',\n",
       "  'ogjjs',\n",
       "  'bCE2C',\n",
       "  'eN3wo',\n",
       "  '5gkIs',\n",
       "  'b3lPp',\n",
       "  'H1ByP',\n",
       "  'fW0IU',\n",
       "  'ZPVGx',\n",
       "  'MmfN8',\n",
       "  'bjgyJ',\n",
       "  'FXN3i',\n",
       "  'Q2EqU',\n",
       "  '360Ls',\n",
       "  'tKumj',\n",
       "  '1jKT2',\n",
       "  'pQYED',\n",
       "  'zhFbB',\n",
       "  'i7qVM',\n",
       "  'akxlj',\n",
       "  'AmxB9',\n",
       "  'HCxrK',\n",
       "  'AgYiK',\n",
       "  'wSenO',\n",
       "  'fK2vu',\n",
       "  'GRmA2',\n",
       "  'jFZGh',\n",
       "  'lHdjJ',\n",
       "  'oIEJV',\n",
       "  'LMDQ6',\n",
       "  'vXulq',\n",
       "  'ipd1T',\n",
       "  'rcc0i',\n",
       "  'Z7M9I',\n",
       "  'hnpfH',\n",
       "  'mwap7',\n",
       "  '20cj3',\n",
       "  'SjRhL',\n",
       "  '1aBSd',\n",
       "  'Yu5Ax',\n",
       "  'StJY4',\n",
       "  'lazgg',\n",
       "  'UKUvU',\n",
       "  'nhCk4',\n",
       "  'l78TS',\n",
       "  'JkdRE',\n",
       "  'Q3uFU',\n",
       "  'k7Qcq',\n",
       "  'HRj4B',\n",
       "  'AoFSn',\n",
       "  'oCH8L',\n",
       "  'capTQ',\n",
       "  'Y7cFK',\n",
       "  'QTUuB',\n",
       "  'aSU9B',\n",
       "  '7maiY',\n",
       "  'gXfQi',\n",
       "  'QwuZL',\n",
       "  'h7ZYk',\n",
       "  'AvHHi',\n",
       "  'mHdN0',\n",
       "  'C7c3B',\n",
       "  'v0fMy',\n",
       "  'Sda4g',\n",
       "  'T6Etf',\n",
       "  '9QJEB',\n",
       "  '1q2Ia',\n",
       "  'vSQGH',\n",
       "  '1oJSy',\n",
       "  'WLcfn',\n",
       "  'mLYO4',\n",
       "  'weF9C',\n",
       "  'NqhKC',\n",
       "  'rBBnF',\n",
       "  'i38EG',\n",
       "  'fU4XY',\n",
       "  'wCkjX',\n",
       "  'LMpP6',\n",
       "  'kwjs2',\n",
       "  'BvrZ9',\n",
       "  '6jkhD',\n",
       "  'XD0xw',\n",
       "  'wbtux',\n",
       "  'A9GFK',\n",
       "  '6hcPC',\n",
       "  'zrlDs',\n",
       "  'PMYjP',\n",
       "  'eT0nx',\n",
       "  'pNPiO',\n",
       "  'UklwZ',\n",
       "  '8NsFJ',\n",
       "  'aCw0M',\n",
       "  '30MWb',\n",
       "  'oMO7V',\n",
       "  'aNchT',\n",
       "  '9Fhvf',\n",
       "  'QFbmj',\n",
       "  'grfGA',\n",
       "  'sD5pK',\n",
       "  'kBEfL',\n",
       "  '6z1hw',\n",
       "  'Aaqfm',\n",
       "  'LRej5',\n",
       "  'Jrd5E',\n",
       "  'xparI',\n",
       "  'DmRqs',\n",
       "  'sbyt1',\n",
       "  'QAnZH',\n",
       "  'KISiF',\n",
       "  'H8fiR',\n",
       "  'ptOU4',\n",
       "  'bJZQs',\n",
       "  'iey19',\n",
       "  'dyXuz',\n",
       "  'wR3Y4',\n",
       "  'y531T',\n",
       "  'EaCe3',\n",
       "  '4pzqV',\n",
       "  'rmoY3',\n",
       "  '1ZEJe',\n",
       "  'Sroiv',\n",
       "  '1yI8c',\n",
       "  'l8pU5',\n",
       "  '9cMVm',\n",
       "  '05GgA',\n",
       "  'VlswH',\n",
       "  'FZizG',\n",
       "  'IJNTi',\n",
       "  'cvkaK',\n",
       "  'qcBcx',\n",
       "  'h22fB',\n",
       "  '2iZbA',\n",
       "  'kxk3z',\n",
       "  'UftZY',\n",
       "  'FM95V',\n",
       "  'aI9xx',\n",
       "  'kwaEH',\n",
       "  'XyxzN',\n",
       "  'AN2EM',\n",
       "  'YmECA',\n",
       "  'vPRV2',\n",
       "  'JKzsa',\n",
       "  'KLLD9',\n",
       "  '46K4z',\n",
       "  'Hw1Zy',\n",
       "  'gnbbU',\n",
       "  'JfoPL',\n",
       "  '8POPB',\n",
       "  'wu7Lv',\n",
       "  'nFfei',\n",
       "  'ictCy',\n",
       "  'Q4nRv',\n",
       "  'ZyRTT',\n",
       "  'ZqIQX',\n",
       "  'kIvRg',\n",
       "  'oaBEQ',\n",
       "  'tPSKC',\n",
       "  'gbnpo',\n",
       "  '0s25K',\n",
       "  'dxVJn',\n",
       "  '8YqEq',\n",
       "  'vtbxd',\n",
       "  'AP7n5',\n",
       "  'RmK9z',\n",
       "  'HNa90',\n",
       "  'MN1gX',\n",
       "  'ksRNu',\n",
       "  'BI0Xx',\n",
       "  'Ea3Bz',\n",
       "  'LGOwt',\n",
       "  'cwKSx',\n",
       "  'WJvVJ',\n",
       "  '3VdXv',\n",
       "  'II8wf',\n",
       "  'WZeA5',\n",
       "  'cHKmP',\n",
       "  'sW5zD',\n",
       "  'R6e1W',\n",
       "  'GmA2q',\n",
       "  '9tBee',\n",
       "  '78jZx',\n",
       "  'n6t7m',\n",
       "  '7SfF3',\n",
       "  'mNZ7T',\n",
       "  'UdKcD',\n",
       "  'vTrki',\n",
       "  'tIdGM',\n",
       "  'xhieB',\n",
       "  'kMeyn',\n",
       "  'VRM4A',\n",
       "  '8upsz',\n",
       "  'CUsfM',\n",
       "  'yOAXp',\n",
       "  'NX1jl',\n",
       "  '2RHRq',\n",
       "  '46Ltv',\n",
       "  'bhjr9',\n",
       "  'ymsqm',\n",
       "  'TCHEp',\n",
       "  '6hkH5',\n",
       "  'CpGZ9',\n",
       "  'rSC8y',\n",
       "  'y41Ub',\n",
       "  'NrGQh',\n",
       "  'ymTgj',\n",
       "  'h4MEw',\n",
       "  '11TyV',\n",
       "  'OlGq9',\n",
       "  'KPeMJ',\n",
       "  'NOVwd',\n",
       "  '3umKY',\n",
       "  'jcUVE',\n",
       "  '0y5q5',\n",
       "  '339U6',\n",
       "  'wMwix',\n",
       "  'Jw4LJ',\n",
       "  'RrCuu',\n",
       "  'HCApr',\n",
       "  'lM6co',\n",
       "  'tDUaS',\n",
       "  'Z5nJd',\n",
       "  'KYWSQ',\n",
       "  'fYfEA',\n",
       "  'TpxNs',\n",
       "  'LQahh',\n",
       "  'TEoNQ',\n",
       "  'JVYOT',\n",
       "  'RyAXu',\n",
       "  '6iMIy',\n",
       "  'fGEcn',\n",
       "  'jbTTw',\n",
       "  'Ckxen',\n",
       "  '23lyT',\n",
       "  'sZo5A',\n",
       "  'CHSXF',\n",
       "  'irICl',\n",
       "  'CGAzU',\n",
       "  'MOPNA',\n",
       "  's3XRs',\n",
       "  'Uqbe3',\n",
       "  'taIv2',\n",
       "  'misRC',\n",
       "  'xv8ok',\n",
       "  'nI1Ga',\n",
       "  'JXInR',\n",
       "  'XUSrc',\n",
       "  'j1921',\n",
       "  'ovuVg',\n",
       "  'wZRMc',\n",
       "  'FpXUQ',\n",
       "  'zHJVf',\n",
       "  'M2LEM',\n",
       "  'zYD2y',\n",
       "  '8PObo',\n",
       "  'pRv7I',\n",
       "  'HzQh1',\n",
       "  'foosf',\n",
       "  'woJkR',\n",
       "  '5HSKh',\n",
       "  'Y7OnZ',\n",
       "  'khpBN',\n",
       "  'mSpRE',\n",
       "  'wgyaO',\n",
       "  'AURnG',\n",
       "  'yoxoM',\n",
       "  'EzzXq',\n",
       "  'x3gTq',\n",
       "  'TxPDP',\n",
       "  'qR3cf',\n",
       "  'PzyJ3',\n",
       "  'uPLMD',\n",
       "  'BKcDv',\n",
       "  'lqBsx',\n",
       "  'ifTE4',\n",
       "  'fosnV',\n",
       "  'UYI1S',\n",
       "  'pQMNJ',\n",
       "  '1lUmM',\n",
       "  'VXuaa',\n",
       "  '20MBk',\n",
       "  'wQpqg',\n",
       "  'HSzVg',\n",
       "  'MTrwK',\n",
       "  'vwSws',\n",
       "  '2SlKA',\n",
       "  'B2KCg',\n",
       "  'm7Ehr',\n",
       "  'EEZYQ',\n",
       "  'n68iP',\n",
       "  '17FM3',\n",
       "  '6NODn',\n",
       "  'ztMaY',\n",
       "  'fI2On',\n",
       "  'Lpyqs',\n",
       "  'QUECt',\n",
       "  'Pup2X',\n",
       "  'wrrDA',\n",
       "  'Hnecy',\n",
       "  'nCNEX',\n",
       "  'RUgER',\n",
       "  'xB3IQ',\n",
       "  'wY78b',\n",
       "  'wO78u',\n",
       "  'G4Ua5',\n",
       "  'jU2xE',\n",
       "  'xI4Ra',\n",
       "  '2NTjy',\n",
       "  'daQ5w',\n",
       "  'iHMX8',\n",
       "  'FZX9j',\n",
       "  'bxJLg',\n",
       "  'JPZIG',\n",
       "  'h01mN',\n",
       "  '7pSTV',\n",
       "  '9AL63',\n",
       "  'BBf8X',\n",
       "  'a2kCB',\n",
       "  'Wras8',\n",
       "  'IDPAx',\n",
       "  'DBdug',\n",
       "  'NF49M',\n",
       "  'bSm3e',\n",
       "  'xqAdz',\n",
       "  '9utA9',\n",
       "  'nnqma',\n",
       "  '8vLeY',\n",
       "  'JJY9J',\n",
       "  'xHw0d',\n",
       "  'ygsXj',\n",
       "  'YwzMS',\n",
       "  'g1Rgn',\n",
       "  'yTVSZ',\n",
       "  'prwrD',\n",
       "  '4hHJP',\n",
       "  'bEzXy',\n",
       "  'WAxdP',\n",
       "  'NO6T4',\n",
       "  'c1X7F',\n",
       "  'DdIye',\n",
       "  'g15Rm',\n",
       "  'QnPYc',\n",
       "  'F6cg0',\n",
       "  'vNPNe',\n",
       "  '1OF59',\n",
       "  'TLBlK',\n",
       "  'eu1SN',\n",
       "  'eNVgR',\n",
       "  'kMCk4',\n",
       "  'G4swc',\n",
       "  'abgLX',\n",
       "  'wTTku',\n",
       "  'Wkhuy',\n",
       "  '6MgS8',\n",
       "  'INiGh',\n",
       "  'EhEXu',\n",
       "  'VlvNI',\n",
       "  'cjhim',\n",
       "  'mkZIJ',\n",
       "  '8fhwZ',\n",
       "  '2NKYb',\n",
       "  'zyS6x',\n",
       "  'vwPNw',\n",
       "  '1sZez',\n",
       "  'cB26c',\n",
       "  'fKR7r',\n",
       "  'Xa84E',\n",
       "  'EFuhx',\n",
       "  'iGgG9',\n",
       "  'RM9Pj',\n",
       "  'Xi5Pp',\n",
       "  '3JBEJ',\n",
       "  '01Psk',\n",
       "  '43xTd',\n",
       "  'A64jn',\n",
       "  '7qLmq',\n",
       "  'nLmmo',\n",
       "  '0xeDh',\n",
       "  'tccCM',\n",
       "  'Prnhi',\n",
       "  'jecO7',\n",
       "  'ujNG7',\n",
       "  '7Hv74',\n",
       "  'JvYfB',\n",
       "  'N1YIl',\n",
       "  'IvNPM',\n",
       "  'SHOdz',\n",
       "  'MJokh',\n",
       "  'lDngA',\n",
       "  'zQH9I',\n",
       "  'shzaF',\n",
       "  '5dTVm',\n",
       "  '4wwSw',\n",
       "  'R2W1S',\n",
       "  'U2fla',\n",
       "  'aORyy',\n",
       "  '5eUCi',\n",
       "  'CCUEu',\n",
       "  'jIgT6',\n",
       "  '6csD6',\n",
       "  'LorgE',\n",
       "  '9ALqN',\n",
       "  'BlTzA',\n",
       "  '2YmxI',\n",
       "  'U8mhc',\n",
       "  'KxZbZ',\n",
       "  'd4qG5',\n",
       "  'CnSj5',\n",
       "  'vPyVY',\n",
       "  'T0Rny',\n",
       "  'vxXf1',\n",
       "  'NCify',\n",
       "  'aLdDJ',\n",
       "  '00hrw',\n",
       "  'MWWWS',\n",
       "  'GB9BV',\n",
       "  'SzJZ7',\n",
       "  'YVDpd',\n",
       "  '1jcgH',\n",
       "  'cQR47',\n",
       "  '11Vgg',\n",
       "  'wh1zm',\n",
       "  'KFLP0',\n",
       "  'FHA7o',\n",
       "  'qYahR',\n",
       "  'inBWQ',\n",
       "  '1JrNO',\n",
       "  'vGsF9',\n",
       "  'pOa4K',\n",
       "  'jbcPK',\n",
       "  'rtANg',\n",
       "  '4jcFg',\n",
       "  'ld4Wr',\n",
       "  'tPdAW',\n",
       "  'LqTuD',\n",
       "  'MvWBR',\n",
       "  'bR5fP',\n",
       "  'qWcmJ',\n",
       "  'MiZf7',\n",
       "  'Oolhi',\n",
       "  'LBT3E',\n",
       "  '4r6r8',\n",
       "  'xTb8u',\n",
       "  'hYMrT',\n",
       "  'lrTKB',\n",
       "  'cR2bl',\n",
       "  '48ask',\n",
       "  'N8Z70',\n",
       "  'KIOc1',\n",
       "  '9YyUy',\n",
       "  'pd8MM',\n",
       "  'JwDcY',\n",
       "  'T0sKG',\n",
       "  'zGbvQ',\n",
       "  '0nyuB',\n",
       "  'en1ez',\n",
       "  'IEQGo',\n",
       "  'A9fYT',\n",
       "  'KM0GR',\n",
       "  'GIwKs',\n",
       "  'aTo0K',\n",
       "  'LVrYt',\n",
       "  'o91CF',\n",
       "  'gwZQk',\n",
       "  'vV6R2',\n",
       "  '5xq13',\n",
       "  'vf0ar',\n",
       "  'kvjTL',\n",
       "  'BxcsJ',\n",
       "  'EIqgc',\n",
       "  '3EbeK',\n",
       "  'Ao1Gm',\n",
       "  'd9qOF',\n",
       "  'Sq7jj',\n",
       "  '6kNrJ',\n",
       "  'p4R7N',\n",
       "  '6dHE8',\n",
       "  'ccN0f',\n",
       "  'MKew8',\n",
       "  'NDnA1',\n",
       "  'fEELS',\n",
       "  'ZHuZh',\n",
       "  'm2Vql',\n",
       "  '1E3op',\n",
       "  'DC6d8',\n",
       "  'IX5cH',\n",
       "  'ItdPA',\n",
       "  'Jd2QG',\n",
       "  '6C8iS',\n",
       "  'cPFaU',\n",
       "  'yHiJJ',\n",
       "  'rdWR2',\n",
       "  'OVFfc',\n",
       "  '1EUEH',\n",
       "  'CTJMV',\n",
       "  'z1jOT',\n",
       "  'wjNBP',\n",
       "  'wNsAr',\n",
       "  'Etmz6',\n",
       "  'lJU2I',\n",
       "  'ZFP55',\n",
       "  'cQlqn',\n",
       "  'xwHHp',\n",
       "  'aA5w5',\n",
       "  'eyoil',\n",
       "  'wLzsA',\n",
       "  'x8SH6',\n",
       "  '2MISW',\n",
       "  'vXoXC',\n",
       "  'xvhU7',\n",
       "  '8LC9c',\n",
       "  'QRuBr',\n",
       "  'cXIRN',\n",
       "  'tZm5F',\n",
       "  'Zn3Qw',\n",
       "  'Dxr04',\n",
       "  '3wj32',\n",
       "  'AE2mZ',\n",
       "  'OIwJO',\n",
       "  'RssE7',\n",
       "  'G7zpM',\n",
       "  'QrhpE',\n",
       "  'xEFWo',\n",
       "  'AtSsL',\n",
       "  'A13ns',\n",
       "  'hiqRa',\n",
       "  'hiovL',\n",
       "  'jRoP7',\n",
       "  '5ZmaC',\n",
       "  'dwWup',\n",
       "  'V8dkU',\n",
       "  'myCtH',\n",
       "  'Jnb5W',\n",
       "  'Rni7l',\n",
       "  'BI0O6',\n",
       "  '48iyI',\n",
       "  'qkg6L',\n",
       "  'kn1sG',\n",
       "  'A0NE5',\n",
       "  'wDNyo',\n",
       "  '9o8hX',\n",
       "  'DPCzi',\n",
       "  'S7gW9',\n",
       "  's4ApJ',\n",
       "  'fISF3',\n",
       "  'WJX4J',\n",
       "  'Jul98',\n",
       "  'uh4ce',\n",
       "  'KpXmM',\n",
       "  '5erwm',\n",
       "  'CKkUs',\n",
       "  'jI70D',\n",
       "  '2tfR9',\n",
       "  'E4ehw',\n",
       "  'jfjeg',\n",
       "  'EsY5K',\n",
       "  'uyR3R',\n",
       "  '4ebYU',\n",
       "  '1avQf',\n",
       "  '0OisN',\n",
       "  '9YXS0',\n",
       "  'BiIXT',\n",
       "  'H7D2D',\n",
       "  'NNvZD',\n",
       "  '6IWJd',\n",
       "  'Kc0JX',\n",
       "  'tPHjB',\n",
       "  'L8g3s',\n",
       "  'lLCuL',\n",
       "  'QOaWc',\n",
       "  'NF4mm',\n",
       "  'KB6J0',\n",
       "  'weCEv',\n",
       "  'tjMEf',\n",
       "  '0UsOR',\n",
       "  'JrpzO',\n",
       "  'w311B',\n",
       "  'SMznG',\n",
       "  'hxSsD',\n",
       "  'sXEzo',\n",
       "  'hVmOd',\n",
       "  'HIgq1',\n",
       "  '82ZF9',\n",
       "  'qETRh',\n",
       "  'yOKVn',\n",
       "  'fVPZL',\n",
       "  'RhOeB',\n",
       "  'MxjnS',\n",
       "  'fEjcf',\n",
       "  'm4tIX',\n",
       "  'rvW4g',\n",
       "  'LXCsO',\n",
       "  'EssfL',\n",
       "  'B53io',\n",
       "  'QuMfx',\n",
       "  'k0StR',\n",
       "  'XY6U2',\n",
       "  'DniTG',\n",
       "  'owI6X',\n",
       "  'MjdfX',\n",
       "  '9tzN5',\n",
       "  'wSg9H',\n",
       "  'WK8Ar',\n",
       "  '7fNd7',\n",
       "  'fWj18',\n",
       "  'Y1Lty',\n",
       "  '0w2Dk',\n",
       "  'naQL3',\n",
       "  '7Sa07',\n",
       "  'kIVQe',\n",
       "  'rLO3o',\n",
       "  'JSieq',\n",
       "  'ovyig',\n",
       "  'prVnA',\n",
       "  'nhHBG',\n",
       "  'N4YcI',\n",
       "  'gaiKH',\n",
       "  'WAlT9',\n",
       "  'F6UwK',\n",
       "  'kW63N',\n",
       "  'MW2sP',\n",
       "  'tTT22',\n",
       "  'RRDlw',\n",
       "  'cOxpe',\n",
       "  'v7YIo',\n",
       "  'DcFn3',\n",
       "  'EbjYR',\n",
       "  'LHPnc',\n",
       "  'gorZI',\n",
       "  'HpwTM',\n",
       "  '028Yu',\n",
       "  'eX3Sr',\n",
       "  'anwLV',\n",
       "  'J1UiI',\n",
       "  'ZBifw',\n",
       "  '4CeOk',\n",
       "  'KlzmS',\n",
       "  'GHJpm',\n",
       "  'ScL8k',\n",
       "  '2WxkH',\n",
       "  '6wctL',\n",
       "  '5PTfh',\n",
       "  'bbOAW',\n",
       "  'ah3v9',\n",
       "  'rzNDn',\n",
       "  'VlBgB',\n",
       "  'lxNR4',\n",
       "  'tmqMk',\n",
       "  'ZD2qn',\n",
       "  '1sMEH',\n",
       "  'w4Sgt',\n",
       "  'TX6Jr',\n",
       "  'Fun7u',\n",
       "  'CvP5v',\n",
       "  '7f6vr',\n",
       "  'Enw15',\n",
       "  'DrNxS',\n",
       "  'VLOuG',\n",
       "  'dwjOd',\n",
       "  'HOPd7',\n",
       "  'kfKKs',\n",
       "  'LnOOz',\n",
       "  'uQ7P4',\n",
       "  'VFCrH',\n",
       "  'OppWw',\n",
       "  'qJiyv',\n",
       "  'WaCkA',\n",
       "  'qXi24',\n",
       "  'XcgzK',\n",
       "  'JcxsU',\n",
       "  'YMV0P',\n",
       "  'JZAPq',\n",
       "  'VlwuD',\n",
       "  '0Hroo',\n",
       "  'htnrd',\n",
       "  'iTy4b',\n",
       "  'Jw9pa',\n",
       "  'OafSM',\n",
       "  'DN6uJ',\n",
       "  'Hnfmr',\n",
       "  'lxVuW',\n",
       "  '7f0Mi',\n",
       "  'Wt65X',\n",
       "  'z4k7s',\n",
       "  'w2YSJ',\n",
       "  'NboXI',\n",
       "  'iiHqZ',\n",
       "  'ELIn1',\n",
       "  'Kc3oA',\n",
       "  'DDMNP',\n",
       "  'k81n5',\n",
       "  'hqUfT',\n",
       "  'UZUfR',\n",
       "  'aA70A',\n",
       "  '1bP0f',\n",
       "  'GAGuA',\n",
       "  'iOQQi',\n",
       "  'XGEsq',\n",
       "  'tCAba',\n",
       "  'Efx9u',\n",
       "  'U6o5r',\n",
       "  'WMo5p',\n",
       "  '725sV',\n",
       "  'evkEM',\n",
       "  'elRzO',\n",
       "  'e2R9q',\n",
       "  'WCJqO',\n",
       "  'q1HwH',\n",
       "  'OkCZt',\n",
       "  'xGtXS',\n",
       "  'rfz1W',\n",
       "  'Z30TN',\n",
       "  'KTp1T',\n",
       "  'JEjVq',\n",
       "  'tgAar',\n",
       "  'RwXXk',\n",
       "  'ruziB',\n",
       "  'XaJvx',\n",
       "  '3cEOJ',\n",
       "  'x1ONd',\n",
       "  'geb25',\n",
       "  'LBSjl',\n",
       "  'MN9Oc',\n",
       "  'pDDKB',\n",
       "  'ojo3a',\n",
       "  'BJhD4',\n",
       "  'ucXU3',\n",
       "  'jEZw5',\n",
       "  'd3JYx',\n",
       "  'WPsCS',\n",
       "  'NDcmx',\n",
       "  'qpjoJ',\n",
       "  'GRMHM',\n",
       "  'M1P5k',\n",
       "  'ypq2O',\n",
       "  'dYNYI',\n",
       "  'vemHT',\n",
       "  'qrNrI',\n",
       "  'sYi5e',\n",
       "  'DEmTv',\n",
       "  'qMB2x',\n",
       "  'gPzHh',\n",
       "  'R0b7e',\n",
       "  'xavxn',\n",
       "  'YvAlV',\n",
       "  '1kqGi',\n",
       "  '95cig',\n",
       "  'Hj3Ee',\n",
       "  'E4yxW',\n",
       "  'X1ygE',\n",
       "  'PmumW',\n",
       "  'J8Cuv',\n",
       "  'u6NiF',\n",
       "  'A9CeA',\n",
       "  'ytOLa',\n",
       "  '7z9vI',\n",
       "  'xVcuD',\n",
       "  'lw8O2',\n",
       "  'c8wEL',\n",
       "  'XV3o9',\n",
       "  'YZmx9',\n",
       "  'aOVDf',\n",
       "  '5CF4X',\n",
       "  'Zikcs',\n",
       "  'ndQ3g',\n",
       "  'lldKT',\n",
       "  '2aE41',\n",
       "  'phC5f',\n",
       "  'OkVuW',\n",
       "  'Px92x',\n",
       "  'lz15u',\n",
       "  'asA9p',\n",
       "  'bkI5r',\n",
       "  'JzJOE',\n",
       "  '1YTfS',\n",
       "  'B2fF0',\n",
       "  'NT4BR',\n",
       "  'pc9Y5',\n",
       "  'j5AVY',\n",
       "  'lRyRx',\n",
       "  'vLYSf',\n",
       "  'WC2J9',\n",
       "  'LEeoL',\n",
       "  '1RTCc',\n",
       "  'oIJdr',\n",
       "  'NiXCl',\n",
       "  '9e2RZ',\n",
       "  '3wpAJ',\n",
       "  'Na4qM',\n",
       "  '2jN9F',\n",
       "  'BSkZu',\n",
       "  'GmTy4',\n",
       "  'BHzIm',\n",
       "  'bnpK2',\n",
       "  'O9DvP',\n",
       "  'nskAG',\n",
       "  'x7sQk',\n",
       "  'b7yqQ',\n",
       "  '2vx0v',\n",
       "  'qLbcT',\n",
       "  'egWMz',\n",
       "  'q4Si1',\n",
       "  'oG6LP',\n",
       "  'PEZvx',\n",
       "  'Ugu6m',\n",
       "  'YquLG',\n",
       "  'PEPnM',\n",
       "  'TIjUc',\n",
       "  'kOvtF',\n",
       "  'U57VS',\n",
       "  'EY8tS',\n",
       "  'FVfQu',\n",
       "  'YzMxS',\n",
       "  'SQ7xr',\n",
       "  'Id67w',\n",
       "  'SycTz',\n",
       "  'bBx2O',\n",
       "  'hNUSD',\n",
       "  'MtQs6',\n",
       "  'TlMi5',\n",
       "  'pAsK3',\n",
       "  '4qJCO',\n",
       "  'HCsU4',\n",
       "  'iiuX2',\n",
       "  'GahTp',\n",
       "  '1b3SX',\n",
       "  '0ssuC',\n",
       "  'Khbbu',\n",
       "  'lTDx2',\n",
       "  'ZmXWx',\n",
       "  'XjT2c',\n",
       "  'eOcTN',\n",
       "  'CDeFQ',\n",
       "  'a99Zy',\n",
       "  'Xf1Xc',\n",
       "  'ZhHmw',\n",
       "  'qjeCk',\n",
       "  'Io7sC',\n",
       "  'od0T9',\n",
       "  'lllrr',\n",
       "  'Bx2nY',\n",
       "  'LWJYy',\n",
       "  'UhZh2',\n",
       "  'C36JC',\n",
       "  'KlltU',\n",
       "  'xoM56',\n",
       "  'Pec7h',\n",
       "  '7qNuv',\n",
       "  'iCab2',\n",
       "  '85qJ1',\n",
       "  '68JIL',\n",
       "  'OtVZI',\n",
       "  'r70XG',\n",
       "  'KpwJv',\n",
       "  '6G9mk',\n",
       "  'CpFks',\n",
       "  'ZoF0y',\n",
       "  '1X0aw',\n",
       "  'M13w6',\n",
       "  'irh1k',\n",
       "  'Ahb3J',\n",
       "  'Ho9hV',\n",
       "  'xcsuN',\n",
       "  'qIAKv',\n",
       "  '0atqJ',\n",
       "  'LtAU5',\n",
       "  'l3dJW',\n",
       "  'OO87q',\n",
       "  'QX5Xo',\n",
       "  'mXnOQ',\n",
       "  'AzUVd',\n",
       "  'GTez2',\n",
       "  '3hRbR',\n",
       "  'S5cjE',\n",
       "  'N9p4H',\n",
       "  'onYYY',\n",
       "  'MbeWz',\n",
       "  'apbYd',\n",
       "  '9m6WA',\n",
       "  'PMZin',\n",
       "  ...],\n",
       " ['onzVI', 'pCvjX', 'W9XXe', 'KuaAc', 'axf5F', '4KBhu', 'qeefd', 'UAhji']]"
      ]
     },
     "execution_count": 10,
     "metadata": {},
     "output_type": "execute_result"
    }
   ],
   "source": [
    "anomaly_list"
   ]
  },
  {
   "cell_type": "markdown",
   "metadata": {},
   "source": [
    "Видно, что во втором датасете слишком много максимальных/минимальных значений. Посмотрим повнимательнее"
   ]
  },
  {
   "cell_type": "code",
   "execution_count": 11,
   "metadata": {},
   "outputs": [
    {
     "data": {
      "text/plain": [
       "16474"
      ]
     },
     "execution_count": 11,
     "metadata": {},
     "output_type": "execute_result"
    }
   ],
   "source": [
    "len(anomaly_list[1])"
   ]
  },
  {
   "cell_type": "code",
   "execution_count": 12,
   "metadata": {},
   "outputs": [
    {
     "data": {
      "text/html": [
       "<div>\n",
       "<style scoped>\n",
       "    .dataframe tbody tr th:only-of-type {\n",
       "        vertical-align: middle;\n",
       "    }\n",
       "\n",
       "    .dataframe tbody tr th {\n",
       "        vertical-align: top;\n",
       "    }\n",
       "\n",
       "    .dataframe thead th {\n",
       "        text-align: right;\n",
       "    }\n",
       "</style>\n",
       "<table border=\"1\" class=\"dataframe\">\n",
       "  <thead>\n",
       "    <tr style=\"text-align: right;\">\n",
       "      <th></th>\n",
       "      <th>f0</th>\n",
       "      <th>f1</th>\n",
       "      <th>f2</th>\n",
       "      <th>product</th>\n",
       "    </tr>\n",
       "  </thead>\n",
       "  <tbody>\n",
       "    <tr>\n",
       "      <th>count</th>\n",
       "      <td>99996.000000</td>\n",
       "      <td>99996.000000</td>\n",
       "      <td>99996.000000</td>\n",
       "      <td>99996.000000</td>\n",
       "    </tr>\n",
       "    <tr>\n",
       "      <th>mean</th>\n",
       "      <td>1.141209</td>\n",
       "      <td>-4.796608</td>\n",
       "      <td>2.494501</td>\n",
       "      <td>68.823916</td>\n",
       "    </tr>\n",
       "    <tr>\n",
       "      <th>std</th>\n",
       "      <td>8.965815</td>\n",
       "      <td>5.119906</td>\n",
       "      <td>1.703579</td>\n",
       "      <td>45.944663</td>\n",
       "    </tr>\n",
       "    <tr>\n",
       "      <th>min</th>\n",
       "      <td>-31.609576</td>\n",
       "      <td>-26.358598</td>\n",
       "      <td>-0.018144</td>\n",
       "      <td>0.000000</td>\n",
       "    </tr>\n",
       "    <tr>\n",
       "      <th>25%</th>\n",
       "      <td>-6.298551</td>\n",
       "      <td>-8.267985</td>\n",
       "      <td>1.000021</td>\n",
       "      <td>26.953261</td>\n",
       "    </tr>\n",
       "    <tr>\n",
       "      <th>50%</th>\n",
       "      <td>1.153055</td>\n",
       "      <td>-4.813172</td>\n",
       "      <td>2.011475</td>\n",
       "      <td>57.085625</td>\n",
       "    </tr>\n",
       "    <tr>\n",
       "      <th>75%</th>\n",
       "      <td>8.620964</td>\n",
       "      <td>-1.332816</td>\n",
       "      <td>3.999904</td>\n",
       "      <td>107.813044</td>\n",
       "    </tr>\n",
       "    <tr>\n",
       "      <th>max</th>\n",
       "      <td>29.421755</td>\n",
       "      <td>18.734063</td>\n",
       "      <td>5.019721</td>\n",
       "      <td>137.945408</td>\n",
       "    </tr>\n",
       "  </tbody>\n",
       "</table>\n",
       "</div>"
      ],
      "text/plain": [
       "                 f0            f1            f2       product\n",
       "count  99996.000000  99996.000000  99996.000000  99996.000000\n",
       "mean       1.141209     -4.796608      2.494501     68.823916\n",
       "std        8.965815      5.119906      1.703579     45.944663\n",
       "min      -31.609576    -26.358598     -0.018144      0.000000\n",
       "25%       -6.298551     -8.267985      1.000021     26.953261\n",
       "50%        1.153055     -4.813172      2.011475     57.085625\n",
       "75%        8.620964     -1.332816      3.999904    107.813044\n",
       "max       29.421755     18.734063      5.019721    137.945408"
      ]
     },
     "execution_count": 12,
     "metadata": {},
     "output_type": "execute_result"
    }
   ],
   "source": [
    "data_2.describe()"
   ]
  },
  {
   "cell_type": "code",
   "execution_count": 13,
   "metadata": {},
   "outputs": [
    {
     "data": {
      "text/html": [
       "<div>\n",
       "<style scoped>\n",
       "    .dataframe tbody tr th:only-of-type {\n",
       "        vertical-align: middle;\n",
       "    }\n",
       "\n",
       "    .dataframe tbody tr th {\n",
       "        vertical-align: top;\n",
       "    }\n",
       "\n",
       "    .dataframe thead th {\n",
       "        text-align: right;\n",
       "    }\n",
       "</style>\n",
       "<table border=\"1\" class=\"dataframe\">\n",
       "  <thead>\n",
       "    <tr style=\"text-align: right;\">\n",
       "      <th></th>\n",
       "      <th>id</th>\n",
       "      <th>f0</th>\n",
       "      <th>f1</th>\n",
       "      <th>f2</th>\n",
       "      <th>product</th>\n",
       "    </tr>\n",
       "  </thead>\n",
       "  <tbody>\n",
       "    <tr>\n",
       "      <th>3</th>\n",
       "      <td>KcrkZ</td>\n",
       "      <td>-13.081196</td>\n",
       "      <td>-11.506057</td>\n",
       "      <td>4.999415</td>\n",
       "      <td>137.945408</td>\n",
       "    </tr>\n",
       "    <tr>\n",
       "      <th>9</th>\n",
       "      <td>jG6Gi</td>\n",
       "      <td>1.069227</td>\n",
       "      <td>-11.025667</td>\n",
       "      <td>4.997844</td>\n",
       "      <td>137.945408</td>\n",
       "    </tr>\n",
       "    <tr>\n",
       "      <th>32</th>\n",
       "      <td>2DKVI</td>\n",
       "      <td>10.209863</td>\n",
       "      <td>-13.659814</td>\n",
       "      <td>5.000668</td>\n",
       "      <td>137.945408</td>\n",
       "    </tr>\n",
       "    <tr>\n",
       "      <th>51</th>\n",
       "      <td>5IdNU</td>\n",
       "      <td>-16.330562</td>\n",
       "      <td>-3.434733</td>\n",
       "      <td>5.005144</td>\n",
       "      <td>137.945408</td>\n",
       "    </tr>\n",
       "    <tr>\n",
       "      <th>55</th>\n",
       "      <td>hsHjt</td>\n",
       "      <td>-10.723470</td>\n",
       "      <td>-1.382114</td>\n",
       "      <td>5.001028</td>\n",
       "      <td>137.945408</td>\n",
       "    </tr>\n",
       "    <tr>\n",
       "      <th>...</th>\n",
       "      <td>...</td>\n",
       "      <td>...</td>\n",
       "      <td>...</td>\n",
       "      <td>...</td>\n",
       "      <td>...</td>\n",
       "    </tr>\n",
       "    <tr>\n",
       "      <th>99952</th>\n",
       "      <td>qwCXl</td>\n",
       "      <td>-6.064339</td>\n",
       "      <td>-7.083590</td>\n",
       "      <td>5.005621</td>\n",
       "      <td>137.945408</td>\n",
       "    </tr>\n",
       "    <tr>\n",
       "      <th>99957</th>\n",
       "      <td>YSDUl</td>\n",
       "      <td>-10.640069</td>\n",
       "      <td>-10.947818</td>\n",
       "      <td>5.000129</td>\n",
       "      <td>137.945408</td>\n",
       "    </tr>\n",
       "    <tr>\n",
       "      <th>99993</th>\n",
       "      <td>FOKH6</td>\n",
       "      <td>-8.421251</td>\n",
       "      <td>-2.813906</td>\n",
       "      <td>4.997337</td>\n",
       "      <td>137.945408</td>\n",
       "    </tr>\n",
       "    <tr>\n",
       "      <th>99996</th>\n",
       "      <td>ptvty</td>\n",
       "      <td>-10.160631</td>\n",
       "      <td>-12.558096</td>\n",
       "      <td>5.005581</td>\n",
       "      <td>137.945408</td>\n",
       "    </tr>\n",
       "    <tr>\n",
       "      <th>99997</th>\n",
       "      <td>09gWa</td>\n",
       "      <td>-7.378891</td>\n",
       "      <td>-3.084104</td>\n",
       "      <td>4.998651</td>\n",
       "      <td>137.945408</td>\n",
       "    </tr>\n",
       "  </tbody>\n",
       "</table>\n",
       "<p>8233 rows × 5 columns</p>\n",
       "</div>"
      ],
      "text/plain": [
       "          id         f0         f1        f2     product\n",
       "3      KcrkZ -13.081196 -11.506057  4.999415  137.945408\n",
       "9      jG6Gi   1.069227 -11.025667  4.997844  137.945408\n",
       "32     2DKVI  10.209863 -13.659814  5.000668  137.945408\n",
       "51     5IdNU -16.330562  -3.434733  5.005144  137.945408\n",
       "55     hsHjt -10.723470  -1.382114  5.001028  137.945408\n",
       "...      ...        ...        ...       ...         ...\n",
       "99952  qwCXl  -6.064339  -7.083590  5.005621  137.945408\n",
       "99957  YSDUl -10.640069 -10.947818  5.000129  137.945408\n",
       "99993  FOKH6  -8.421251  -2.813906  4.997337  137.945408\n",
       "99996  ptvty -10.160631 -12.558096  5.005581  137.945408\n",
       "99997  09gWa  -7.378891  -3.084104  4.998651  137.945408\n",
       "\n",
       "[8233 rows x 5 columns]"
      ]
     },
     "execution_count": 13,
     "metadata": {},
     "output_type": "execute_result"
    }
   ],
   "source": [
    "data_2.query('product > 137.9454')"
   ]
  },
  {
   "cell_type": "code",
   "execution_count": 14,
   "metadata": {},
   "outputs": [
    {
     "data": {
      "text/html": [
       "<div>\n",
       "<style scoped>\n",
       "    .dataframe tbody tr th:only-of-type {\n",
       "        vertical-align: middle;\n",
       "    }\n",
       "\n",
       "    .dataframe tbody tr th {\n",
       "        vertical-align: top;\n",
       "    }\n",
       "\n",
       "    .dataframe thead th {\n",
       "        text-align: right;\n",
       "    }\n",
       "</style>\n",
       "<table border=\"1\" class=\"dataframe\">\n",
       "  <thead>\n",
       "    <tr style=\"text-align: right;\">\n",
       "      <th></th>\n",
       "      <th>id</th>\n",
       "      <th>f0</th>\n",
       "      <th>f1</th>\n",
       "      <th>f2</th>\n",
       "      <th>product</th>\n",
       "    </tr>\n",
       "  </thead>\n",
       "  <tbody>\n",
       "    <tr>\n",
       "      <th>11</th>\n",
       "      <td>OXyvW</td>\n",
       "      <td>16.320755</td>\n",
       "      <td>-0.562946</td>\n",
       "      <td>-0.001783</td>\n",
       "      <td>0.0</td>\n",
       "    </tr>\n",
       "    <tr>\n",
       "      <th>13</th>\n",
       "      <td>igmai</td>\n",
       "      <td>6.695604</td>\n",
       "      <td>-0.749449</td>\n",
       "      <td>-0.007630</td>\n",
       "      <td>0.0</td>\n",
       "    </tr>\n",
       "    <tr>\n",
       "      <th>62</th>\n",
       "      <td>Qjy5w</td>\n",
       "      <td>21.418478</td>\n",
       "      <td>-5.134490</td>\n",
       "      <td>-0.002836</td>\n",
       "      <td>0.0</td>\n",
       "    </tr>\n",
       "    <tr>\n",
       "      <th>63</th>\n",
       "      <td>G6WCj</td>\n",
       "      <td>6.822701</td>\n",
       "      <td>3.104979</td>\n",
       "      <td>-0.000723</td>\n",
       "      <td>0.0</td>\n",
       "    </tr>\n",
       "    <tr>\n",
       "      <th>77</th>\n",
       "      <td>MzQhL</td>\n",
       "      <td>6.750150</td>\n",
       "      <td>-11.893512</td>\n",
       "      <td>-0.001601</td>\n",
       "      <td>0.0</td>\n",
       "    </tr>\n",
       "    <tr>\n",
       "      <th>...</th>\n",
       "      <td>...</td>\n",
       "      <td>...</td>\n",
       "      <td>...</td>\n",
       "      <td>...</td>\n",
       "      <td>...</td>\n",
       "    </tr>\n",
       "    <tr>\n",
       "      <th>99936</th>\n",
       "      <td>YrRU8</td>\n",
       "      <td>5.085749</td>\n",
       "      <td>-3.980305</td>\n",
       "      <td>0.005063</td>\n",
       "      <td>0.0</td>\n",
       "    </tr>\n",
       "    <tr>\n",
       "      <th>99948</th>\n",
       "      <td>Jbnur</td>\n",
       "      <td>8.277805</td>\n",
       "      <td>-9.178818</td>\n",
       "      <td>0.003275</td>\n",
       "      <td>0.0</td>\n",
       "    </tr>\n",
       "    <tr>\n",
       "      <th>99956</th>\n",
       "      <td>aV1cJ</td>\n",
       "      <td>13.343983</td>\n",
       "      <td>-1.290200</td>\n",
       "      <td>0.005980</td>\n",
       "      <td>0.0</td>\n",
       "    </tr>\n",
       "    <tr>\n",
       "      <th>99961</th>\n",
       "      <td>Zjbn2</td>\n",
       "      <td>13.854163</td>\n",
       "      <td>-11.528089</td>\n",
       "      <td>-0.005556</td>\n",
       "      <td>0.0</td>\n",
       "    </tr>\n",
       "    <tr>\n",
       "      <th>99973</th>\n",
       "      <td>VsayB</td>\n",
       "      <td>12.698645</td>\n",
       "      <td>-4.384673</td>\n",
       "      <td>-0.002600</td>\n",
       "      <td>0.0</td>\n",
       "    </tr>\n",
       "  </tbody>\n",
       "</table>\n",
       "<p>8235 rows × 5 columns</p>\n",
       "</div>"
      ],
      "text/plain": [
       "          id         f0         f1        f2  product\n",
       "11     OXyvW  16.320755  -0.562946 -0.001783      0.0\n",
       "13     igmai   6.695604  -0.749449 -0.007630      0.0\n",
       "62     Qjy5w  21.418478  -5.134490 -0.002836      0.0\n",
       "63     G6WCj   6.822701   3.104979 -0.000723      0.0\n",
       "77     MzQhL   6.750150 -11.893512 -0.001601      0.0\n",
       "...      ...        ...        ...       ...      ...\n",
       "99936  YrRU8   5.085749  -3.980305  0.005063      0.0\n",
       "99948  Jbnur   8.277805  -9.178818  0.003275      0.0\n",
       "99956  aV1cJ  13.343983  -1.290200  0.005980      0.0\n",
       "99961  Zjbn2  13.854163 -11.528089 -0.005556      0.0\n",
       "99973  VsayB  12.698645  -4.384673 -0.002600      0.0\n",
       "\n",
       "[8235 rows x 5 columns]"
      ]
     },
     "execution_count": 14,
     "metadata": {},
     "output_type": "execute_result"
    }
   ],
   "source": [
    "data_2.query('product == 0.0')"
   ]
  },
  {
   "cell_type": "markdown",
   "metadata": {},
   "source": [
    "Оказалось, что во втором датасете 8233 значения с максимальной продуктивностью = 137.945408 и 8235 с минимальной продуктивностью = 0. Поскольку таких данных слишком много, то удалить их мы не можем. Тогда добавим в список аномалий из data_2 только id с аномальными параметрами `f0, f1, f2`"
   ]
  },
  {
   "cell_type": "code",
   "execution_count": 15,
   "metadata": {},
   "outputs": [],
   "source": [
    "anomaly_list[1] = []\n",
    "for j in ['f0', 'f1', 'f2']:                            \n",
    "    temp = data_2[data_2[j] == data_2[j].min()]['id'].to_list()\n",
    "    anomaly_list[1].extend(temp)\n",
    "    temp = data_2[data_2[j] == data_2[j].max()]['id'].to_list()\n",
    "    anomaly_list[1].extend(temp)"
   ]
  },
  {
   "cell_type": "code",
   "execution_count": 16,
   "metadata": {},
   "outputs": [
    {
     "data": {
      "text/plain": [
       "[['oo1fC', '3lwQd', 'uRfPx', 'KqnUi', 'Ri3EF', 'QFDWZ', 'zCM5W', 'rjMou'],\n",
       " ['jJm67', 'X3QK2', 'vkz7N', 'A0TZE', '8OlS8', 'E7IZn'],\n",
       " ['onzVI', 'pCvjX', 'W9XXe', 'KuaAc', 'axf5F', '4KBhu', 'qeefd', 'UAhji']]"
      ]
     },
     "execution_count": 16,
     "metadata": {},
     "output_type": "execute_result"
    }
   ],
   "source": [
    "anomaly_list"
   ]
  },
  {
   "cell_type": "code",
   "execution_count": 17,
   "metadata": {},
   "outputs": [
    {
     "data": {
      "text/plain": [
       "(99982, 99990, 99988)"
      ]
     },
     "execution_count": 17,
     "metadata": {},
     "output_type": "execute_result"
    }
   ],
   "source": [
    "# Удалим строки с аномальными значениями из датасетов:\n",
    "for i in anomaly_list[0]:\n",
    "    data_1 = data_1[data_1['id'] != i]\n",
    "for i in anomaly_list[1]:\n",
    "    data_2 = data_2[data_2['id'] != i]\n",
    "for i in anomaly_list[2]:\n",
    "    data_3 = data_3[data_3['id'] != i]\n",
    "\n",
    "len(data_1), len(data_2), len(data_3)"
   ]
  },
  {
   "cell_type": "markdown",
   "metadata": {},
   "source": [
    "**Вывод**\n",
    "<br>Дублирующиеся значения по id найдены и удалены. Строки с аномально высокими / низкими значениями также удалены."
   ]
  },
  {
   "cell_type": "markdown",
   "metadata": {},
   "source": [
    "### Исследовательский анализ данных"
   ]
  },
  {
   "cell_type": "markdown",
   "metadata": {},
   "source": [
    "Посмотрим на распределения признаков во всех 3 датасетах"
   ]
  },
  {
   "cell_type": "code",
   "execution_count": 18,
   "metadata": {
    "scrolled": false
   },
   "outputs": [
    {
     "name": "stdout",
     "output_type": "stream",
     "text": [
      "Распределение признаков в регионе № 1:\n"
     ]
    },
    {
     "data": {
      "image/png": "[encoded data removed]",
      "text/plain": [
       "<Figure size 720x720 with 4 Axes>"
      ]
     },
     "metadata": {
      "needs_background": "light"
     },
     "output_type": "display_data"
    },
    {
     "name": "stdout",
     "output_type": "stream",
     "text": [
      "Распределение признаков в регионе № 2:\n"
     ]
    },
    {
     "data": {
      "image/png": "[encoded data removed]",
      "text/plain": [
       "<Figure size 720x720 with 4 Axes>"
      ]
     },
     "metadata": {
      "needs_background": "light"
     },
     "output_type": "display_data"
    },
    {
     "name": "stdout",
     "output_type": "stream",
     "text": [
      "Распределение признаков в регионе № 3:\n"
     ]
    },
    {
     "data": {
      "image/png": "[encoded data removed]",
      "text/plain": [
       "<Figure size 720x720 with 4 Axes>"
      ]
     },
     "metadata": {
      "needs_background": "light"
     },
     "output_type": "display_data"
    }
   ],
   "source": [
    "for i, df in enumerate(dfs):\n",
    "    print(f'Распределение признаков в регионе № {i+1}:')\n",
    "    df.hist(bins=30, figsize=(10, 10))\n",
    "    plt.show()"
   ]
  },
  {
   "cell_type": "markdown",
   "metadata": {},
   "source": [
    "Как видно из построенных гистрамм, распределения по всем 3 регионам отличаются. Распределения значений f2 и product во втором датасете имеют более дискретный характер."
   ]
  },
  {
   "cell_type": "code",
   "execution_count": 19,
   "metadata": {},
   "outputs": [
    {
     "data": {
      "image/png": "[encoded data removed]",
      "text/plain": [
       "<Figure size 432x288 with 1 Axes>"
      ]
     },
     "metadata": {
      "needs_background": "light"
     },
     "output_type": "display_data"
    }
   ],
   "source": [
    "sns.boxplot(data=[data_1['product'], data_2['product'], data_3['product']]);"
   ]
  },
  {
   "cell_type": "markdown",
   "metadata": {},
   "source": [
    "**Вывод**\n",
    "<br>Как видно из проведенного анализа, распределения по всем 3 регионам отличаются. Распределения значений f2 и product во втором датасете имеют более дискретный характер. В третьем датасете f0, f1, f2 имеют нормальное распределение.\n",
    "<br>Построеные боксплоты говорят о том, что наименьший разброс значений имеет второй датасет. При этом в нем больше разброс в большей половине значений продуктивности."
   ]
  },
  {
   "cell_type": "markdown",
   "metadata": {},
   "source": [
    "## Обучение и проверка модели"
   ]
  },
  {
   "cell_type": "markdown",
   "metadata": {},
   "source": [
    "Инициируем линейную модель (по условию) для обучения всех 3х датасетов, разобъем данные на выборки, обучим модель на train, сделаем расчет продуктивности для валидационных данных для каждой скважины и выведем на экран среденее значение и RMSE для каждого региона. Заодно дабавим расчеты продуктивности по модели в датасеты: val_data_1,_2,_3.\n",
    "<br>Масштабирование проводить не будем, поскольку признаки близки др. к другу по значениям."
   ]
  },
  {
   "cell_type": "code",
   "execution_count": 20,
   "metadata": {},
   "outputs": [],
   "source": [
    "# Модель, 2 константы и список с нужными датасетами:\n",
    "model = LinearRegression()\n",
    "RANDOM_STATE = 1\n",
    "TEST_SIZE = 0.25\n",
    "dfs = [data_1, data_2, data_3]"
   ]
  },
  {
   "cell_type": "code",
   "execution_count": 21,
   "metadata": {},
   "outputs": [
    {
     "name": "stdout",
     "output_type": "stream",
     "text": [
      "Регион №1:\n",
      "train size: (74986, 3);  val size: (24996, 3)\n",
      "Среденее значение по модели: 92.683;  RMSE: 37.745\n",
      "\n",
      "Регион №2:\n",
      "train size: (74992, 3);  val size: (24998, 3)\n",
      "Среденее значение по модели: 68.915;  RMSE: 0.888\n",
      "\n",
      "Регион №3:\n",
      "train size: (74991, 3);  val size: (24997, 3)\n",
      "Среденее значение по модели: 95.006;  RMSE: 39.781\n",
      "\n"
     ]
    }
   ],
   "source": [
    "for i, df in enumerate(dfs):\n",
    "    print(f'Регион №{i+1}:')\n",
    "    X_train, X_val, y_train, y_val = train_test_split(\n",
    "        df.drop(['id', 'product'], axis=1),\n",
    "        df['product'],\n",
    "        test_size = TEST_SIZE, \n",
    "        random_state = RANDOM_STATE)\n",
    "    print(f'train size: {X_train.shape};  val size: {X_val.shape}')   \n",
    "    model.fit(X_train, y_train)\n",
    "    predictions_lr = model.predict(X_val)\n",
    "    X_val['product'] = y_val\n",
    "    X_val['model_product'] = predictions_lr\n",
    "    globals()['val_data_'+str(i+1)] = X_val\n",
    "    print(f'Среденее значение по модели: {predictions_lr.mean().round(3)}; \\\n",
    " RMSE: {mean_squared_error(y_val, predictions_lr, squared=False).round(3)}')\n",
    "    print()"
   ]
  },
  {
   "cell_type": "code",
   "execution_count": 22,
   "metadata": {},
   "outputs": [
    {
     "data": {
      "text/html": [
       "<div>\n",
       "<style scoped>\n",
       "    .dataframe tbody tr th:only-of-type {\n",
       "        vertical-align: middle;\n",
       "    }\n",
       "\n",
       "    .dataframe tbody tr th {\n",
       "        vertical-align: top;\n",
       "    }\n",
       "\n",
       "    .dataframe thead th {\n",
       "        text-align: right;\n",
       "    }\n",
       "</style>\n",
       "<table border=\"1\" class=\"dataframe\">\n",
       "  <thead>\n",
       "    <tr style=\"text-align: right;\">\n",
       "      <th></th>\n",
       "      <th>f0</th>\n",
       "      <th>f1</th>\n",
       "      <th>f2</th>\n",
       "      <th>product</th>\n",
       "      <th>model_product</th>\n",
       "    </tr>\n",
       "  </thead>\n",
       "  <tbody>\n",
       "    <tr>\n",
       "      <th>31047</th>\n",
       "      <td>11.996961</td>\n",
       "      <td>-0.662203</td>\n",
       "      <td>3.993605</td>\n",
       "      <td>107.813044</td>\n",
       "      <td>107.563499</td>\n",
       "    </tr>\n",
       "    <tr>\n",
       "      <th>3920</th>\n",
       "      <td>-5.140367</td>\n",
       "      <td>-5.003588</td>\n",
       "      <td>4.999103</td>\n",
       "      <td>137.945408</td>\n",
       "      <td>137.244139</td>\n",
       "    </tr>\n",
       "    <tr>\n",
       "      <th>37571</th>\n",
       "      <td>-11.496365</td>\n",
       "      <td>-16.056940</td>\n",
       "      <td>2.002668</td>\n",
       "      <td>57.085625</td>\n",
       "      <td>57.639117</td>\n",
       "    </tr>\n",
       "  </tbody>\n",
       "</table>\n",
       "</div>"
      ],
      "text/plain": [
       "              f0         f1        f2     product  model_product\n",
       "31047  11.996961  -0.662203  3.993605  107.813044     107.563499\n",
       "3920   -5.140367  -5.003588  4.999103  137.945408     137.244139\n",
       "37571 -11.496365 -16.056940  2.002668   57.085625      57.639117"
      ]
     },
     "execution_count": 22,
     "metadata": {},
     "output_type": "execute_result"
    }
   ],
   "source": [
    "val_data_2.head(3)"
   ]
  },
  {
   "cell_type": "code",
   "execution_count": 23,
   "metadata": {},
   "outputs": [
    {
     "data": {
      "text/plain": [
       "(24996, 24998, 24997)"
      ]
     },
     "execution_count": 23,
     "metadata": {},
     "output_type": "execute_result"
    }
   ],
   "source": [
    "# Размеры валидационных датасетов с расчетами продуктивности (для проверки). Должны быть 24996, 24998 и 24997 \n",
    "len(val_data_1), len(val_data_2), len(val_data_3)"
   ]
  },
  {
   "cell_type": "markdown",
   "metadata": {},
   "source": [
    "**Вывод**\n",
    "<br>В результате применения линейной модели нименьшее значение ошибки получилось у второго региона. Это связано с меньшим разбросом данных, чем в прочих датасетах и наличием групп с почти одинаковой продуктивностью. При этом первый и третий регионы  имеют больший запас нефти."
   ]
  },
  {
   "cell_type": "markdown",
   "metadata": {},
   "source": [
    "## Подготовка к расчёту прибыли"
   ]
  },
  {
   "cell_type": "code",
   "execution_count": 24,
   "metadata": {},
   "outputs": [],
   "source": [
    "# необходимые константы\n",
    "FIELD_COST = 10**7   # Стоимость разработки всего месторождения (в тыс. руб) \n",
    "INCOME = 450         # Доход с ед. добываемой продукции скважины (в тыс. руб):\n",
    "WELLS = 200          # Количество лучших скважин\n",
    "DOTS = 500           # Количество скважин, исследуемых при разведке региона "
   ]
  },
  {
   "cell_type": "code",
   "execution_count": 25,
   "metadata": {},
   "outputs": [
    {
     "data": {
      "text/plain": [
       "111.11111111111111"
      ]
     },
     "execution_count": 25,
     "metadata": {},
     "output_type": "execute_result"
    }
   ],
   "source": [
    "FIELD_COST/WELLS/INCOME"
   ]
  },
  {
   "cell_type": "code",
   "execution_count": 26,
   "metadata": {},
   "outputs": [
    {
     "data": {
      "text/plain": [
       "(92.49971263256032, 68.82444610900323, 94.99809935903019)"
      ]
     },
     "execution_count": 26,
     "metadata": {},
     "output_type": "execute_result"
    }
   ],
   "source": [
    "data_1['product'].mean(), data_2['product'].mean(), data_3['product'].mean()"
   ]
  },
  {
   "cell_type": "markdown",
   "metadata": {},
   "source": [
    "Для возврата кап. вложений в 200 скважин региона (при затратах на них 10 млрд. руб, т.е. по 50 млн. на скв.) необходимо, чтобы в среднем каждая из 200 скважин дала 111,1 тыс. баррелей.\n",
    "Расчет средних значений продуктивности по всем сважинам регионов показывает, что большая часть скважин не рентабельная при условии траты по 50 млн. руб на скв."
   ]
  },
  {
   "cell_type": "markdown",
   "metadata": {},
   "source": [
    "Посмотрим, какой из регионов наиболее перспективен"
   ]
  },
  {
   "cell_type": "code",
   "execution_count": 27,
   "metadata": {},
   "outputs": [],
   "source": [
    "# Датасеты с расчетами продуктивности, найденой ранее\n",
    "dfs = [val_data_1, val_data_2, val_data_3]"
   ]
  },
  {
   "cell_type": "markdown",
   "metadata": {},
   "source": [
    "Напишишем функцию для расчёта прибыли по выбранным скважинам и предсказаниям модели"
   ]
  },
  {
   "cell_type": "code",
   "execution_count": 28,
   "metadata": {},
   "outputs": [
    {
     "data": {
      "text/html": [
       "<div>\n",
       "<style scoped>\n",
       "    .dataframe tbody tr th:only-of-type {\n",
       "        vertical-align: middle;\n",
       "    }\n",
       "\n",
       "    .dataframe tbody tr th {\n",
       "        vertical-align: top;\n",
       "    }\n",
       "\n",
       "    .dataframe thead th {\n",
       "        text-align: right;\n",
       "    }\n",
       "</style>\n",
       "<table border=\"1\" class=\"dataframe\">\n",
       "  <thead>\n",
       "    <tr style=\"text-align: right;\">\n",
       "      <th></th>\n",
       "      <th>f0</th>\n",
       "      <th>f1</th>\n",
       "      <th>f2</th>\n",
       "      <th>product</th>\n",
       "      <th>model_product</th>\n",
       "    </tr>\n",
       "  </thead>\n",
       "  <tbody>\n",
       "    <tr>\n",
       "      <th>44614</th>\n",
       "      <td>0.017192</td>\n",
       "      <td>0.389803</td>\n",
       "      <td>6.787717</td>\n",
       "      <td>175.160472</td>\n",
       "      <td>117.038477</td>\n",
       "    </tr>\n",
       "    <tr>\n",
       "      <th>51826</th>\n",
       "      <td>-0.422079</td>\n",
       "      <td>1.109285</td>\n",
       "      <td>-4.229504</td>\n",
       "      <td>88.260253</td>\n",
       "      <td>32.576056</td>\n",
       "    </tr>\n",
       "    <tr>\n",
       "      <th>43475</th>\n",
       "      <td>-0.950481</td>\n",
       "      <td>0.721564</td>\n",
       "      <td>3.811347</td>\n",
       "      <td>59.526354</td>\n",
       "      <td>89.135803</td>\n",
       "    </tr>\n",
       "    <tr>\n",
       "      <th>31034</th>\n",
       "      <td>-1.048086</td>\n",
       "      <td>0.361026</td>\n",
       "      <td>-0.092342</td>\n",
       "      <td>89.549785</td>\n",
       "      <td>68.128794</td>\n",
       "    </tr>\n",
       "    <tr>\n",
       "      <th>96742</th>\n",
       "      <td>1.086476</td>\n",
       "      <td>-0.443342</td>\n",
       "      <td>1.665869</td>\n",
       "      <td>87.663685</td>\n",
       "      <td>98.999804</td>\n",
       "    </tr>\n",
       "    <tr>\n",
       "      <th>...</th>\n",
       "      <td>...</td>\n",
       "      <td>...</td>\n",
       "      <td>...</td>\n",
       "      <td>...</td>\n",
       "      <td>...</td>\n",
       "    </tr>\n",
       "    <tr>\n",
       "      <th>71355</th>\n",
       "      <td>-0.861136</td>\n",
       "      <td>-0.001976</td>\n",
       "      <td>-1.354231</td>\n",
       "      <td>19.361447</td>\n",
       "      <td>65.632599</td>\n",
       "    </tr>\n",
       "    <tr>\n",
       "      <th>2313</th>\n",
       "      <td>1.901519</td>\n",
       "      <td>0.118243</td>\n",
       "      <td>0.488106</td>\n",
       "      <td>103.578452</td>\n",
       "      <td>86.304648</td>\n",
       "    </tr>\n",
       "    <tr>\n",
       "      <th>74319</th>\n",
       "      <td>1.700010</td>\n",
       "      <td>-0.101459</td>\n",
       "      <td>1.748018</td>\n",
       "      <td>144.940426</td>\n",
       "      <td>96.975958</td>\n",
       "    </tr>\n",
       "    <tr>\n",
       "      <th>74010</th>\n",
       "      <td>-0.930385</td>\n",
       "      <td>0.450634</td>\n",
       "      <td>1.970697</td>\n",
       "      <td>49.671282</td>\n",
       "      <td>80.902920</td>\n",
       "    </tr>\n",
       "    <tr>\n",
       "      <th>94404</th>\n",
       "      <td>-1.006371</td>\n",
       "      <td>0.394516</td>\n",
       "      <td>0.703940</td>\n",
       "      <td>24.788116</td>\n",
       "      <td>73.061050</td>\n",
       "    </tr>\n",
       "  </tbody>\n",
       "</table>\n",
       "<p>24996 rows × 5 columns</p>\n",
       "</div>"
      ],
      "text/plain": [
       "             f0        f1        f2     product  model_product\n",
       "44614  0.017192  0.389803  6.787717  175.160472     117.038477\n",
       "51826 -0.422079  1.109285 -4.229504   88.260253      32.576056\n",
       "43475 -0.950481  0.721564  3.811347   59.526354      89.135803\n",
       "31034 -1.048086  0.361026 -0.092342   89.549785      68.128794\n",
       "96742  1.086476 -0.443342  1.665869   87.663685      98.999804\n",
       "...         ...       ...       ...         ...            ...\n",
       "71355 -0.861136 -0.001976 -1.354231   19.361447      65.632599\n",
       "2313   1.901519  0.118243  0.488106  103.578452      86.304648\n",
       "74319  1.700010 -0.101459  1.748018  144.940426      96.975958\n",
       "74010 -0.930385  0.450634  1.970697   49.671282      80.902920\n",
       "94404 -1.006371  0.394516  0.703940   24.788116      73.061050\n",
       "\n",
       "[24996 rows x 5 columns]"
      ]
     },
     "execution_count": 28,
     "metadata": {},
     "output_type": "execute_result"
    }
   ],
   "source": [
    "val_data_1"
   ]
  },
  {
   "cell_type": "code",
   "execution_count": 29,
   "metadata": {},
   "outputs": [],
   "source": [
    "def find_revenue(df, wells):\n",
    "    \n",
    "    '''\n",
    "    Функция для расчета прибыли от добычи нефти (млрд.руб):\n",
    "    df - датасет со скважинами,\n",
    "    wells - количество лучших скважин для расчета\n",
    "    '''\n",
    "    \n",
    "    best_wells = df.sort_values(by='model_product', ascending=False).head(wells)\n",
    "    rev = (best_wells['product'].sum() * INCOME / 10**6).round(3)\n",
    "\n",
    "    return rev - wells * .05"
   ]
  },
  {
   "cell_type": "code",
   "execution_count": 30,
   "metadata": {},
   "outputs": [
    {
     "name": "stdout",
     "output_type": "stream",
     "text": [
      "Лучшие скважины в регионе №1 (по модели):\n",
      "Прибыль от реализации 200 лучших скважин: 3.376 млрд.руб (при стоимости 1 скв - 50 млн. руб)\n",
      "\n",
      "Лучшие скважины в регионе №2 (по модели):\n",
      "Прибыль от реализации 200 лучших скважин: 2.415 млрд.руб (при стоимости 1 скв - 50 млн. руб)\n",
      "\n",
      "Лучшие скважины в регионе №3 (по модели):\n",
      "Прибыль от реализации 200 лучших скважин: 2.51 млрд.руб (при стоимости 1 скв - 50 млн. руб)\n",
      "\n"
     ]
    }
   ],
   "source": [
    "for i, n in enumerate(dfs):\n",
    "    print(f\"Лучшие скважины в регионе №{i+1} (по модели):\", \n",
    "          f\"Прибыль от реализации {WELLS} лучших скважин: {find_revenue(n, WELLS).round(3)} млрд.руб \\\n",
    "(при стоимости 1 скв - 50 млн. руб)\", sep='\\n')\n",
    "    \n",
    "    print()"
   ]
  },
  {
   "cell_type": "markdown",
   "metadata": {},
   "source": [
    "**Вывод**\n",
    "<br>Для возврата кап. вложений в 200 скважин региона (при затратах на них 10 млрд. руб, т.е. по 50 млн. на скв.) необходимо, чтобы в среднем каждая из 200 скважин дала 111,1 тыс. баррелей.\n",
    "<br>Расчет средних значений продуктивности по всем сважинам регионов показывает, что большая часть скважин не рентабельная при условии траты по 50 млн. руб на скв.\n",
    "<br>Согласно модели наиболее выгодный регион для бурения 200 лучших скважин это регион №1. При этом определение точности запасов выше для второго региона."
   ]
  },
  {
   "cell_type": "markdown",
   "metadata": {},
   "source": [
    "## Расчёт прибыли и рисков методом bootstrap"
   ]
  },
  {
   "cell_type": "code",
   "execution_count": 31,
   "metadata": {},
   "outputs": [],
   "source": [
    "state = np.random.RandomState(12345)"
   ]
  },
  {
   "cell_type": "code",
   "execution_count": 32,
   "metadata": {},
   "outputs": [
    {
     "name": "stdout",
     "output_type": "stream",
     "text": [
      "Значения при разработке 200 лучших среди 500 случайных скважин региона\n",
      "\n",
      "Регион №1:\n",
      "Средняя прибыль: 0.456 млрд.руб\n",
      "Доверительный интервал (95%): -0.117 - 0.989\n",
      "Вероятность убытка: 5.4%\n",
      "\n",
      "Регион №2:\n",
      "Средняя прибыль: 0.457 млрд.руб\n",
      "Доверительный интервал (95%): 0.075 - 0.84\n",
      "Вероятность убытка: 0.7000000000000001%\n",
      "\n",
      "Регион №3:\n",
      "Средняя прибыль: 0.365 млрд.руб\n",
      "Доверительный интервал (95%): -0.177 - 0.918\n",
      "Вероятность убытка: 9.4%\n",
      "\n"
     ]
    }
   ],
   "source": [
    "print(f'Значения при разработке {WELLS} лучших среди {DOTS} случайных скважин региона', '', sep='\\n')\n",
    "\n",
    "for i, df in enumerate(dfs):\n",
    "    print(f'Регион №{i+1}:')\n",
    "    values = []\n",
    "    for i in range(1000):\n",
    "        target_subsample = df.sample(n=DOTS, replace=True, random_state=state)\n",
    "        values.append(find_revenue(target_subsample, WELLS))\n",
    "\n",
    "    values = pd.Series(values)\n",
    "    lower = values.quantile(.025).round(3)\n",
    "    upper = values.quantile(.975).round(3)\n",
    "    risk = (values < 0).mean()*100   # risk = values[values < 0].count() / 10\n",
    "\n",
    "    mean = values.mean().round(3)\n",
    "    print(f'Средняя прибыль: {mean} млрд.руб', \n",
    "          f'Доверительный интервал (95%): {lower} - {upper}', \n",
    "          f'Вероятность убытка: {risk}%', sep='\\n')   \n",
    "    print()"
   ]
  },
  {
   "cell_type": "markdown",
   "metadata": {},
   "source": [
    "**Вывод**\n",
    "<br>Наиболее прибыльным регионом при бурении 200 лучших среди 500 случайных скважин региона является второй регион. Пр этом у данного региона наибольшая вероятность получить убыток."
   ]
  },
  {
   "cell_type": "markdown",
   "metadata": {},
   "source": [
    "## Вывод"
   ]
  },
  {
   "cell_type": "markdown",
   "metadata": {},
   "source": [
    "1. Данные содержат информацию о геологоразведке трех регионов. Каждый регион включает в себя 100 тыс. скважин. Явных дубликатов и пропущенных значений нет. Имеются аномальные значения. Далее посмотрим, сколько будет скважин с одинаковым id и с одинаковыми параметрами кроме id.\n",
    "2. Дублирующиеся значения по id найдены и удалены. Строки с аномально высокими / низкими значениями также удалены.\n",
    "3. Как видно из проведенного анализа, распределения по всем 3 регионам отличаются. Распределения значений f2 и product во втором датасете имеют более дискретный характер. В третьем датасете f0, f1, f2 имеют нормальное распределение. Построеные боксплоты говорят о том, что наименьший разброс значений имеет второй датасет. При этом в нем больше разброс в большей половине значений продуктивности.\n",
    "4. В результате применения линейной модели нименьшее значение ошибки получилось у второго региона. Это связано с меньшим разбросом данных, чем в прочих датасетах и наличием групп с почти одинаковой продуктивностью. При этом первый и третий регионы имеют больший запас нефти.\n",
    "5. Для возврата кап. вложений в 200 скважин региона (при затратах на них 10 млрд. руб, т.е. по 50 млн. на скв.) необходимо, чтобы в среднем каждая из 200 скважин дала 111,1 тыс. баррелей. Расчет средних значений продуктивности по всем сважинам регионов показывает, что большая часть скважин не рентабельная при условии траты по 50 млн. руб на скв. Согласно модели наиболее выгодный регион для бурения 200 лучших скважин это регион №1. При этом определение точности запасов выше для второго региона.\n",
    "6. Наиболее прибыльным регионом при бурении 200 лучших среди 500 случайных скважин региона является второй регион. Пр этом у данного региона наибольший разброс значений прибыли и наибольшая вероятность получить убыток.\n",
    "**Рекомендация**\n",
    "<br>Для разработки рекомендуется Регион №2 как обладающий наименьшей вероятностью получения убытка (по сравнению с регионами №1, 3) и при этом обладающий большими запасами по сравнению с этими регионами. Также это единственный регион с полностью положительным 95% доверительным интервалом. "
   ]
  },
  {
   "cell_type": "code",
   "execution_count": null,
   "metadata": {},
   "outputs": [],
   "source": []
  }
 ],
 "metadata": {
  "ExecuteTimeLog": [
   {
    "duration": 1403,
    "start_time": "2024-10-06T10:51:45.867Z"
   },
   {
    "duration": 4,
    "start_time": "2024-10-06T10:52:08.394Z"
   },
   {
    "duration": 3,
    "start_time": "2024-10-06T10:52:12.342Z"
   },
   {
    "duration": 1799,
    "start_time": "2024-10-06T10:53:35.012Z"
   },
   {
    "duration": 422,
    "start_time": "2024-10-06T10:56:52.818Z"
   },
   {
    "duration": 58,
    "start_time": "2024-10-08T04:49:17.837Z"
   },
   {
    "duration": 1450,
    "start_time": "2024-10-08T04:49:27.292Z"
   },
   {
    "duration": 4,
    "start_time": "2024-10-08T04:49:28.744Z"
   },
   {
    "duration": 9,
    "start_time": "2024-10-08T04:49:28.750Z"
   },
   {
    "duration": 981,
    "start_time": "2024-10-08T04:49:28.762Z"
   },
   {
    "duration": 319,
    "start_time": "2024-10-08T04:49:29.745Z"
   },
   {
    "duration": 110,
    "start_time": "2024-10-08T04:49:30.065Z"
   },
   {
    "duration": 33,
    "start_time": "2024-10-08T04:49:50.630Z"
   },
   {
    "duration": 26,
    "start_time": "2024-10-08T04:50:01.132Z"
   },
   {
    "duration": 22,
    "start_time": "2024-10-08T04:50:04.798Z"
   },
   {
    "duration": 17,
    "start_time": "2024-10-08T04:50:08.761Z"
   },
   {
    "duration": 309,
    "start_time": "2024-10-08T04:52:15.362Z"
   },
   {
    "duration": 79,
    "start_time": "2024-10-08T04:52:44.522Z"
   },
   {
    "duration": 306,
    "start_time": "2024-10-08T04:53:15.768Z"
   },
   {
    "duration": 79,
    "start_time": "2024-10-08T04:53:33.829Z"
   },
   {
    "duration": 99,
    "start_time": "2024-10-08T04:53:45.530Z"
   },
   {
    "duration": 72,
    "start_time": "2024-10-08T04:53:56.030Z"
   },
   {
    "duration": 158,
    "start_time": "2024-10-08T04:54:25.735Z"
   },
   {
    "duration": 22,
    "start_time": "2024-10-08T04:56:32.093Z"
   },
   {
    "duration": 28,
    "start_time": "2024-10-08T04:56:52.626Z"
   },
   {
    "duration": 21,
    "start_time": "2024-10-08T04:57:00.687Z"
   },
   {
    "duration": 28,
    "start_time": "2024-10-08T04:58:53.970Z"
   },
   {
    "duration": 29,
    "start_time": "2024-10-08T04:59:29.355Z"
   },
   {
    "duration": 12,
    "start_time": "2024-10-08T05:00:04.365Z"
   },
   {
    "duration": 4,
    "start_time": "2024-10-08T05:00:10.097Z"
   },
   {
    "duration": 26,
    "start_time": "2024-10-08T05:00:28.368Z"
   },
   {
    "duration": 22,
    "start_time": "2024-10-08T05:00:41.201Z"
   },
   {
    "duration": 26,
    "start_time": "2024-10-08T05:00:50.768Z"
   },
   {
    "duration": 27,
    "start_time": "2024-10-08T05:00:57.803Z"
   },
   {
    "duration": 13,
    "start_time": "2024-10-08T05:02:13.694Z"
   },
   {
    "duration": 29,
    "start_time": "2024-10-08T05:02:52.491Z"
   },
   {
    "duration": 26,
    "start_time": "2024-10-08T05:03:03.777Z"
   },
   {
    "duration": 28,
    "start_time": "2024-10-08T05:03:11.615Z"
   },
   {
    "duration": 25,
    "start_time": "2024-10-08T05:08:10.562Z"
   },
   {
    "duration": 3,
    "start_time": "2024-10-08T05:08:18.587Z"
   },
   {
    "duration": 9,
    "start_time": "2024-10-08T05:09:22.389Z"
   },
   {
    "duration": 66,
    "start_time": "2024-10-08T05:09:59.418Z"
   },
   {
    "duration": 5,
    "start_time": "2024-10-08T05:10:14.892Z"
   },
   {
    "duration": 4,
    "start_time": "2024-10-08T05:10:18.610Z"
   },
   {
    "duration": 4,
    "start_time": "2024-10-08T05:10:21.978Z"
   },
   {
    "duration": 62,
    "start_time": "2024-10-08T05:13:54.510Z"
   },
   {
    "duration": 12,
    "start_time": "2024-10-08T05:14:03.720Z"
   },
   {
    "duration": 61,
    "start_time": "2024-10-08T05:14:17.471Z"
   },
   {
    "duration": 97,
    "start_time": "2024-10-08T05:14:52.840Z"
   },
   {
    "duration": 64,
    "start_time": "2024-10-08T05:14:59.149Z"
   },
   {
    "duration": 70,
    "start_time": "2024-10-08T05:15:20.035Z"
   },
   {
    "duration": 1227,
    "start_time": "2024-10-08T05:15:36.141Z"
   },
   {
    "duration": 4,
    "start_time": "2024-10-08T05:15:37.371Z"
   },
   {
    "duration": 25,
    "start_time": "2024-10-08T05:15:37.376Z"
   },
   {
    "duration": 438,
    "start_time": "2024-10-08T05:15:37.403Z"
   },
   {
    "duration": 337,
    "start_time": "2024-10-08T05:15:37.843Z"
   },
   {
    "duration": 91,
    "start_time": "2024-10-08T05:15:38.181Z"
   },
   {
    "duration": 81,
    "start_time": "2024-10-08T05:15:38.274Z"
   },
   {
    "duration": 38,
    "start_time": "2024-10-08T05:18:42.030Z"
   },
   {
    "duration": 36,
    "start_time": "2024-10-08T05:18:47.836Z"
   },
   {
    "duration": 44,
    "start_time": "2024-10-08T05:18:50.990Z"
   },
   {
    "duration": 47,
    "start_time": "2024-10-08T05:19:04.705Z"
   },
   {
    "duration": 93,
    "start_time": "2024-10-08T05:20:40.825Z"
   },
   {
    "duration": 45,
    "start_time": "2024-10-08T05:21:00.122Z"
   },
   {
    "duration": 16,
    "start_time": "2024-10-08T05:21:16.444Z"
   },
   {
    "duration": 63,
    "start_time": "2024-10-08T05:22:04.667Z"
   },
   {
    "duration": 90,
    "start_time": "2024-10-08T05:52:01.503Z"
   },
   {
    "duration": 69,
    "start_time": "2024-10-08T05:52:09.662Z"
   },
   {
    "duration": 1191,
    "start_time": "2024-10-08T05:54:08.081Z"
   },
   {
    "duration": 4,
    "start_time": "2024-10-08T05:54:09.274Z"
   },
   {
    "duration": 15,
    "start_time": "2024-10-08T05:54:09.279Z"
   },
   {
    "duration": 468,
    "start_time": "2024-10-08T05:54:09.295Z"
   },
   {
    "duration": 350,
    "start_time": "2024-10-08T05:54:09.765Z"
   },
   {
    "duration": 90,
    "start_time": "2024-10-08T05:54:10.117Z"
   },
   {
    "duration": 60,
    "start_time": "2024-10-08T05:54:10.209Z"
   },
   {
    "duration": 69,
    "start_time": "2024-10-08T05:54:10.270Z"
   },
   {
    "duration": 19,
    "start_time": "2024-10-08T06:24:28.249Z"
   },
   {
    "duration": 15,
    "start_time": "2024-10-08T06:24:42.587Z"
   },
   {
    "duration": 10,
    "start_time": "2024-10-08T06:24:53.614Z"
   },
   {
    "duration": 13,
    "start_time": "2024-10-08T06:27:10.201Z"
   },
   {
    "duration": 1297,
    "start_time": "2024-10-08T06:40:34.182Z"
   },
   {
    "duration": 17,
    "start_time": "2024-10-08T06:40:51.309Z"
   },
   {
    "duration": 1491,
    "start_time": "2024-10-08T06:41:09.904Z"
   },
   {
    "duration": 232,
    "start_time": "2024-10-08T06:43:28.974Z"
   },
   {
    "duration": 10,
    "start_time": "2024-10-08T06:44:12.516Z"
   },
   {
    "duration": 6,
    "start_time": "2024-10-08T06:44:16.805Z"
   },
   {
    "duration": 3,
    "start_time": "2024-10-08T06:44:45.313Z"
   },
   {
    "duration": 11,
    "start_time": "2024-10-08T06:46:59.446Z"
   },
   {
    "duration": 3,
    "start_time": "2024-10-08T06:47:02.679Z"
   },
   {
    "duration": 12,
    "start_time": "2024-10-08T06:47:03.291Z"
   },
   {
    "duration": 10,
    "start_time": "2024-10-08T06:47:07.896Z"
   },
   {
    "duration": 6,
    "start_time": "2024-10-08T06:47:38.622Z"
   },
   {
    "duration": 11,
    "start_time": "2024-10-08T06:47:45.106Z"
   },
   {
    "duration": 6,
    "start_time": "2024-10-08T06:47:50.442Z"
   },
   {
    "duration": 1122,
    "start_time": "2024-10-08T06:47:56.859Z"
   },
   {
    "duration": 8,
    "start_time": "2024-10-08T06:48:04.913Z"
   },
   {
    "duration": 10,
    "start_time": "2024-10-08T06:48:12.290Z"
   },
   {
    "duration": 10,
    "start_time": "2024-10-08T06:48:14.531Z"
   },
   {
    "duration": 6,
    "start_time": "2024-10-08T06:48:20.127Z"
   },
   {
    "duration": 6,
    "start_time": "2024-10-08T06:48:35.657Z"
   },
   {
    "duration": 12,
    "start_time": "2024-10-08T06:48:44.227Z"
   },
   {
    "duration": 8,
    "start_time": "2024-10-08T06:48:49.064Z"
   },
   {
    "duration": 2,
    "start_time": "2024-10-08T06:48:53.547Z"
   },
   {
    "duration": 13,
    "start_time": "2024-10-08T06:48:53.738Z"
   },
   {
    "duration": 4,
    "start_time": "2024-10-08T06:48:53.920Z"
   },
   {
    "duration": 6,
    "start_time": "2024-10-08T06:49:09.839Z"
   },
   {
    "duration": 1143,
    "start_time": "2024-10-08T06:49:41.069Z"
   },
   {
    "duration": 6,
    "start_time": "2024-10-08T06:49:47.406Z"
   },
   {
    "duration": 6,
    "start_time": "2024-10-08T06:49:55.096Z"
   },
   {
    "duration": 6,
    "start_time": "2024-10-08T06:50:00.121Z"
   },
   {
    "duration": 12,
    "start_time": "2024-10-08T06:51:45.742Z"
   },
   {
    "duration": 3,
    "start_time": "2024-10-08T06:51:50.113Z"
   },
   {
    "duration": 12,
    "start_time": "2024-10-08T06:51:50.286Z"
   },
   {
    "duration": 4,
    "start_time": "2024-10-08T06:51:50.483Z"
   },
   {
    "duration": 17,
    "start_time": "2024-10-08T06:52:31.657Z"
   },
   {
    "duration": 10,
    "start_time": "2024-10-08T07:00:02.975Z"
   },
   {
    "duration": 3,
    "start_time": "2024-10-08T07:00:10.324Z"
   },
   {
    "duration": 3,
    "start_time": "2024-10-08T07:01:24.925Z"
   },
   {
    "duration": 3,
    "start_time": "2024-10-08T07:03:33.635Z"
   },
   {
    "duration": 10,
    "start_time": "2024-10-08T07:03:36.105Z"
   },
   {
    "duration": 11,
    "start_time": "2024-10-08T07:03:50.153Z"
   },
   {
    "duration": 34,
    "start_time": "2024-10-08T07:04:18.920Z"
   },
   {
    "duration": 15,
    "start_time": "2024-10-08T07:04:24.848Z"
   },
   {
    "duration": 3,
    "start_time": "2024-10-08T07:05:09.560Z"
   },
   {
    "duration": 31,
    "start_time": "2024-10-08T07:05:10.813Z"
   },
   {
    "duration": 13,
    "start_time": "2024-10-08T07:05:13.929Z"
   },
   {
    "duration": 17,
    "start_time": "2024-10-08T07:05:44.301Z"
   },
   {
    "duration": 16,
    "start_time": "2024-10-08T07:06:24.473Z"
   },
   {
    "duration": 4,
    "start_time": "2024-10-08T07:06:28.525Z"
   },
   {
    "duration": 4,
    "start_time": "2024-10-08T07:06:39.536Z"
   },
   {
    "duration": 15,
    "start_time": "2024-10-08T07:06:42.800Z"
   },
   {
    "duration": 4,
    "start_time": "2024-10-08T07:06:45.617Z"
   },
   {
    "duration": 13,
    "start_time": "2024-10-08T07:07:54.096Z"
   },
   {
    "duration": 4,
    "start_time": "2024-10-08T07:08:04.878Z"
   },
   {
    "duration": 5,
    "start_time": "2024-10-08T07:09:14.957Z"
   },
   {
    "duration": 36,
    "start_time": "2024-10-08T07:09:16.454Z"
   },
   {
    "duration": 12,
    "start_time": "2024-10-08T07:09:20.846Z"
   },
   {
    "duration": 5,
    "start_time": "2024-10-08T07:09:27.724Z"
   },
   {
    "duration": 14,
    "start_time": "2024-10-08T07:19:55.373Z"
   },
   {
    "duration": 32,
    "start_time": "2024-10-08T07:20:02.152Z"
   },
   {
    "duration": 4,
    "start_time": "2024-10-08T07:20:06.109Z"
   },
   {
    "duration": 14,
    "start_time": "2024-10-08T07:20:12.144Z"
   },
   {
    "duration": 3,
    "start_time": "2024-10-08T07:20:56.331Z"
   },
   {
    "duration": 31,
    "start_time": "2024-10-08T07:20:57.367Z"
   },
   {
    "duration": 4,
    "start_time": "2024-10-08T07:21:01.179Z"
   },
   {
    "duration": 12,
    "start_time": "2024-10-08T07:21:04.655Z"
   },
   {
    "duration": 14,
    "start_time": "2024-10-08T07:22:00.429Z"
   },
   {
    "duration": 1190,
    "start_time": "2024-10-08T07:23:50.361Z"
   },
   {
    "duration": 4,
    "start_time": "2024-10-08T07:23:51.553Z"
   },
   {
    "duration": 9,
    "start_time": "2024-10-08T07:23:51.559Z"
   },
   {
    "duration": 455,
    "start_time": "2024-10-08T07:23:51.570Z"
   },
   {
    "duration": 364,
    "start_time": "2024-10-08T07:23:52.026Z"
   },
   {
    "duration": 96,
    "start_time": "2024-10-08T07:23:52.391Z"
   },
   {
    "duration": 140,
    "start_time": "2024-10-08T07:23:52.504Z"
   },
   {
    "duration": 0,
    "start_time": "2024-10-08T07:23:52.646Z"
   },
   {
    "duration": 0,
    "start_time": "2024-10-08T07:23:52.647Z"
   },
   {
    "duration": 0,
    "start_time": "2024-10-08T07:23:52.648Z"
   },
   {
    "duration": 0,
    "start_time": "2024-10-08T07:23:52.649Z"
   },
   {
    "duration": 0,
    "start_time": "2024-10-08T07:23:52.650Z"
   },
   {
    "duration": 0,
    "start_time": "2024-10-08T07:23:52.651Z"
   },
   {
    "duration": 0,
    "start_time": "2024-10-08T07:23:52.652Z"
   },
   {
    "duration": 0,
    "start_time": "2024-10-08T07:23:52.654Z"
   },
   {
    "duration": 33,
    "start_time": "2024-10-08T07:24:29.977Z"
   },
   {
    "duration": 71,
    "start_time": "2024-10-08T07:26:30.839Z"
   },
   {
    "duration": 73,
    "start_time": "2024-10-08T07:26:49.265Z"
   },
   {
    "duration": 68,
    "start_time": "2024-10-08T07:27:08.049Z"
   },
   {
    "duration": 52,
    "start_time": "2024-10-08T07:27:08.119Z"
   },
   {
    "duration": 2,
    "start_time": "2024-10-08T07:27:08.173Z"
   },
   {
    "duration": 48,
    "start_time": "2024-10-08T07:27:08.177Z"
   },
   {
    "duration": 9,
    "start_time": "2024-10-08T07:27:08.226Z"
   },
   {
    "duration": 0,
    "start_time": "2024-10-08T07:27:08.236Z"
   },
   {
    "duration": 0,
    "start_time": "2024-10-08T07:27:08.237Z"
   },
   {
    "duration": 0,
    "start_time": "2024-10-08T07:27:08.239Z"
   },
   {
    "duration": 0,
    "start_time": "2024-10-08T07:27:08.241Z"
   },
   {
    "duration": 12,
    "start_time": "2024-10-08T07:27:20.855Z"
   },
   {
    "duration": 13,
    "start_time": "2024-10-08T07:27:29.105Z"
   },
   {
    "duration": 15,
    "start_time": "2024-10-08T07:27:59.436Z"
   },
   {
    "duration": 1480,
    "start_time": "2024-10-08T07:28:18.865Z"
   },
   {
    "duration": 17,
    "start_time": "2024-10-08T07:29:02.797Z"
   },
   {
    "duration": 13,
    "start_time": "2024-10-08T07:29:37.776Z"
   },
   {
    "duration": 61,
    "start_time": "2024-10-08T07:29:47.378Z"
   },
   {
    "duration": 9,
    "start_time": "2024-10-08T09:05:12.844Z"
   },
   {
    "duration": 12,
    "start_time": "2024-10-08T09:05:26.077Z"
   },
   {
    "duration": 7,
    "start_time": "2024-10-08T09:05:34.501Z"
   },
   {
    "duration": 6,
    "start_time": "2024-10-08T09:05:51.963Z"
   },
   {
    "duration": 20,
    "start_time": "2024-10-08T09:08:57.875Z"
   },
   {
    "duration": 2,
    "start_time": "2024-10-08T09:09:13.070Z"
   },
   {
    "duration": 34,
    "start_time": "2024-10-08T09:09:15.224Z"
   },
   {
    "duration": 14,
    "start_time": "2024-10-08T09:09:19.421Z"
   },
   {
    "duration": 3,
    "start_time": "2024-10-08T09:09:33.067Z"
   },
   {
    "duration": 3,
    "start_time": "2024-10-08T09:09:33.710Z"
   },
   {
    "duration": 25,
    "start_time": "2024-10-08T09:09:33.927Z"
   },
   {
    "duration": 13,
    "start_time": "2024-10-08T09:09:37.347Z"
   },
   {
    "duration": 13,
    "start_time": "2024-10-08T09:09:59.135Z"
   },
   {
    "duration": 11,
    "start_time": "2024-10-08T09:10:18.972Z"
   },
   {
    "duration": 16,
    "start_time": "2024-10-08T09:10:24.650Z"
   },
   {
    "duration": 9,
    "start_time": "2024-10-08T09:10:44.322Z"
   },
   {
    "duration": 40,
    "start_time": "2024-10-08T09:10:46.734Z"
   },
   {
    "duration": 12,
    "start_time": "2024-10-08T09:12:22.525Z"
   },
   {
    "duration": 13,
    "start_time": "2024-10-08T09:12:33.058Z"
   },
   {
    "duration": 3,
    "start_time": "2024-10-08T09:12:40.171Z"
   },
   {
    "duration": 15,
    "start_time": "2024-10-08T09:12:41.720Z"
   },
   {
    "duration": 15,
    "start_time": "2024-10-08T09:12:46.878Z"
   },
   {
    "duration": 6,
    "start_time": "2024-10-08T09:13:19.889Z"
   },
   {
    "duration": 8,
    "start_time": "2024-10-08T09:13:46.032Z"
   },
   {
    "duration": 15,
    "start_time": "2024-10-08T09:14:24.952Z"
   },
   {
    "duration": 19,
    "start_time": "2024-10-08T09:14:30.959Z"
   },
   {
    "duration": 3,
    "start_time": "2024-10-08T09:14:36.874Z"
   },
   {
    "duration": 15,
    "start_time": "2024-10-08T09:14:38.752Z"
   },
   {
    "duration": 21,
    "start_time": "2024-10-08T09:14:38.963Z"
   },
   {
    "duration": 6,
    "start_time": "2024-10-08T09:15:33.258Z"
   },
   {
    "duration": 16,
    "start_time": "2024-10-08T09:15:38.168Z"
   },
   {
    "duration": 1248,
    "start_time": "2024-10-08T09:19:36.286Z"
   },
   {
    "duration": 4,
    "start_time": "2024-10-08T09:19:37.537Z"
   },
   {
    "duration": 20,
    "start_time": "2024-10-08T09:19:37.542Z"
   },
   {
    "duration": 477,
    "start_time": "2024-10-08T09:19:37.564Z"
   },
   {
    "duration": 394,
    "start_time": "2024-10-08T09:19:38.043Z"
   },
   {
    "duration": 97,
    "start_time": "2024-10-08T09:19:38.439Z"
   },
   {
    "duration": 80,
    "start_time": "2024-10-08T09:19:38.538Z"
   },
   {
    "duration": 59,
    "start_time": "2024-10-08T09:19:38.620Z"
   },
   {
    "duration": 25,
    "start_time": "2024-10-08T09:19:38.681Z"
   },
   {
    "duration": 39,
    "start_time": "2024-10-08T09:19:38.708Z"
   },
   {
    "duration": 18,
    "start_time": "2024-10-08T09:19:38.749Z"
   },
   {
    "duration": 47,
    "start_time": "2024-10-08T09:19:38.768Z"
   },
   {
    "duration": 79,
    "start_time": "2024-10-08T09:19:38.816Z"
   },
   {
    "duration": 40,
    "start_time": "2024-10-08T09:22:02.180Z"
   },
   {
    "duration": 13,
    "start_time": "2024-10-08T09:22:03.128Z"
   },
   {
    "duration": 4,
    "start_time": "2024-10-08T09:25:02.086Z"
   },
   {
    "duration": 7,
    "start_time": "2024-10-08T09:26:02.670Z"
   },
   {
    "duration": 7,
    "start_time": "2024-10-08T09:26:39.177Z"
   },
   {
    "duration": 9,
    "start_time": "2024-10-08T09:26:56.656Z"
   },
   {
    "duration": 10,
    "start_time": "2024-10-08T09:27:02.813Z"
   },
   {
    "duration": 9,
    "start_time": "2024-10-08T09:27:10.536Z"
   },
   {
    "duration": 10,
    "start_time": "2024-10-08T09:27:18.023Z"
   },
   {
    "duration": 10,
    "start_time": "2024-10-08T09:27:22.056Z"
   },
   {
    "duration": 10,
    "start_time": "2024-10-08T09:27:26.504Z"
   },
   {
    "duration": 14,
    "start_time": "2024-10-08T09:27:32.036Z"
   },
   {
    "duration": 389,
    "start_time": "2024-10-08T09:28:05.729Z"
   },
   {
    "duration": 345,
    "start_time": "2024-10-08T09:28:16.192Z"
   },
   {
    "duration": 9,
    "start_time": "2024-10-08T09:29:02.660Z"
   },
   {
    "duration": 8,
    "start_time": "2024-10-08T09:29:13.676Z"
   },
   {
    "duration": 15,
    "start_time": "2024-10-08T09:30:28.244Z"
   },
   {
    "duration": 18,
    "start_time": "2024-10-08T09:30:32.096Z"
   },
   {
    "duration": 112,
    "start_time": "2024-10-08T09:33:41.791Z"
   },
   {
    "duration": 12,
    "start_time": "2024-10-08T09:34:00.656Z"
   },
   {
    "duration": 5,
    "start_time": "2024-10-08T09:40:48.346Z"
   },
   {
    "duration": 4,
    "start_time": "2024-10-08T09:40:51.918Z"
   },
   {
    "duration": 12,
    "start_time": "2024-10-08T09:41:33.538Z"
   },
   {
    "duration": 4,
    "start_time": "2024-10-08T09:41:38.328Z"
   },
   {
    "duration": 32,
    "start_time": "2024-10-08T09:47:49.530Z"
   },
   {
    "duration": 19,
    "start_time": "2024-10-08T09:48:39.608Z"
   },
   {
    "duration": 13,
    "start_time": "2024-10-08T09:48:58.220Z"
   },
   {
    "duration": 42,
    "start_time": "2024-10-08T09:52:19.031Z"
   },
   {
    "duration": 13,
    "start_time": "2024-10-08T09:52:29.390Z"
   },
   {
    "duration": 1267,
    "start_time": "2024-10-08T09:56:25.678Z"
   },
   {
    "duration": 4,
    "start_time": "2024-10-08T09:56:26.947Z"
   },
   {
    "duration": 25,
    "start_time": "2024-10-08T09:56:26.953Z"
   },
   {
    "duration": 470,
    "start_time": "2024-10-08T09:56:26.981Z"
   },
   {
    "duration": 374,
    "start_time": "2024-10-08T09:56:27.452Z"
   },
   {
    "duration": 95,
    "start_time": "2024-10-08T09:56:27.828Z"
   },
   {
    "duration": 83,
    "start_time": "2024-10-08T09:56:27.925Z"
   },
   {
    "duration": 60,
    "start_time": "2024-10-08T09:56:28.010Z"
   },
   {
    "duration": 55,
    "start_time": "2024-10-08T09:56:28.071Z"
   },
   {
    "duration": 14,
    "start_time": "2024-10-08T09:56:28.128Z"
   },
   {
    "duration": 8,
    "start_time": "2024-10-08T09:56:28.144Z"
   },
   {
    "duration": 57,
    "start_time": "2024-10-08T09:56:28.154Z"
   },
   {
    "duration": 16,
    "start_time": "2024-10-08T09:56:28.214Z"
   },
   {
    "duration": 15,
    "start_time": "2024-10-08T09:56:28.232Z"
   },
   {
    "duration": 12,
    "start_time": "2024-10-08T09:56:28.248Z"
   },
   {
    "duration": 4,
    "start_time": "2024-10-08T09:56:28.262Z"
   },
   {
    "duration": 112,
    "start_time": "2024-10-08T09:56:28.268Z"
   },
   {
    "duration": 13,
    "start_time": "2024-10-08T09:56:28.382Z"
   },
   {
    "duration": 14,
    "start_time": "2024-10-08T09:56:50.369Z"
   },
   {
    "duration": 141,
    "start_time": "2024-10-08T10:02:56.437Z"
   },
   {
    "duration": 81,
    "start_time": "2024-10-08T10:03:16.420Z"
   },
   {
    "duration": 13,
    "start_time": "2024-10-08T10:03:21.012Z"
   },
   {
    "duration": 215,
    "start_time": "2024-10-08T10:04:55.022Z"
   },
   {
    "duration": 12,
    "start_time": "2024-10-08T10:04:57.066Z"
   },
   {
    "duration": 12,
    "start_time": "2024-10-08T10:05:00.518Z"
   },
   {
    "duration": 13,
    "start_time": "2024-10-08T10:05:05.099Z"
   },
   {
    "duration": 9,
    "start_time": "2024-10-08T10:05:23.362Z"
   },
   {
    "duration": 9,
    "start_time": "2024-10-08T10:06:48.170Z"
   },
   {
    "duration": 15,
    "start_time": "2024-10-08T10:08:01.498Z"
   },
   {
    "duration": 9,
    "start_time": "2024-10-08T10:08:05.728Z"
   },
   {
    "duration": 202,
    "start_time": "2024-10-08T10:08:21.085Z"
   },
   {
    "duration": 201,
    "start_time": "2024-10-08T10:08:26.860Z"
   },
   {
    "duration": 12,
    "start_time": "2024-10-08T10:08:29.701Z"
   },
   {
    "duration": 12,
    "start_time": "2024-10-08T10:08:32.497Z"
   },
   {
    "duration": 13,
    "start_time": "2024-10-08T10:08:38.451Z"
   },
   {
    "duration": 210,
    "start_time": "2024-10-08T10:11:57.577Z"
   },
   {
    "duration": 274,
    "start_time": "2024-10-08T10:12:20.861Z"
   },
   {
    "duration": 240,
    "start_time": "2024-10-08T10:12:29.968Z"
   },
   {
    "duration": 77,
    "start_time": "2024-10-08T10:13:59.690Z"
   },
   {
    "duration": 13,
    "start_time": "2024-10-08T10:14:03.106Z"
   },
   {
    "duration": 220,
    "start_time": "2024-10-08T10:14:41.198Z"
   },
   {
    "duration": 12,
    "start_time": "2024-10-08T10:14:43.965Z"
   },
   {
    "duration": 12,
    "start_time": "2024-10-08T10:14:46.687Z"
   },
   {
    "duration": 13,
    "start_time": "2024-10-08T10:14:50.173Z"
   },
   {
    "duration": 6,
    "start_time": "2024-10-08T10:16:14.260Z"
   },
   {
    "duration": 223,
    "start_time": "2024-10-08T10:16:32.137Z"
   },
   {
    "duration": 11,
    "start_time": "2024-10-08T11:09:59.274Z"
   },
   {
    "duration": 21,
    "start_time": "2024-10-08T11:10:07.606Z"
   },
   {
    "duration": 18,
    "start_time": "2024-10-08T11:10:19.192Z"
   },
   {
    "duration": 11,
    "start_time": "2024-10-08T12:42:35.272Z"
   },
   {
    "duration": 16,
    "start_time": "2024-10-08T12:42:49.235Z"
   },
   {
    "duration": 8,
    "start_time": "2024-10-08T12:42:58.418Z"
   },
   {
    "duration": 15,
    "start_time": "2024-10-08T12:43:07.649Z"
   },
   {
    "duration": 8,
    "start_time": "2024-10-08T12:43:11.552Z"
   },
   {
    "duration": 15,
    "start_time": "2024-10-08T12:43:24.582Z"
   },
   {
    "duration": 336,
    "start_time": "2024-10-08T12:44:56.300Z"
   },
   {
    "duration": 452,
    "start_time": "2024-10-08T12:45:06.079Z"
   },
   {
    "duration": 530,
    "start_time": "2024-10-08T12:45:55.346Z"
   },
   {
    "duration": 617,
    "start_time": "2024-10-08T12:46:00.211Z"
   },
   {
    "duration": 650,
    "start_time": "2024-10-08T12:46:18.556Z"
   },
   {
    "duration": 538,
    "start_time": "2024-10-08T12:46:27.607Z"
   },
   {
    "duration": 704,
    "start_time": "2024-10-08T12:46:36.546Z"
   },
   {
    "duration": 642,
    "start_time": "2024-10-08T12:47:05.555Z"
   },
   {
    "duration": 1855,
    "start_time": "2024-10-08T12:49:56.847Z"
   },
   {
    "duration": 1940,
    "start_time": "2024-10-08T12:50:32.105Z"
   },
   {
    "duration": 1743,
    "start_time": "2024-10-08T12:50:53.590Z"
   },
   {
    "duration": 15,
    "start_time": "2024-10-08T12:51:56.437Z"
   },
   {
    "duration": 1857,
    "start_time": "2024-10-08T12:52:17.920Z"
   },
   {
    "duration": 1876,
    "start_time": "2024-10-08T12:52:32.105Z"
   },
   {
    "duration": 1848,
    "start_time": "2024-10-08T12:53:03.053Z"
   },
   {
    "duration": 1892,
    "start_time": "2024-10-08T12:53:19.482Z"
   },
   {
    "duration": 1854,
    "start_time": "2024-10-08T12:53:34.179Z"
   },
   {
    "duration": 49,
    "start_time": "2024-10-11T08:23:26.257Z"
   },
   {
    "duration": 1357,
    "start_time": "2024-10-11T08:23:34.456Z"
   },
   {
    "duration": 4,
    "start_time": "2024-10-11T08:23:35.815Z"
   },
   {
    "duration": 29,
    "start_time": "2024-10-11T08:23:35.820Z"
   },
   {
    "duration": 14,
    "start_time": "2024-10-11T08:23:35.851Z"
   },
   {
    "duration": 1737,
    "start_time": "2024-10-11T08:23:35.866Z"
   },
   {
    "duration": 342,
    "start_time": "2024-10-11T08:23:37.604Z"
   },
   {
    "duration": 87,
    "start_time": "2024-10-11T08:23:37.948Z"
   },
   {
    "duration": 85,
    "start_time": "2024-10-11T08:23:38.036Z"
   },
   {
    "duration": 79,
    "start_time": "2024-10-11T08:23:38.123Z"
   },
   {
    "duration": 43,
    "start_time": "2024-10-11T08:23:38.206Z"
   },
   {
    "duration": 26,
    "start_time": "2024-10-11T08:23:38.251Z"
   },
   {
    "duration": 4,
    "start_time": "2024-10-11T08:23:38.278Z"
   },
   {
    "duration": 35,
    "start_time": "2024-10-11T08:23:38.283Z"
   },
   {
    "duration": 14,
    "start_time": "2024-10-11T08:23:38.320Z"
   },
   {
    "duration": 41,
    "start_time": "2024-10-11T08:23:38.336Z"
   },
   {
    "duration": 10,
    "start_time": "2024-10-11T08:23:38.379Z"
   },
   {
    "duration": 3,
    "start_time": "2024-10-11T08:23:38.391Z"
   },
   {
    "duration": 224,
    "start_time": "2024-10-11T08:23:38.396Z"
   },
   {
    "duration": 1754,
    "start_time": "2024-10-11T08:23:38.622Z"
   },
   {
    "duration": 12,
    "start_time": "2024-10-11T08:23:40.377Z"
   },
   {
    "duration": 98,
    "start_time": "2024-10-11T08:23:56.669Z"
   },
   {
    "duration": 12,
    "start_time": "2024-10-11T08:24:06.761Z"
   },
   {
    "duration": 210,
    "start_time": "2024-10-11T08:24:35.711Z"
   },
   {
    "duration": 4,
    "start_time": "2024-10-11T08:24:37.611Z"
   },
   {
    "duration": 22,
    "start_time": "2024-10-11T08:24:41.902Z"
   },
   {
    "duration": 3,
    "start_time": "2024-10-11T08:25:06.437Z"
   },
   {
    "duration": 28,
    "start_time": "2024-10-11T08:25:06.908Z"
   },
   {
    "duration": 10,
    "start_time": "2024-10-11T08:26:48.870Z"
   },
   {
    "duration": 1333,
    "start_time": "2024-10-11T08:26:54.408Z"
   },
   {
    "duration": 4,
    "start_time": "2024-10-11T08:26:55.743Z"
   },
   {
    "duration": 8,
    "start_time": "2024-10-11T08:26:55.748Z"
   },
   {
    "duration": 3,
    "start_time": "2024-10-11T08:26:55.758Z"
   },
   {
    "duration": 456,
    "start_time": "2024-10-11T08:26:55.762Z"
   },
   {
    "duration": 369,
    "start_time": "2024-10-11T08:26:56.219Z"
   },
   {
    "duration": 91,
    "start_time": "2024-10-11T08:26:56.590Z"
   },
   {
    "duration": 70,
    "start_time": "2024-10-11T08:26:56.682Z"
   },
   {
    "duration": 75,
    "start_time": "2024-10-11T08:26:56.753Z"
   },
   {
    "duration": 50,
    "start_time": "2024-10-11T08:26:56.831Z"
   },
   {
    "duration": 13,
    "start_time": "2024-10-11T08:26:56.883Z"
   },
   {
    "duration": 3,
    "start_time": "2024-10-11T08:26:56.898Z"
   },
   {
    "duration": 36,
    "start_time": "2024-10-11T08:26:56.903Z"
   },
   {
    "duration": 36,
    "start_time": "2024-10-11T08:26:56.940Z"
   },
   {
    "duration": 16,
    "start_time": "2024-10-11T08:26:56.977Z"
   },
   {
    "duration": 56,
    "start_time": "2024-10-11T08:26:56.995Z"
   },
   {
    "duration": 4,
    "start_time": "2024-10-11T08:26:57.052Z"
   },
   {
    "duration": 288,
    "start_time": "2024-10-11T08:26:57.057Z"
   },
   {
    "duration": 1792,
    "start_time": "2024-10-11T08:26:57.346Z"
   },
   {
    "duration": 9,
    "start_time": "2024-10-11T08:26:59.140Z"
   },
   {
    "duration": 3,
    "start_time": "2024-10-11T08:26:59.151Z"
   },
   {
    "duration": 146,
    "start_time": "2024-10-11T08:26:59.156Z"
   },
   {
    "duration": 27,
    "start_time": "2024-10-11T08:28:05.807Z"
   },
   {
    "duration": 12,
    "start_time": "2024-10-11T08:28:19.252Z"
   },
   {
    "duration": 9,
    "start_time": "2024-10-11T08:29:25.433Z"
   },
   {
    "duration": 9,
    "start_time": "2024-10-11T08:30:24.885Z"
   },
   {
    "duration": 5,
    "start_time": "2024-10-11T08:30:32.333Z"
   },
   {
    "duration": 852,
    "start_time": "2024-10-11T08:30:35.898Z"
   },
   {
    "duration": 8,
    "start_time": "2024-10-11T08:30:54.164Z"
   },
   {
    "duration": 26,
    "start_time": "2024-10-11T08:31:10.822Z"
   },
   {
    "duration": 11,
    "start_time": "2024-10-11T08:33:21.175Z"
   },
   {
    "duration": 4,
    "start_time": "2024-10-11T08:33:53.157Z"
   },
   {
    "duration": 4,
    "start_time": "2024-10-11T08:34:44.265Z"
   },
   {
    "duration": 1329,
    "start_time": "2024-10-11T08:35:12.687Z"
   },
   {
    "duration": 4,
    "start_time": "2024-10-11T08:35:14.017Z"
   },
   {
    "duration": 10,
    "start_time": "2024-10-11T08:35:14.022Z"
   },
   {
    "duration": 3,
    "start_time": "2024-10-11T08:35:14.034Z"
   },
   {
    "duration": 449,
    "start_time": "2024-10-11T08:35:14.039Z"
   },
   {
    "duration": 353,
    "start_time": "2024-10-11T08:35:14.490Z"
   },
   {
    "duration": 86,
    "start_time": "2024-10-11T08:35:14.845Z"
   },
   {
    "duration": 79,
    "start_time": "2024-10-11T08:35:14.933Z"
   },
   {
    "duration": 69,
    "start_time": "2024-10-11T08:35:15.014Z"
   },
   {
    "duration": 50,
    "start_time": "2024-10-11T08:35:15.087Z"
   },
   {
    "duration": 72,
    "start_time": "2024-10-11T08:35:15.138Z"
   },
   {
    "duration": 33,
    "start_time": "2024-10-11T08:35:15.212Z"
   },
   {
    "duration": 45,
    "start_time": "2024-10-11T08:35:15.247Z"
   },
   {
    "duration": 15,
    "start_time": "2024-10-11T08:35:15.294Z"
   },
   {
    "duration": 26,
    "start_time": "2024-10-11T08:35:15.311Z"
   },
   {
    "duration": 12,
    "start_time": "2024-10-11T08:35:15.339Z"
   },
   {
    "duration": 16,
    "start_time": "2024-10-11T08:35:15.352Z"
   },
   {
    "duration": 217,
    "start_time": "2024-10-11T08:35:15.375Z"
   },
   {
    "duration": 1763,
    "start_time": "2024-10-11T08:35:15.594Z"
   },
   {
    "duration": 23,
    "start_time": "2024-10-11T08:35:17.359Z"
   },
   {
    "duration": 4,
    "start_time": "2024-10-11T08:35:17.384Z"
   },
   {
    "duration": 14,
    "start_time": "2024-10-11T08:35:17.390Z"
   },
   {
    "duration": 9,
    "start_time": "2024-10-11T08:39:32.190Z"
   },
   {
    "duration": 22,
    "start_time": "2024-10-11T08:41:26.480Z"
   },
   {
    "duration": 2,
    "start_time": "2024-10-11T08:41:31.332Z"
   },
   {
    "duration": 13,
    "start_time": "2024-10-11T08:41:41.668Z"
   },
   {
    "duration": 6,
    "start_time": "2024-10-11T08:41:47.635Z"
   },
   {
    "duration": 5,
    "start_time": "2024-10-11T08:44:43.473Z"
   },
   {
    "duration": 106,
    "start_time": "2024-10-11T08:44:44.755Z"
   },
   {
    "duration": 3,
    "start_time": "2024-10-11T08:44:53.064Z"
   },
   {
    "duration": 9,
    "start_time": "2024-10-11T08:44:59.025Z"
   },
   {
    "duration": 5,
    "start_time": "2024-10-11T08:45:05.846Z"
   },
   {
    "duration": 4,
    "start_time": "2024-10-11T08:49:15.752Z"
   },
   {
    "duration": 15,
    "start_time": "2024-10-11T08:49:31.013Z"
   },
   {
    "duration": 4,
    "start_time": "2024-10-11T08:50:30.420Z"
   },
   {
    "duration": 3,
    "start_time": "2024-10-11T08:50:34.668Z"
   },
   {
    "duration": 14,
    "start_time": "2024-10-11T08:50:42.531Z"
   },
   {
    "duration": 4,
    "start_time": "2024-10-11T08:52:31.873Z"
   },
   {
    "duration": 2,
    "start_time": "2024-10-11T08:52:39.447Z"
   },
   {
    "duration": 2,
    "start_time": "2024-10-11T08:52:41.435Z"
   },
   {
    "duration": 26,
    "start_time": "2024-10-11T08:52:45.303Z"
   },
   {
    "duration": 4,
    "start_time": "2024-10-11T09:05:47.812Z"
   },
   {
    "duration": 3,
    "start_time": "2024-10-11T09:05:58.609Z"
   },
   {
    "duration": 2,
    "start_time": "2024-10-11T09:06:01.229Z"
   },
   {
    "duration": 8,
    "start_time": "2024-10-11T09:06:22.884Z"
   },
   {
    "duration": 28,
    "start_time": "2024-10-11T09:06:29.960Z"
   },
   {
    "duration": 5,
    "start_time": "2024-10-11T09:06:43.877Z"
   },
   {
    "duration": 5,
    "start_time": "2024-10-11T09:06:52.263Z"
   },
   {
    "duration": 12,
    "start_time": "2024-10-11T09:09:54.273Z"
   },
   {
    "duration": 8,
    "start_time": "2024-10-11T09:10:00.853Z"
   },
   {
    "duration": 5,
    "start_time": "2024-10-11T09:12:22.389Z"
   },
   {
    "duration": 9,
    "start_time": "2024-10-11T09:12:42.828Z"
   },
   {
    "duration": 5,
    "start_time": "2024-10-11T09:13:01.186Z"
   },
   {
    "duration": 74,
    "start_time": "2024-10-11T09:13:05.907Z"
   },
   {
    "duration": 3,
    "start_time": "2024-10-11T09:13:10.040Z"
   },
   {
    "duration": 104,
    "start_time": "2024-10-11T09:13:20.575Z"
   },
   {
    "duration": 8,
    "start_time": "2024-10-11T09:13:34.353Z"
   },
   {
    "duration": 8,
    "start_time": "2024-10-11T09:14:05.952Z"
   },
   {
    "duration": 6,
    "start_time": "2024-10-11T09:15:33.898Z"
   },
   {
    "duration": 94,
    "start_time": "2024-10-11T09:15:41.283Z"
   },
   {
    "duration": 8,
    "start_time": "2024-10-11T09:15:42.667Z"
   },
   {
    "duration": 57,
    "start_time": "2024-10-11T09:15:51.421Z"
   },
   {
    "duration": 4,
    "start_time": "2024-10-11T09:15:52.285Z"
   },
   {
    "duration": 4,
    "start_time": "2024-10-11T09:16:20.926Z"
   },
   {
    "duration": 90,
    "start_time": "2024-10-11T09:16:26.389Z"
   },
   {
    "duration": 8,
    "start_time": "2024-10-11T09:16:27.432Z"
   },
   {
    "duration": 4,
    "start_time": "2024-10-11T09:16:58.060Z"
   },
   {
    "duration": 87,
    "start_time": "2024-10-11T09:17:07.191Z"
   },
   {
    "duration": 4,
    "start_time": "2024-10-11T09:17:07.943Z"
   },
   {
    "duration": 4,
    "start_time": "2024-10-11T09:17:27.683Z"
   },
   {
    "duration": 4,
    "start_time": "2024-10-11T09:17:34.193Z"
   },
   {
    "duration": 4,
    "start_time": "2024-10-11T09:21:42.805Z"
   },
   {
    "duration": 2,
    "start_time": "2024-10-11T09:21:47.517Z"
   },
   {
    "duration": 4,
    "start_time": "2024-10-11T09:21:48.213Z"
   },
   {
    "duration": 28,
    "start_time": "2024-10-11T09:21:50.340Z"
   },
   {
    "duration": 4,
    "start_time": "2024-10-11T09:21:54.774Z"
   },
   {
    "duration": 25,
    "start_time": "2024-10-11T09:21:57.351Z"
   },
   {
    "duration": 4,
    "start_time": "2024-10-11T09:22:02.587Z"
   },
   {
    "duration": 27,
    "start_time": "2024-10-11T09:22:15.302Z"
   },
   {
    "duration": 3,
    "start_time": "2024-10-11T09:23:24.835Z"
   },
   {
    "duration": 3,
    "start_time": "2024-10-11T09:23:30.971Z"
   },
   {
    "duration": 1354,
    "start_time": "2024-10-11T09:30:47.310Z"
   },
   {
    "duration": 4,
    "start_time": "2024-10-11T09:30:48.666Z"
   },
   {
    "duration": 15,
    "start_time": "2024-10-11T09:30:48.671Z"
   },
   {
    "duration": 6,
    "start_time": "2024-10-11T09:30:48.688Z"
   },
   {
    "duration": 421,
    "start_time": "2024-10-11T09:30:48.696Z"
   },
   {
    "duration": 368,
    "start_time": "2024-10-11T09:30:49.118Z"
   },
   {
    "duration": 72,
    "start_time": "2024-10-11T09:30:49.487Z"
   },
   {
    "duration": 62,
    "start_time": "2024-10-11T09:30:49.576Z"
   },
   {
    "duration": 62,
    "start_time": "2024-10-11T09:30:49.640Z"
   },
   {
    "duration": 30,
    "start_time": "2024-10-11T09:30:49.704Z"
   },
   {
    "duration": 13,
    "start_time": "2024-10-11T09:30:49.735Z"
   },
   {
    "duration": 27,
    "start_time": "2024-10-11T09:30:49.750Z"
   },
   {
    "duration": 38,
    "start_time": "2024-10-11T09:30:49.778Z"
   },
   {
    "duration": 14,
    "start_time": "2024-10-11T09:30:49.818Z"
   },
   {
    "duration": 15,
    "start_time": "2024-10-11T09:30:49.834Z"
   },
   {
    "duration": 32,
    "start_time": "2024-10-11T09:30:49.851Z"
   },
   {
    "duration": 4,
    "start_time": "2024-10-11T09:30:49.885Z"
   },
   {
    "duration": 233,
    "start_time": "2024-10-11T09:30:49.890Z"
   },
   {
    "duration": 1777,
    "start_time": "2024-10-11T09:30:50.125Z"
   },
   {
    "duration": 4,
    "start_time": "2024-10-11T09:30:51.904Z"
   },
   {
    "duration": 20,
    "start_time": "2024-10-11T09:30:51.909Z"
   },
   {
    "duration": 145,
    "start_time": "2024-10-11T09:30:51.931Z"
   },
   {
    "duration": 6,
    "start_time": "2024-10-11T09:30:52.078Z"
   },
   {
    "duration": 103,
    "start_time": "2024-10-11T09:30:52.176Z"
   },
   {
    "duration": 94,
    "start_time": "2024-10-11T09:30:52.283Z"
   },
   {
    "duration": 98,
    "start_time": "2024-10-11T09:30:52.379Z"
   },
   {
    "duration": 4,
    "start_time": "2024-10-11T09:30:52.480Z"
   },
   {
    "duration": 12,
    "start_time": "2024-10-11T11:20:27.356Z"
   },
   {
    "duration": 6,
    "start_time": "2024-10-13T03:51:59.285Z"
   },
   {
    "duration": 7,
    "start_time": "2024-10-13T03:52:04.286Z"
   },
   {
    "duration": 2,
    "start_time": "2024-10-13T03:52:15.176Z"
   },
   {
    "duration": 4,
    "start_time": "2024-10-13T03:52:16.326Z"
   },
   {
    "duration": 1420,
    "start_time": "2024-10-13T03:52:28.317Z"
   },
   {
    "duration": 4,
    "start_time": "2024-10-13T03:52:29.738Z"
   },
   {
    "duration": 19,
    "start_time": "2024-10-13T03:52:29.743Z"
   },
   {
    "duration": 5,
    "start_time": "2024-10-13T03:52:29.764Z"
   },
   {
    "duration": 985,
    "start_time": "2024-10-13T03:52:29.770Z"
   },
   {
    "duration": 369,
    "start_time": "2024-10-13T03:52:30.757Z"
   },
   {
    "duration": 76,
    "start_time": "2024-10-13T03:52:31.127Z"
   },
   {
    "duration": 87,
    "start_time": "2024-10-13T03:52:31.205Z"
   },
   {
    "duration": 44,
    "start_time": "2024-10-13T03:52:31.293Z"
   },
   {
    "duration": 36,
    "start_time": "2024-10-13T03:52:31.339Z"
   },
   {
    "duration": 13,
    "start_time": "2024-10-13T03:52:31.376Z"
   },
   {
    "duration": 26,
    "start_time": "2024-10-13T03:52:31.390Z"
   },
   {
    "duration": 55,
    "start_time": "2024-10-13T03:52:31.417Z"
   },
   {
    "duration": 13,
    "start_time": "2024-10-13T03:52:31.473Z"
   },
   {
    "duration": 28,
    "start_time": "2024-10-13T03:52:31.488Z"
   },
   {
    "duration": 8,
    "start_time": "2024-10-13T03:52:31.518Z"
   },
   {
    "duration": 8,
    "start_time": "2024-10-13T03:52:31.528Z"
   },
   {
    "duration": 194,
    "start_time": "2024-10-13T03:52:31.538Z"
   },
   {
    "duration": 1432,
    "start_time": "2024-10-13T03:52:31.733Z"
   },
   {
    "duration": 3,
    "start_time": "2024-10-13T03:52:33.166Z"
   },
   {
    "duration": 5,
    "start_time": "2024-10-13T03:52:33.170Z"
   },
   {
    "duration": 80,
    "start_time": "2024-10-13T03:52:33.177Z"
   },
   {
    "duration": 4,
    "start_time": "2024-10-13T03:52:33.259Z"
   },
   {
    "duration": 117,
    "start_time": "2024-10-13T03:52:33.265Z"
   },
   {
    "duration": 4,
    "start_time": "2024-10-13T03:52:33.384Z"
   },
   {
    "duration": 172,
    "start_time": "2024-10-13T03:52:33.390Z"
   },
   {
    "duration": 96,
    "start_time": "2024-10-13T03:52:33.564Z"
   },
   {
    "duration": 5,
    "start_time": "2024-10-13T03:52:33.663Z"
   },
   {
    "duration": 102,
    "start_time": "2024-10-13T03:52:33.670Z"
   },
   {
    "duration": 3,
    "start_time": "2024-10-13T03:52:40.129Z"
   },
   {
    "duration": 2,
    "start_time": "2024-10-13T03:52:46.717Z"
   },
   {
    "duration": 4,
    "start_time": "2024-10-13T03:52:47.734Z"
   },
   {
    "duration": 3,
    "start_time": "2024-10-13T03:54:04.658Z"
   },
   {
    "duration": 3,
    "start_time": "2024-10-13T03:54:05.814Z"
   },
   {
    "duration": 7,
    "start_time": "2024-10-13T03:55:16.193Z"
   },
   {
    "duration": 97,
    "start_time": "2024-10-13T03:55:34.141Z"
   },
   {
    "duration": 4,
    "start_time": "2024-10-13T03:55:51.911Z"
   },
   {
    "duration": 5,
    "start_time": "2024-10-13T03:56:10.911Z"
   },
   {
    "duration": 4,
    "start_time": "2024-10-13T03:56:42.000Z"
   },
   {
    "duration": 4,
    "start_time": "2024-10-13T03:56:50.645Z"
   },
   {
    "duration": 4,
    "start_time": "2024-10-13T03:56:59.176Z"
   },
   {
    "duration": 3,
    "start_time": "2024-10-13T03:57:52.512Z"
   },
   {
    "duration": 4,
    "start_time": "2024-10-13T03:58:50.212Z"
   },
   {
    "duration": 4,
    "start_time": "2024-10-13T03:59:00.577Z"
   },
   {
    "duration": 29,
    "start_time": "2024-10-13T04:02:33.973Z"
   },
   {
    "duration": 27,
    "start_time": "2024-10-13T04:02:45.574Z"
   },
   {
    "duration": 28,
    "start_time": "2024-10-13T04:03:07.423Z"
   },
   {
    "duration": 22,
    "start_time": "2024-10-13T04:03:24.648Z"
   },
   {
    "duration": 20,
    "start_time": "2024-10-13T04:03:42.901Z"
   },
   {
    "duration": 10,
    "start_time": "2024-10-13T04:03:43.108Z"
   },
   {
    "duration": 5,
    "start_time": "2024-10-13T04:03:55.288Z"
   },
   {
    "duration": 20,
    "start_time": "2024-10-13T04:06:39.981Z"
   },
   {
    "duration": 3,
    "start_time": "2024-10-13T04:06:40.797Z"
   },
   {
    "duration": 4,
    "start_time": "2024-10-13T04:06:58.921Z"
   },
   {
    "duration": 7,
    "start_time": "2024-10-13T04:12:09.575Z"
   },
   {
    "duration": 16,
    "start_time": "2024-10-13T04:12:50.449Z"
   },
   {
    "duration": 4,
    "start_time": "2024-10-13T04:13:14.343Z"
   },
   {
    "duration": 275,
    "start_time": "2024-10-13T04:13:19.792Z"
   },
   {
    "duration": 4,
    "start_time": "2024-10-13T04:15:09.968Z"
   },
   {
    "duration": 4,
    "start_time": "2024-10-13T04:17:14.750Z"
   },
   {
    "duration": 83,
    "start_time": "2024-10-13T04:17:39.515Z"
   },
   {
    "duration": 4,
    "start_time": "2024-10-13T04:17:50.130Z"
   },
   {
    "duration": 245,
    "start_time": "2024-10-13T04:17:58.426Z"
   },
   {
    "duration": 4,
    "start_time": "2024-10-13T04:18:24.996Z"
   },
   {
    "duration": 316,
    "start_time": "2024-10-13T04:18:29.371Z"
   },
   {
    "duration": 5,
    "start_time": "2024-10-13T04:19:08.316Z"
   },
   {
    "duration": 320,
    "start_time": "2024-10-13T04:19:11.749Z"
   },
   {
    "duration": 9,
    "start_time": "2024-10-13T04:22:26.870Z"
   },
   {
    "duration": 279,
    "start_time": "2024-10-13T04:22:34.999Z"
   },
   {
    "duration": 4,
    "start_time": "2024-10-13T04:23:05.113Z"
   },
   {
    "duration": 318,
    "start_time": "2024-10-13T04:23:12.272Z"
   },
   {
    "duration": 4,
    "start_time": "2024-10-13T04:23:33.621Z"
   },
   {
    "duration": 193,
    "start_time": "2024-10-13T04:23:39.093Z"
   },
   {
    "duration": 1219,
    "start_time": "2024-10-13T04:23:57.226Z"
   },
   {
    "duration": 4,
    "start_time": "2024-10-13T04:23:58.446Z"
   },
   {
    "duration": 32,
    "start_time": "2024-10-13T04:23:58.451Z"
   },
   {
    "duration": 5,
    "start_time": "2024-10-13T04:23:58.485Z"
   },
   {
    "duration": 391,
    "start_time": "2024-10-13T04:23:58.491Z"
   },
   {
    "duration": 297,
    "start_time": "2024-10-13T04:23:58.884Z"
   },
   {
    "duration": 57,
    "start_time": "2024-10-13T04:23:59.182Z"
   },
   {
    "duration": 64,
    "start_time": "2024-10-13T04:23:59.240Z"
   },
   {
    "duration": 44,
    "start_time": "2024-10-13T04:23:59.305Z"
   },
   {
    "duration": 38,
    "start_time": "2024-10-13T04:23:59.357Z"
   },
   {
    "duration": 12,
    "start_time": "2024-10-13T04:23:59.396Z"
   },
   {
    "duration": 4,
    "start_time": "2024-10-13T04:23:59.409Z"
   },
   {
    "duration": 28,
    "start_time": "2024-10-13T04:23:59.414Z"
   },
   {
    "duration": 41,
    "start_time": "2024-10-13T04:23:59.443Z"
   },
   {
    "duration": 12,
    "start_time": "2024-10-13T04:23:59.485Z"
   },
   {
    "duration": 8,
    "start_time": "2024-10-13T04:23:59.498Z"
   },
   {
    "duration": 3,
    "start_time": "2024-10-13T04:23:59.508Z"
   },
   {
    "duration": 184,
    "start_time": "2024-10-13T04:23:59.512Z"
   },
   {
    "duration": 1445,
    "start_time": "2024-10-13T04:23:59.697Z"
   },
   {
    "duration": 2,
    "start_time": "2024-10-13T04:24:01.143Z"
   },
   {
    "duration": 28,
    "start_time": "2024-10-13T04:24:01.146Z"
   },
   {
    "duration": 304,
    "start_time": "2024-10-13T04:24:01.175Z"
   },
   {
    "duration": 265,
    "start_time": "2024-10-13T04:24:01.480Z"
   },
   {
    "duration": 0,
    "start_time": "2024-10-13T04:24:01.747Z"
   },
   {
    "duration": 0,
    "start_time": "2024-10-13T04:24:01.748Z"
   },
   {
    "duration": 0,
    "start_time": "2024-10-13T04:24:01.749Z"
   },
   {
    "duration": 0,
    "start_time": "2024-10-13T04:24:01.750Z"
   },
   {
    "duration": 0,
    "start_time": "2024-10-13T04:24:01.751Z"
   },
   {
    "duration": 0,
    "start_time": "2024-10-13T04:24:01.751Z"
   },
   {
    "duration": 0,
    "start_time": "2024-10-13T04:24:01.752Z"
   },
   {
    "duration": 0,
    "start_time": "2024-10-13T04:24:01.753Z"
   },
   {
    "duration": 0,
    "start_time": "2024-10-13T04:24:01.754Z"
   },
   {
    "duration": 0,
    "start_time": "2024-10-13T04:24:01.755Z"
   },
   {
    "duration": 0,
    "start_time": "2024-10-13T04:24:01.775Z"
   },
   {
    "duration": 0,
    "start_time": "2024-10-13T04:24:01.776Z"
   },
   {
    "duration": 4,
    "start_time": "2024-10-13T04:25:21.252Z"
   },
   {
    "duration": 310,
    "start_time": "2024-10-13T04:25:25.076Z"
   },
   {
    "duration": 4,
    "start_time": "2024-10-13T04:25:40.037Z"
   },
   {
    "duration": 3,
    "start_time": "2024-10-13T04:25:47.119Z"
   },
   {
    "duration": 3,
    "start_time": "2024-10-13T04:25:58.497Z"
   },
   {
    "duration": 3,
    "start_time": "2024-10-13T04:26:02.504Z"
   },
   {
    "duration": 4,
    "start_time": "2024-10-13T04:26:55.935Z"
   },
   {
    "duration": 353,
    "start_time": "2024-10-13T04:26:58.006Z"
   },
   {
    "duration": 74,
    "start_time": "2024-10-13T04:27:43.649Z"
   },
   {
    "duration": 8,
    "start_time": "2024-10-13T04:27:48.380Z"
   },
   {
    "duration": 5,
    "start_time": "2024-10-13T04:27:57.055Z"
   },
   {
    "duration": 4,
    "start_time": "2024-10-13T04:28:40.402Z"
   },
   {
    "duration": 4,
    "start_time": "2024-10-13T04:29:20.994Z"
   },
   {
    "duration": 10,
    "start_time": "2024-10-13T04:31:09.394Z"
   },
   {
    "duration": 234,
    "start_time": "2024-10-13T04:31:40.533Z"
   },
   {
    "duration": 3,
    "start_time": "2024-10-13T04:32:09.121Z"
   },
   {
    "duration": 3,
    "start_time": "2024-10-13T04:33:26.418Z"
   },
   {
    "duration": 1313,
    "start_time": "2024-10-13T04:35:31.242Z"
   },
   {
    "duration": 7,
    "start_time": "2024-10-13T04:35:32.557Z"
   },
   {
    "duration": 36,
    "start_time": "2024-10-13T04:35:32.565Z"
   },
   {
    "duration": 397,
    "start_time": "2024-10-13T04:35:32.603Z"
   },
   {
    "duration": 302,
    "start_time": "2024-10-13T04:35:33.002Z"
   },
   {
    "duration": 160,
    "start_time": "2024-10-13T04:35:33.305Z"
   },
   {
    "duration": 124,
    "start_time": "2024-10-13T04:35:33.467Z"
   },
   {
    "duration": 112,
    "start_time": "2024-10-13T04:35:33.593Z"
   },
   {
    "duration": 86,
    "start_time": "2024-10-13T04:35:33.706Z"
   },
   {
    "duration": 12,
    "start_time": "2024-10-13T04:35:33.795Z"
   },
   {
    "duration": 38,
    "start_time": "2024-10-13T04:35:33.862Z"
   },
   {
    "duration": 81,
    "start_time": "2024-10-13T04:35:33.902Z"
   },
   {
    "duration": 12,
    "start_time": "2024-10-13T04:35:33.987Z"
   },
   {
    "duration": 57,
    "start_time": "2024-10-13T04:35:34.001Z"
   },
   {
    "duration": 14,
    "start_time": "2024-10-13T04:35:34.060Z"
   },
   {
    "duration": 26,
    "start_time": "2024-10-13T04:35:34.076Z"
   },
   {
    "duration": 485,
    "start_time": "2024-10-13T04:35:34.103Z"
   },
   {
    "duration": 1580,
    "start_time": "2024-10-13T04:35:34.590Z"
   },
   {
    "duration": 9,
    "start_time": "2024-10-13T04:35:36.171Z"
   },
   {
    "duration": 71,
    "start_time": "2024-10-13T04:35:36.181Z"
   },
   {
    "duration": 0,
    "start_time": "2024-10-13T04:35:36.253Z"
   },
   {
    "duration": 0,
    "start_time": "2024-10-13T04:35:36.254Z"
   },
   {
    "duration": 0,
    "start_time": "2024-10-13T04:35:36.255Z"
   },
   {
    "duration": 0,
    "start_time": "2024-10-13T04:35:36.256Z"
   },
   {
    "duration": 0,
    "start_time": "2024-10-13T04:35:36.258Z"
   },
   {
    "duration": 0,
    "start_time": "2024-10-13T04:35:36.258Z"
   },
   {
    "duration": 0,
    "start_time": "2024-10-13T04:35:36.264Z"
   },
   {
    "duration": 0,
    "start_time": "2024-10-13T04:35:36.265Z"
   },
   {
    "duration": 0,
    "start_time": "2024-10-13T04:35:36.265Z"
   },
   {
    "duration": 0,
    "start_time": "2024-10-13T04:35:36.266Z"
   },
   {
    "duration": 0,
    "start_time": "2024-10-13T04:35:36.267Z"
   },
   {
    "duration": 0,
    "start_time": "2024-10-13T04:35:36.268Z"
   },
   {
    "duration": 0,
    "start_time": "2024-10-13T04:35:36.269Z"
   },
   {
    "duration": 0,
    "start_time": "2024-10-13T04:35:36.270Z"
   },
   {
    "duration": 70,
    "start_time": "2024-10-13T04:36:18.708Z"
   },
   {
    "duration": 195,
    "start_time": "2024-10-13T04:36:48.792Z"
   },
   {
    "duration": 13,
    "start_time": "2024-10-13T04:37:02.358Z"
   },
   {
    "duration": 3,
    "start_time": "2024-10-13T04:42:55.675Z"
   },
   {
    "duration": 113,
    "start_time": "2024-10-13T04:42:55.884Z"
   },
   {
    "duration": 29,
    "start_time": "2024-10-13T04:42:56.050Z"
   },
   {
    "duration": 4,
    "start_time": "2024-10-13T04:42:56.200Z"
   },
   {
    "duration": 4,
    "start_time": "2024-10-13T04:42:56.391Z"
   },
   {
    "duration": 3,
    "start_time": "2024-10-13T04:42:56.542Z"
   },
   {
    "duration": 17,
    "start_time": "2024-10-13T04:43:11.453Z"
   },
   {
    "duration": 2,
    "start_time": "2024-10-13T04:46:24.223Z"
   },
   {
    "duration": 110,
    "start_time": "2024-10-13T04:46:24.453Z"
   },
   {
    "duration": 196,
    "start_time": "2024-10-13T04:48:24.788Z"
   },
   {
    "duration": 220,
    "start_time": "2024-10-13T04:48:46.754Z"
   },
   {
    "duration": 193,
    "start_time": "2024-10-13T04:49:29.176Z"
   },
   {
    "duration": 3,
    "start_time": "2024-10-13T04:49:42.231Z"
   },
   {
    "duration": 156,
    "start_time": "2024-10-13T04:50:16.642Z"
   },
   {
    "duration": 1417,
    "start_time": "2024-10-13T04:50:51.485Z"
   },
   {
    "duration": 1399,
    "start_time": "2024-10-13T04:51:07.689Z"
   },
   {
    "duration": 2,
    "start_time": "2024-10-13T04:51:43.323Z"
   },
   {
    "duration": 7,
    "start_time": "2024-10-13T04:51:43.568Z"
   },
   {
    "duration": 19,
    "start_time": "2024-10-13T04:51:46.102Z"
   },
   {
    "duration": 4,
    "start_time": "2024-10-13T04:51:46.977Z"
   },
   {
    "duration": 2,
    "start_time": "2024-10-13T04:56:54.381Z"
   },
   {
    "duration": 4,
    "start_time": "2024-10-13T04:57:04.420Z"
   },
   {
    "duration": 16,
    "start_time": "2024-10-13T04:57:15.963Z"
   },
   {
    "duration": 4,
    "start_time": "2024-10-13T04:57:33.286Z"
   },
   {
    "duration": 6,
    "start_time": "2024-10-13T05:02:57.488Z"
   },
   {
    "duration": 3,
    "start_time": "2024-10-13T05:03:53.511Z"
   },
   {
    "duration": 4,
    "start_time": "2024-10-13T05:05:27.485Z"
   },
   {
    "duration": 3,
    "start_time": "2024-10-13T05:05:36.469Z"
   },
   {
    "duration": 1211,
    "start_time": "2024-10-13T05:08:23.889Z"
   },
   {
    "duration": 3,
    "start_time": "2024-10-13T05:08:25.102Z"
   },
   {
    "duration": 40,
    "start_time": "2024-10-13T05:08:25.106Z"
   },
   {
    "duration": 417,
    "start_time": "2024-10-13T05:08:25.147Z"
   },
   {
    "duration": 255,
    "start_time": "2024-10-13T05:08:25.565Z"
   },
   {
    "duration": 62,
    "start_time": "2024-10-13T05:08:25.821Z"
   },
   {
    "duration": 46,
    "start_time": "2024-10-13T05:08:25.884Z"
   },
   {
    "duration": 58,
    "start_time": "2024-10-13T05:08:25.932Z"
   },
   {
    "duration": 23,
    "start_time": "2024-10-13T05:08:25.991Z"
   },
   {
    "duration": 13,
    "start_time": "2024-10-13T05:08:26.016Z"
   },
   {
    "duration": 4,
    "start_time": "2024-10-13T05:08:26.030Z"
   },
   {
    "duration": 48,
    "start_time": "2024-10-13T05:08:26.035Z"
   },
   {
    "duration": 11,
    "start_time": "2024-10-13T05:08:26.084Z"
   },
   {
    "duration": 10,
    "start_time": "2024-10-13T05:08:26.097Z"
   },
   {
    "duration": 7,
    "start_time": "2024-10-13T05:08:26.108Z"
   },
   {
    "duration": 3,
    "start_time": "2024-10-13T05:08:26.116Z"
   },
   {
    "duration": 187,
    "start_time": "2024-10-13T05:08:26.120Z"
   },
   {
    "duration": 1365,
    "start_time": "2024-10-13T05:08:26.308Z"
   },
   {
    "duration": 3,
    "start_time": "2024-10-13T05:08:27.675Z"
   },
   {
    "duration": 284,
    "start_time": "2024-10-13T05:08:27.679Z"
   },
   {
    "duration": 93,
    "start_time": "2024-10-13T05:08:27.965Z"
   },
   {
    "duration": 3,
    "start_time": "2024-10-13T05:08:28.060Z"
   },
   {
    "duration": 93,
    "start_time": "2024-10-13T05:08:28.067Z"
   },
   {
    "duration": 5,
    "start_time": "2024-10-13T05:08:28.161Z"
   },
   {
    "duration": 4,
    "start_time": "2024-10-13T05:08:28.167Z"
   },
   {
    "duration": 5,
    "start_time": "2024-10-13T05:08:28.172Z"
   },
   {
    "duration": 8,
    "start_time": "2024-10-13T05:08:28.178Z"
   },
   {
    "duration": 18,
    "start_time": "2024-10-13T05:08:28.188Z"
   },
   {
    "duration": 4,
    "start_time": "2024-10-13T05:08:28.207Z"
   },
   {
    "duration": 8,
    "start_time": "2024-10-13T05:08:28.212Z"
   },
   {
    "duration": 4,
    "start_time": "2024-10-13T05:08:28.221Z"
   },
   {
    "duration": 33,
    "start_time": "2024-10-13T05:08:28.226Z"
   },
   {
    "duration": 67,
    "start_time": "2024-10-13T05:32:38.151Z"
   },
   {
    "duration": 93,
    "start_time": "2024-10-13T05:32:47.595Z"
   },
   {
    "duration": 68,
    "start_time": "2024-10-13T05:33:18.908Z"
   },
   {
    "duration": 4,
    "start_time": "2024-10-13T05:34:03.452Z"
   },
   {
    "duration": 52,
    "start_time": "2024-10-13T05:34:16.667Z"
   },
   {
    "duration": 3,
    "start_time": "2024-10-13T05:34:58.467Z"
   },
   {
    "duration": 53,
    "start_time": "2024-10-13T05:34:59.590Z"
   },
   {
    "duration": 3,
    "start_time": "2024-10-13T05:35:53.747Z"
   },
   {
    "duration": 52,
    "start_time": "2024-10-13T05:35:54.303Z"
   },
   {
    "duration": 1225,
    "start_time": "2024-10-13T05:47:09.962Z"
   },
   {
    "duration": 10,
    "start_time": "2024-10-13T05:47:45.886Z"
   },
   {
    "duration": 4,
    "start_time": "2024-10-13T05:47:56.094Z"
   },
   {
    "duration": 10,
    "start_time": "2024-10-13T05:48:03.809Z"
   },
   {
    "duration": 1164,
    "start_time": "2024-10-13T05:48:27.472Z"
   },
   {
    "duration": 141,
    "start_time": "2024-10-13T05:50:02.028Z"
   },
   {
    "duration": 378,
    "start_time": "2024-10-13T05:50:18.080Z"
   },
   {
    "duration": 12,
    "start_time": "2024-10-13T05:50:33.946Z"
   },
   {
    "duration": 338,
    "start_time": "2024-10-13T05:51:24.936Z"
   },
   {
    "duration": 14,
    "start_time": "2024-10-13T05:51:26.410Z"
   },
   {
    "duration": 10,
    "start_time": "2024-10-13T05:52:00.366Z"
   },
   {
    "duration": 5,
    "start_time": "2024-10-13T05:53:43.387Z"
   },
   {
    "duration": 8,
    "start_time": "2024-10-13T05:54:02.284Z"
   },
   {
    "duration": 8,
    "start_time": "2024-10-13T05:54:07.827Z"
   },
   {
    "duration": 7,
    "start_time": "2024-10-13T05:54:21.781Z"
   },
   {
    "duration": 4,
    "start_time": "2024-10-13T05:56:04.476Z"
   },
   {
    "duration": 3,
    "start_time": "2024-10-13T05:59:00.321Z"
   },
   {
    "duration": 4,
    "start_time": "2024-10-13T05:59:04.225Z"
   },
   {
    "duration": 17,
    "start_time": "2024-10-13T05:59:05.859Z"
   },
   {
    "duration": 4,
    "start_time": "2024-10-13T05:59:36.881Z"
   },
   {
    "duration": 13,
    "start_time": "2024-10-13T05:59:37.374Z"
   },
   {
    "duration": 2,
    "start_time": "2024-10-13T06:07:14.478Z"
   },
   {
    "duration": 4,
    "start_time": "2024-10-13T06:08:51.384Z"
   },
   {
    "duration": 67,
    "start_time": "2024-10-13T06:09:14.215Z"
   },
   {
    "duration": 70,
    "start_time": "2024-10-13T06:10:30.785Z"
   },
   {
    "duration": 75,
    "start_time": "2024-10-13T06:10:40.076Z"
   },
   {
    "duration": 4,
    "start_time": "2024-10-13T06:12:01.424Z"
   },
   {
    "duration": 71,
    "start_time": "2024-10-13T06:12:11.512Z"
   },
   {
    "duration": 98,
    "start_time": "2024-10-13T06:13:05.009Z"
   },
   {
    "duration": 84,
    "start_time": "2024-10-13T06:13:45.242Z"
   },
   {
    "duration": 4,
    "start_time": "2024-10-13T06:14:01.082Z"
   },
   {
    "duration": 7,
    "start_time": "2024-10-13T06:14:02.924Z"
   },
   {
    "duration": 14,
    "start_time": "2024-10-13T06:14:13.655Z"
   },
   {
    "duration": 15,
    "start_time": "2024-10-13T06:14:14.618Z"
   },
   {
    "duration": 4,
    "start_time": "2024-10-13T06:15:42.700Z"
   },
   {
    "duration": 23,
    "start_time": "2024-10-13T06:15:43.848Z"
   },
   {
    "duration": 6,
    "start_time": "2024-10-13T06:18:13.182Z"
   },
   {
    "duration": 15,
    "start_time": "2024-10-13T06:18:13.411Z"
   },
   {
    "duration": 5,
    "start_time": "2024-10-13T06:18:34.506Z"
   },
   {
    "duration": 15,
    "start_time": "2024-10-13T06:18:34.712Z"
   },
   {
    "duration": 4,
    "start_time": "2024-10-13T06:18:41.990Z"
   },
   {
    "duration": 22,
    "start_time": "2024-10-13T06:18:42.261Z"
   },
   {
    "duration": 4,
    "start_time": "2024-10-13T06:19:13.303Z"
   },
   {
    "duration": 28,
    "start_time": "2024-10-13T06:19:13.457Z"
   },
   {
    "duration": 5,
    "start_time": "2024-10-13T06:22:57.383Z"
   },
   {
    "duration": 22,
    "start_time": "2024-10-13T06:22:58.170Z"
   },
   {
    "duration": 16,
    "start_time": "2024-10-13T06:23:24.468Z"
   },
   {
    "duration": 19,
    "start_time": "2024-10-13T06:23:26.574Z"
   },
   {
    "duration": 15,
    "start_time": "2024-10-13T06:23:46.791Z"
   },
   {
    "duration": 16,
    "start_time": "2024-10-13T06:24:10.401Z"
   },
   {
    "duration": 16,
    "start_time": "2024-10-13T06:25:38.990Z"
   },
   {
    "duration": 5,
    "start_time": "2024-10-13T06:26:26.098Z"
   },
   {
    "duration": 31,
    "start_time": "2024-10-13T06:26:26.648Z"
   },
   {
    "duration": 14,
    "start_time": "2024-10-13T06:27:32.357Z"
   },
   {
    "duration": 16,
    "start_time": "2024-10-13T06:27:33.222Z"
   },
   {
    "duration": 5,
    "start_time": "2024-10-13T06:28:02.900Z"
   },
   {
    "duration": 17,
    "start_time": "2024-10-13T06:28:03.198Z"
   },
   {
    "duration": 17,
    "start_time": "2024-10-13T06:30:38.244Z"
   },
   {
    "duration": 17,
    "start_time": "2024-10-13T06:30:41.925Z"
   },
   {
    "duration": 18,
    "start_time": "2024-10-13T06:30:49.372Z"
   },
   {
    "duration": 15,
    "start_time": "2024-10-13T06:30:53.692Z"
   },
   {
    "duration": 17,
    "start_time": "2024-10-13T06:30:58.299Z"
   },
   {
    "duration": 5,
    "start_time": "2024-10-13T06:34:41.709Z"
   },
   {
    "duration": 4,
    "start_time": "2024-10-13T06:35:03.514Z"
   },
   {
    "duration": 21,
    "start_time": "2024-10-13T06:36:40.667Z"
   },
   {
    "duration": 15,
    "start_time": "2024-10-13T06:37:18.131Z"
   },
   {
    "duration": 9,
    "start_time": "2024-10-13T06:50:31.279Z"
   },
   {
    "duration": 3,
    "start_time": "2024-10-13T06:50:53.103Z"
   },
   {
    "duration": 3,
    "start_time": "2024-10-13T06:51:01.287Z"
   },
   {
    "duration": 421,
    "start_time": "2024-10-13T06:51:59.150Z"
   },
   {
    "duration": 4,
    "start_time": "2024-10-13T07:26:46.311Z"
   },
   {
    "duration": 13,
    "start_time": "2024-10-13T07:26:46.588Z"
   },
   {
    "duration": 2,
    "start_time": "2024-10-13T07:27:25.817Z"
   },
   {
    "duration": 4,
    "start_time": "2024-10-13T07:27:27.308Z"
   },
   {
    "duration": 16,
    "start_time": "2024-10-13T07:27:28.499Z"
   },
   {
    "duration": 1233,
    "start_time": "2024-10-13T07:29:51.779Z"
   },
   {
    "duration": 4,
    "start_time": "2024-10-13T07:29:53.013Z"
   },
   {
    "duration": 11,
    "start_time": "2024-10-13T07:29:53.018Z"
   },
   {
    "duration": 394,
    "start_time": "2024-10-13T07:29:53.030Z"
   },
   {
    "duration": 297,
    "start_time": "2024-10-13T07:29:53.426Z"
   },
   {
    "duration": 71,
    "start_time": "2024-10-13T07:29:53.724Z"
   },
   {
    "duration": 46,
    "start_time": "2024-10-13T07:29:53.797Z"
   },
   {
    "duration": 51,
    "start_time": "2024-10-13T07:29:53.845Z"
   },
   {
    "duration": 25,
    "start_time": "2024-10-13T07:29:53.897Z"
   },
   {
    "duration": 12,
    "start_time": "2024-10-13T07:29:53.924Z"
   },
   {
    "duration": 42,
    "start_time": "2024-10-13T07:29:53.938Z"
   },
   {
    "duration": 31,
    "start_time": "2024-10-13T07:29:53.981Z"
   },
   {
    "duration": 12,
    "start_time": "2024-10-13T07:29:54.013Z"
   },
   {
    "duration": 20,
    "start_time": "2024-10-13T07:29:54.027Z"
   },
   {
    "duration": 21,
    "start_time": "2024-10-13T07:29:54.049Z"
   },
   {
    "duration": 10,
    "start_time": "2024-10-13T07:29:54.072Z"
   },
   {
    "duration": 170,
    "start_time": "2024-10-13T07:29:54.083Z"
   },
   {
    "duration": 1459,
    "start_time": "2024-10-13T07:29:54.255Z"
   },
   {
    "duration": 4,
    "start_time": "2024-10-13T07:29:55.715Z"
   },
   {
    "duration": 156,
    "start_time": "2024-10-13T07:29:55.720Z"
   },
   {
    "duration": 8,
    "start_time": "2024-10-13T07:29:55.877Z"
   },
   {
    "duration": 95,
    "start_time": "2024-10-13T07:29:55.887Z"
   },
   {
    "duration": 84,
    "start_time": "2024-10-13T07:29:55.987Z"
   },
   {
    "duration": 17,
    "start_time": "2024-10-13T07:29:56.072Z"
   },
   {
    "duration": 6,
    "start_time": "2024-10-13T07:29:56.091Z"
   },
   {
    "duration": 4,
    "start_time": "2024-10-13T07:29:56.098Z"
   },
   {
    "duration": 4,
    "start_time": "2024-10-13T07:29:56.103Z"
   },
   {
    "duration": 18,
    "start_time": "2024-10-13T07:29:56.108Z"
   },
   {
    "duration": 1578,
    "start_time": "2024-10-14T23:56:13.496Z"
   },
   {
    "duration": 3,
    "start_time": "2024-10-14T23:56:15.076Z"
   },
   {
    "duration": 128,
    "start_time": "2024-10-14T23:56:15.081Z"
   },
   {
    "duration": 868,
    "start_time": "2024-10-14T23:56:15.211Z"
   },
   {
    "duration": 269,
    "start_time": "2024-10-14T23:56:16.081Z"
   },
   {
    "duration": 72,
    "start_time": "2024-10-14T23:56:16.351Z"
   },
   {
    "duration": 52,
    "start_time": "2024-10-14T23:56:16.424Z"
   },
   {
    "duration": 67,
    "start_time": "2024-10-14T23:56:16.478Z"
   },
   {
    "duration": 26,
    "start_time": "2024-10-14T23:56:16.546Z"
   },
   {
    "duration": 12,
    "start_time": "2024-10-14T23:56:16.573Z"
   },
   {
    "duration": 4,
    "start_time": "2024-10-14T23:56:16.606Z"
   },
   {
    "duration": 33,
    "start_time": "2024-10-14T23:56:16.612Z"
   },
   {
    "duration": 12,
    "start_time": "2024-10-14T23:56:16.646Z"
   },
   {
    "duration": 12,
    "start_time": "2024-10-14T23:56:16.660Z"
   },
   {
    "duration": 9,
    "start_time": "2024-10-14T23:56:16.673Z"
   },
   {
    "duration": 4,
    "start_time": "2024-10-14T23:56:16.707Z"
   },
   {
    "duration": 184,
    "start_time": "2024-10-14T23:56:16.712Z"
   },
   {
    "duration": 1446,
    "start_time": "2024-10-14T23:56:16.897Z"
   },
   {
    "duration": 4,
    "start_time": "2024-10-14T23:56:18.345Z"
   },
   {
    "duration": 263,
    "start_time": "2024-10-14T23:56:18.350Z"
   },
   {
    "duration": 95,
    "start_time": "2024-10-14T23:56:18.615Z"
   },
   {
    "duration": 108,
    "start_time": "2024-10-14T23:56:18.712Z"
   },
   {
    "duration": 34,
    "start_time": "2024-10-14T23:56:18.821Z"
   },
   {
    "duration": 6,
    "start_time": "2024-10-14T23:56:18.856Z"
   },
   {
    "duration": 19,
    "start_time": "2024-10-14T23:56:18.863Z"
   },
   {
    "duration": 88,
    "start_time": "2024-10-14T23:56:18.883Z"
   },
   {
    "duration": 6,
    "start_time": "2024-10-14T23:56:18.972Z"
   },
   {
    "duration": 57,
    "start_time": "2024-10-14T23:56:18.979Z"
   },
   {
    "duration": 8,
    "start_time": "2024-10-15T00:20:32.513Z"
   },
   {
    "duration": 25,
    "start_time": "2024-10-15T00:21:37.621Z"
   },
   {
    "duration": 21,
    "start_time": "2024-10-15T00:23:21.893Z"
   },
   {
    "duration": 10,
    "start_time": "2024-10-15T00:23:27.326Z"
   },
   {
    "duration": 21,
    "start_time": "2024-10-15T00:23:41.472Z"
   },
   {
    "duration": 10,
    "start_time": "2024-10-15T00:23:41.687Z"
   },
   {
    "duration": 8,
    "start_time": "2024-10-15T00:25:22.259Z"
   },
   {
    "duration": 53,
    "start_time": "2024-10-15T00:26:48.776Z"
   },
   {
    "duration": 2,
    "start_time": "2024-10-15T00:27:20.833Z"
   },
   {
    "duration": 121,
    "start_time": "2024-10-15T00:29:38.533Z"
   },
   {
    "duration": 27,
    "start_time": "2024-10-15T00:29:50.733Z"
   },
   {
    "duration": 430,
    "start_time": "2024-10-15T00:30:12.848Z"
   },
   {
    "duration": 4,
    "start_time": "2024-10-15T00:30:26.754Z"
   },
   {
    "duration": 1248,
    "start_time": "2024-10-15T00:31:57.540Z"
   },
   {
    "duration": 3,
    "start_time": "2024-10-15T00:31:58.790Z"
   },
   {
    "duration": 18,
    "start_time": "2024-10-15T00:31:58.794Z"
   },
   {
    "duration": 395,
    "start_time": "2024-10-15T00:31:58.814Z"
   },
   {
    "duration": 299,
    "start_time": "2024-10-15T00:31:59.210Z"
   },
   {
    "duration": 60,
    "start_time": "2024-10-15T00:31:59.511Z"
   },
   {
    "duration": 76,
    "start_time": "2024-10-15T00:31:59.572Z"
   },
   {
    "duration": 47,
    "start_time": "2024-10-15T00:31:59.650Z"
   },
   {
    "duration": 73,
    "start_time": "2024-10-15T00:31:59.707Z"
   },
   {
    "duration": 2,
    "start_time": "2024-10-15T00:31:59.782Z"
   },
   {
    "duration": 104,
    "start_time": "2024-10-15T00:31:59.785Z"
   },
   {
    "duration": 0,
    "start_time": "2024-10-15T00:31:59.891Z"
   },
   {
    "duration": 0,
    "start_time": "2024-10-15T00:31:59.891Z"
   },
   {
    "duration": 0,
    "start_time": "2024-10-15T00:31:59.892Z"
   },
   {
    "duration": 0,
    "start_time": "2024-10-15T00:31:59.894Z"
   },
   {
    "duration": 0,
    "start_time": "2024-10-15T00:31:59.894Z"
   },
   {
    "duration": 0,
    "start_time": "2024-10-15T00:31:59.895Z"
   },
   {
    "duration": 0,
    "start_time": "2024-10-15T00:31:59.896Z"
   },
   {
    "duration": 0,
    "start_time": "2024-10-15T00:31:59.897Z"
   },
   {
    "duration": 0,
    "start_time": "2024-10-15T00:31:59.907Z"
   },
   {
    "duration": 0,
    "start_time": "2024-10-15T00:31:59.907Z"
   },
   {
    "duration": 0,
    "start_time": "2024-10-15T00:31:59.908Z"
   },
   {
    "duration": 0,
    "start_time": "2024-10-15T00:31:59.909Z"
   },
   {
    "duration": 0,
    "start_time": "2024-10-15T00:31:59.910Z"
   },
   {
    "duration": 0,
    "start_time": "2024-10-15T00:31:59.911Z"
   },
   {
    "duration": 0,
    "start_time": "2024-10-15T00:31:59.911Z"
   },
   {
    "duration": 0,
    "start_time": "2024-10-15T00:31:59.912Z"
   },
   {
    "duration": 0,
    "start_time": "2024-10-15T00:31:59.913Z"
   },
   {
    "duration": 0,
    "start_time": "2024-10-15T00:31:59.914Z"
   },
   {
    "duration": 0,
    "start_time": "2024-10-15T00:31:59.914Z"
   },
   {
    "duration": 0,
    "start_time": "2024-10-15T00:31:59.915Z"
   },
   {
    "duration": 0,
    "start_time": "2024-10-15T00:31:59.916Z"
   },
   {
    "duration": 410,
    "start_time": "2024-10-15T00:32:26.609Z"
   },
   {
    "duration": 3,
    "start_time": "2024-10-15T00:32:32.258Z"
   },
   {
    "duration": 11,
    "start_time": "2024-10-15T00:33:32.897Z"
   },
   {
    "duration": 1324,
    "start_time": "2024-10-15T00:35:52.862Z"
   },
   {
    "duration": 3,
    "start_time": "2024-10-15T00:35:54.188Z"
   },
   {
    "duration": 5,
    "start_time": "2024-10-15T00:35:54.192Z"
   },
   {
    "duration": 371,
    "start_time": "2024-10-15T00:35:54.198Z"
   },
   {
    "duration": 338,
    "start_time": "2024-10-15T00:35:54.570Z"
   },
   {
    "duration": 67,
    "start_time": "2024-10-15T00:35:54.909Z"
   },
   {
    "duration": 83,
    "start_time": "2024-10-15T00:35:54.978Z"
   },
   {
    "duration": 64,
    "start_time": "2024-10-15T00:35:55.063Z"
   },
   {
    "duration": 37,
    "start_time": "2024-10-15T00:35:55.128Z"
   },
   {
    "duration": 384,
    "start_time": "2024-10-15T00:35:55.168Z"
   },
   {
    "duration": 4,
    "start_time": "2024-10-15T00:35:55.554Z"
   },
   {
    "duration": 838,
    "start_time": "2024-10-15T00:35:55.559Z"
   },
   {
    "duration": 1515,
    "start_time": "2024-10-15T00:35:56.399Z"
   },
   {
    "duration": 4,
    "start_time": "2024-10-15T00:35:57.915Z"
   },
   {
    "duration": 194,
    "start_time": "2024-10-15T00:35:57.920Z"
   },
   {
    "duration": 93,
    "start_time": "2024-10-15T00:35:58.116Z"
   },
   {
    "duration": 11,
    "start_time": "2024-10-15T00:35:58.211Z"
   },
   {
    "duration": 7,
    "start_time": "2024-10-15T00:35:58.308Z"
   },
   {
    "duration": 17,
    "start_time": "2024-10-15T00:35:58.317Z"
   },
   {
    "duration": 7,
    "start_time": "2024-10-15T00:35:58.336Z"
   },
   {
    "duration": 13,
    "start_time": "2024-10-15T00:35:58.345Z"
   },
   {
    "duration": 14,
    "start_time": "2024-10-15T00:35:58.360Z"
   },
   {
    "duration": 37,
    "start_time": "2024-10-15T00:35:58.375Z"
   },
   {
    "duration": 1339,
    "start_time": "2024-10-15T00:36:45.387Z"
   },
   {
    "duration": 3,
    "start_time": "2024-10-15T00:36:46.728Z"
   },
   {
    "duration": 19,
    "start_time": "2024-10-15T00:36:46.732Z"
   },
   {
    "duration": 379,
    "start_time": "2024-10-15T00:36:46.752Z"
   },
   {
    "duration": 300,
    "start_time": "2024-10-15T00:36:47.133Z"
   },
   {
    "duration": 77,
    "start_time": "2024-10-15T00:36:47.434Z"
   },
   {
    "duration": 69,
    "start_time": "2024-10-15T00:36:47.512Z"
   },
   {
    "duration": 62,
    "start_time": "2024-10-15T00:36:47.583Z"
   },
   {
    "duration": 429,
    "start_time": "2024-10-15T00:36:47.647Z"
   },
   {
    "duration": 9,
    "start_time": "2024-10-15T00:36:48.078Z"
   },
   {
    "duration": 3425,
    "start_time": "2024-10-15T00:36:48.089Z"
   },
   {
    "duration": 1506,
    "start_time": "2024-10-15T00:36:51.515Z"
   },
   {
    "duration": 4,
    "start_time": "2024-10-15T00:36:53.022Z"
   },
   {
    "duration": 286,
    "start_time": "2024-10-15T00:36:53.027Z"
   },
   {
    "duration": 10,
    "start_time": "2024-10-15T00:36:53.314Z"
   },
   {
    "duration": 105,
    "start_time": "2024-10-15T00:36:53.408Z"
   },
   {
    "duration": 4,
    "start_time": "2024-10-15T00:36:53.514Z"
   },
   {
    "duration": 6,
    "start_time": "2024-10-15T00:36:53.520Z"
   },
   {
    "duration": 14,
    "start_time": "2024-10-15T00:36:53.527Z"
   },
   {
    "duration": 13,
    "start_time": "2024-10-15T00:36:53.542Z"
   },
   {
    "duration": 15,
    "start_time": "2024-10-15T00:36:53.557Z"
   },
   {
    "duration": 24,
    "start_time": "2024-10-15T00:36:53.573Z"
   },
   {
    "duration": 1424,
    "start_time": "2024-10-15T00:38:19.696Z"
   },
   {
    "duration": 3,
    "start_time": "2024-10-15T00:38:21.122Z"
   },
   {
    "duration": 73,
    "start_time": "2024-10-15T00:38:21.126Z"
   },
   {
    "duration": 424,
    "start_time": "2024-10-15T00:38:21.200Z"
   },
   {
    "duration": 296,
    "start_time": "2024-10-15T00:38:21.626Z"
   },
   {
    "duration": 57,
    "start_time": "2024-10-15T00:38:21.924Z"
   },
   {
    "duration": 68,
    "start_time": "2024-10-15T00:38:21.983Z"
   },
   {
    "duration": 68,
    "start_time": "2024-10-15T00:38:22.053Z"
   },
   {
    "duration": 26,
    "start_time": "2024-10-15T00:38:22.122Z"
   },
   {
    "duration": 12,
    "start_time": "2024-10-15T00:38:22.150Z"
   },
   {
    "duration": 77,
    "start_time": "2024-10-15T00:38:22.163Z"
   },
   {
    "duration": 0,
    "start_time": "2024-10-15T00:38:22.243Z"
   },
   {
    "duration": 0,
    "start_time": "2024-10-15T00:38:22.244Z"
   },
   {
    "duration": 0,
    "start_time": "2024-10-15T00:38:22.245Z"
   },
   {
    "duration": 0,
    "start_time": "2024-10-15T00:38:22.246Z"
   },
   {
    "duration": 0,
    "start_time": "2024-10-15T00:38:22.247Z"
   },
   {
    "duration": 0,
    "start_time": "2024-10-15T00:38:22.248Z"
   },
   {
    "duration": 0,
    "start_time": "2024-10-15T00:38:22.249Z"
   },
   {
    "duration": 0,
    "start_time": "2024-10-15T00:38:22.250Z"
   },
   {
    "duration": 0,
    "start_time": "2024-10-15T00:38:22.251Z"
   },
   {
    "duration": 0,
    "start_time": "2024-10-15T00:38:22.252Z"
   },
   {
    "duration": 0,
    "start_time": "2024-10-15T00:38:22.253Z"
   },
   {
    "duration": 0,
    "start_time": "2024-10-15T00:38:22.254Z"
   },
   {
    "duration": 0,
    "start_time": "2024-10-15T00:38:22.255Z"
   },
   {
    "duration": 0,
    "start_time": "2024-10-15T00:38:22.256Z"
   },
   {
    "duration": 0,
    "start_time": "2024-10-15T00:38:22.257Z"
   },
   {
    "duration": 0,
    "start_time": "2024-10-15T00:38:22.258Z"
   },
   {
    "duration": 0,
    "start_time": "2024-10-15T00:38:22.259Z"
   },
   {
    "duration": 0,
    "start_time": "2024-10-15T00:38:22.259Z"
   },
   {
    "duration": 4,
    "start_time": "2024-10-15T00:38:51.489Z"
   },
   {
    "duration": 61,
    "start_time": "2024-10-15T00:38:51.495Z"
   },
   {
    "duration": 12,
    "start_time": "2024-10-15T00:38:51.558Z"
   },
   {
    "duration": 13,
    "start_time": "2024-10-15T00:38:51.571Z"
   },
   {
    "duration": 21,
    "start_time": "2024-10-15T00:38:51.586Z"
   },
   {
    "duration": 21,
    "start_time": "2024-10-15T00:38:51.609Z"
   },
   {
    "duration": 166,
    "start_time": "2024-10-15T00:38:51.631Z"
   },
   {
    "duration": 1483,
    "start_time": "2024-10-15T00:38:51.799Z"
   },
   {
    "duration": 4,
    "start_time": "2024-10-15T00:38:53.284Z"
   },
   {
    "duration": 224,
    "start_time": "2024-10-15T00:38:53.290Z"
   },
   {
    "duration": 193,
    "start_time": "2024-10-15T00:38:53.515Z"
   },
   {
    "duration": 16,
    "start_time": "2024-10-15T00:38:53.709Z"
   },
   {
    "duration": 8,
    "start_time": "2024-10-15T00:38:53.726Z"
   },
   {
    "duration": 5,
    "start_time": "2024-10-15T00:38:53.736Z"
   },
   {
    "duration": 21,
    "start_time": "2024-10-15T00:38:53.742Z"
   },
   {
    "duration": 4,
    "start_time": "2024-10-15T00:38:53.765Z"
   },
   {
    "duration": 5,
    "start_time": "2024-10-15T00:38:53.771Z"
   },
   {
    "duration": 31,
    "start_time": "2024-10-15T00:38:53.777Z"
   },
   {
    "duration": 1285,
    "start_time": "2024-10-15T00:39:45.508Z"
   },
   {
    "duration": 3,
    "start_time": "2024-10-15T00:39:46.794Z"
   },
   {
    "duration": 9,
    "start_time": "2024-10-15T00:39:46.799Z"
   },
   {
    "duration": 372,
    "start_time": "2024-10-15T00:39:46.810Z"
   },
   {
    "duration": 337,
    "start_time": "2024-10-15T00:39:47.184Z"
   },
   {
    "duration": 63,
    "start_time": "2024-10-15T00:39:47.523Z"
   },
   {
    "duration": 71,
    "start_time": "2024-10-15T00:39:47.588Z"
   },
   {
    "duration": 66,
    "start_time": "2024-10-15T00:39:47.661Z"
   },
   {
    "duration": 409,
    "start_time": "2024-10-15T00:39:47.729Z"
   },
   {
    "duration": 8,
    "start_time": "2024-10-15T00:39:48.141Z"
   },
   {
    "duration": 4788,
    "start_time": "2024-10-15T00:39:48.150Z"
   },
   {
    "duration": 1498,
    "start_time": "2024-10-15T00:39:52.939Z"
   },
   {
    "duration": 4,
    "start_time": "2024-10-15T00:39:54.438Z"
   },
   {
    "duration": 271,
    "start_time": "2024-10-15T00:39:54.443Z"
   },
   {
    "duration": 97,
    "start_time": "2024-10-15T00:39:54.715Z"
   },
   {
    "duration": 100,
    "start_time": "2024-10-15T00:39:54.814Z"
   },
   {
    "duration": 20,
    "start_time": "2024-10-15T00:39:54.915Z"
   },
   {
    "duration": 17,
    "start_time": "2024-10-15T00:39:54.936Z"
   },
   {
    "duration": 6,
    "start_time": "2024-10-15T00:39:54.955Z"
   },
   {
    "duration": 19,
    "start_time": "2024-10-15T00:39:54.964Z"
   },
   {
    "duration": 11,
    "start_time": "2024-10-15T00:39:54.985Z"
   },
   {
    "duration": 51,
    "start_time": "2024-10-15T00:39:54.997Z"
   },
   {
    "duration": 1308,
    "start_time": "2024-10-15T00:40:27.585Z"
   },
   {
    "duration": 4,
    "start_time": "2024-10-15T00:40:28.894Z"
   },
   {
    "duration": 10,
    "start_time": "2024-10-15T00:40:28.899Z"
   },
   {
    "duration": 421,
    "start_time": "2024-10-15T00:40:28.910Z"
   },
   {
    "duration": 302,
    "start_time": "2024-10-15T00:40:29.332Z"
   },
   {
    "duration": 87,
    "start_time": "2024-10-15T00:40:29.635Z"
   },
   {
    "duration": 54,
    "start_time": "2024-10-15T00:40:29.723Z"
   },
   {
    "duration": 62,
    "start_time": "2024-10-15T00:40:29.778Z"
   },
   {
    "duration": 407,
    "start_time": "2024-10-15T00:40:29.842Z"
   },
   {
    "duration": 5,
    "start_time": "2024-10-15T00:40:30.251Z"
   },
   {
    "duration": 1708,
    "start_time": "2024-10-15T00:40:30.257Z"
   },
   {
    "duration": 1512,
    "start_time": "2024-10-15T00:40:31.966Z"
   },
   {
    "duration": 4,
    "start_time": "2024-10-15T00:40:33.479Z"
   },
   {
    "duration": 230,
    "start_time": "2024-10-15T00:40:33.485Z"
   },
   {
    "duration": 96,
    "start_time": "2024-10-15T00:40:33.717Z"
   },
   {
    "duration": 95,
    "start_time": "2024-10-15T00:40:33.815Z"
   },
   {
    "duration": 7,
    "start_time": "2024-10-15T00:40:33.912Z"
   },
   {
    "duration": 21,
    "start_time": "2024-10-15T00:40:33.920Z"
   },
   {
    "duration": 14,
    "start_time": "2024-10-15T00:40:33.942Z"
   },
   {
    "duration": 69,
    "start_time": "2024-10-15T00:40:33.958Z"
   },
   {
    "duration": 25,
    "start_time": "2024-10-15T00:40:34.029Z"
   },
   {
    "duration": 35,
    "start_time": "2024-10-15T00:40:34.056Z"
   },
   {
    "duration": 1308,
    "start_time": "2024-10-15T00:40:56.575Z"
   },
   {
    "duration": 3,
    "start_time": "2024-10-15T00:40:57.885Z"
   },
   {
    "duration": 20,
    "start_time": "2024-10-15T00:40:57.889Z"
   },
   {
    "duration": 378,
    "start_time": "2024-10-15T00:40:57.911Z"
   },
   {
    "duration": 289,
    "start_time": "2024-10-15T00:40:58.290Z"
   },
   {
    "duration": 66,
    "start_time": "2024-10-15T00:40:58.580Z"
   },
   {
    "duration": 67,
    "start_time": "2024-10-15T00:40:58.648Z"
   },
   {
    "duration": 46,
    "start_time": "2024-10-15T00:40:58.717Z"
   },
   {
    "duration": 409,
    "start_time": "2024-10-15T00:40:58.764Z"
   },
   {
    "duration": 5,
    "start_time": "2024-10-15T00:40:59.175Z"
   },
   {
    "duration": 873,
    "start_time": "2024-10-15T00:40:59.181Z"
   },
   {
    "duration": 1471,
    "start_time": "2024-10-15T00:41:00.056Z"
   },
   {
    "duration": 4,
    "start_time": "2024-10-15T00:41:01.528Z"
   },
   {
    "duration": 377,
    "start_time": "2024-10-15T00:41:01.533Z"
   },
   {
    "duration": 96,
    "start_time": "2024-10-15T00:41:01.912Z"
   },
   {
    "duration": 105,
    "start_time": "2024-10-15T00:41:02.009Z"
   },
   {
    "duration": 31,
    "start_time": "2024-10-15T00:41:02.115Z"
   },
   {
    "duration": 65,
    "start_time": "2024-10-15T00:41:02.147Z"
   },
   {
    "duration": 15,
    "start_time": "2024-10-15T00:41:02.213Z"
   },
   {
    "duration": 33,
    "start_time": "2024-10-15T00:41:02.230Z"
   },
   {
    "duration": 44,
    "start_time": "2024-10-15T00:41:02.264Z"
   },
   {
    "duration": 26,
    "start_time": "2024-10-15T00:41:02.309Z"
   },
   {
    "duration": 1328,
    "start_time": "2024-10-15T00:42:38.570Z"
   },
   {
    "duration": 4,
    "start_time": "2024-10-15T00:42:39.900Z"
   },
   {
    "duration": 54,
    "start_time": "2024-10-15T00:42:39.906Z"
   },
   {
    "duration": 492,
    "start_time": "2024-10-15T00:42:39.963Z"
   },
   {
    "duration": 297,
    "start_time": "2024-10-15T00:42:40.457Z"
   },
   {
    "duration": 72,
    "start_time": "2024-10-15T00:42:40.756Z"
   },
   {
    "duration": 52,
    "start_time": "2024-10-15T00:42:40.830Z"
   },
   {
    "duration": 143,
    "start_time": "2024-10-15T00:42:40.883Z"
   },
   {
    "duration": 25,
    "start_time": "2024-10-15T00:42:41.027Z"
   },
   {
    "duration": 25,
    "start_time": "2024-10-15T00:42:41.054Z"
   },
   {
    "duration": 130,
    "start_time": "2024-10-15T00:42:41.081Z"
   },
   {
    "duration": 54,
    "start_time": "2024-10-15T00:42:41.212Z"
   },
   {
    "duration": 33,
    "start_time": "2024-10-15T00:42:41.268Z"
   },
   {
    "duration": 34,
    "start_time": "2024-10-15T00:42:41.302Z"
   },
   {
    "duration": 64,
    "start_time": "2024-10-15T00:42:41.337Z"
   },
   {
    "duration": 47,
    "start_time": "2024-10-15T00:42:41.403Z"
   },
   {
    "duration": 291,
    "start_time": "2024-10-15T00:42:41.451Z"
   },
   {
    "duration": 2138,
    "start_time": "2024-10-15T00:42:41.745Z"
   },
   {
    "duration": 4,
    "start_time": "2024-10-15T00:42:43.885Z"
   },
   {
    "duration": 224,
    "start_time": "2024-10-15T00:42:43.891Z"
   },
   {
    "duration": 98,
    "start_time": "2024-10-15T00:42:44.117Z"
   },
   {
    "duration": 96,
    "start_time": "2024-10-15T00:42:44.217Z"
   },
   {
    "duration": 9,
    "start_time": "2024-10-15T00:42:44.314Z"
   },
   {
    "duration": 16,
    "start_time": "2024-10-15T00:42:44.324Z"
   },
   {
    "duration": 13,
    "start_time": "2024-10-15T00:42:44.341Z"
   },
   {
    "duration": 9,
    "start_time": "2024-10-15T00:42:44.355Z"
   },
   {
    "duration": 17,
    "start_time": "2024-10-15T00:42:44.365Z"
   },
   {
    "duration": 21,
    "start_time": "2024-10-15T00:42:44.384Z"
   },
   {
    "duration": 46,
    "start_time": "2024-10-15T02:58:45.504Z"
   },
   {
    "duration": 1490,
    "start_time": "2024-10-15T03:00:39.952Z"
   },
   {
    "duration": 5,
    "start_time": "2024-10-15T03:00:41.443Z"
   },
   {
    "duration": 13,
    "start_time": "2024-10-15T03:00:41.449Z"
   },
   {
    "duration": 920,
    "start_time": "2024-10-15T03:00:41.464Z"
   },
   {
    "duration": 311,
    "start_time": "2024-10-15T03:00:42.385Z"
   },
   {
    "duration": 68,
    "start_time": "2024-10-15T03:00:42.697Z"
   },
   {
    "duration": 69,
    "start_time": "2024-10-15T03:00:42.767Z"
   },
   {
    "duration": 49,
    "start_time": "2024-10-15T03:00:42.837Z"
   },
   {
    "duration": 43,
    "start_time": "2024-10-15T03:00:42.887Z"
   },
   {
    "duration": 14,
    "start_time": "2024-10-15T03:00:42.932Z"
   },
   {
    "duration": 21,
    "start_time": "2024-10-15T03:00:42.948Z"
   },
   {
    "duration": 48,
    "start_time": "2024-10-15T03:00:42.970Z"
   },
   {
    "duration": 12,
    "start_time": "2024-10-15T03:00:43.020Z"
   },
   {
    "duration": 30,
    "start_time": "2024-10-15T03:00:43.033Z"
   },
   {
    "duration": 8,
    "start_time": "2024-10-15T03:00:43.065Z"
   },
   {
    "duration": 32,
    "start_time": "2024-10-15T03:00:43.074Z"
   },
   {
    "duration": 206,
    "start_time": "2024-10-15T03:00:43.108Z"
   },
   {
    "duration": 1462,
    "start_time": "2024-10-15T03:00:43.316Z"
   },
   {
    "duration": 5,
    "start_time": "2024-10-15T03:00:44.779Z"
   },
   {
    "duration": 230,
    "start_time": "2024-10-15T03:00:44.785Z"
   },
   {
    "duration": 95,
    "start_time": "2024-10-15T03:00:45.016Z"
   },
   {
    "duration": 120,
    "start_time": "2024-10-15T03:00:45.113Z"
   },
   {
    "duration": 35,
    "start_time": "2024-10-15T03:00:45.234Z"
   },
   {
    "duration": 23,
    "start_time": "2024-10-15T03:00:45.271Z"
   },
   {
    "duration": 32,
    "start_time": "2024-10-15T03:00:45.295Z"
   },
   {
    "duration": 38,
    "start_time": "2024-10-15T03:00:45.329Z"
   },
   {
    "duration": 36,
    "start_time": "2024-10-15T03:00:45.368Z"
   },
   {
    "duration": 106,
    "start_time": "2024-10-16T14:32:21.608Z"
   },
   {
    "duration": 4,
    "start_time": "2024-10-16T14:33:03.026Z"
   },
   {
    "duration": 3,
    "start_time": "2024-10-16T14:33:35.808Z"
   },
   {
    "duration": 41,
    "start_time": "2024-10-16T14:34:01.279Z"
   },
   {
    "duration": 1490,
    "start_time": "2024-10-16T14:34:16.970Z"
   },
   {
    "duration": 4,
    "start_time": "2024-10-16T14:34:18.461Z"
   },
   {
    "duration": 7,
    "start_time": "2024-10-16T14:34:18.466Z"
   },
   {
    "duration": 890,
    "start_time": "2024-10-16T14:34:18.475Z"
   },
   {
    "duration": 261,
    "start_time": "2024-10-16T14:34:19.366Z"
   },
   {
    "duration": 69,
    "start_time": "2024-10-16T14:34:19.629Z"
   },
   {
    "duration": 58,
    "start_time": "2024-10-16T14:34:19.699Z"
   },
   {
    "duration": 44,
    "start_time": "2024-10-16T14:34:19.759Z"
   },
   {
    "duration": 23,
    "start_time": "2024-10-16T14:34:19.805Z"
   },
   {
    "duration": 26,
    "start_time": "2024-10-16T14:34:19.831Z"
   },
   {
    "duration": 4,
    "start_time": "2024-10-16T14:34:19.858Z"
   },
   {
    "duration": 30,
    "start_time": "2024-10-16T14:34:19.863Z"
   },
   {
    "duration": 11,
    "start_time": "2024-10-16T14:34:19.895Z"
   },
   {
    "duration": 10,
    "start_time": "2024-10-16T14:34:19.908Z"
   },
   {
    "duration": 7,
    "start_time": "2024-10-16T14:34:19.920Z"
   },
   {
    "duration": 30,
    "start_time": "2024-10-16T14:34:19.928Z"
   },
   {
    "duration": 164,
    "start_time": "2024-10-16T14:34:19.959Z"
   },
   {
    "duration": 1399,
    "start_time": "2024-10-16T14:34:20.124Z"
   },
   {
    "duration": 3,
    "start_time": "2024-10-16T14:34:21.525Z"
   },
   {
    "duration": 238,
    "start_time": "2024-10-16T14:34:21.529Z"
   },
   {
    "duration": 99,
    "start_time": "2024-10-16T14:34:21.858Z"
   },
   {
    "duration": 4,
    "start_time": "2024-10-16T14:34:21.959Z"
   },
   {
    "duration": 3,
    "start_time": "2024-10-16T14:34:21.964Z"
   },
   {
    "duration": 13,
    "start_time": "2024-10-16T14:34:21.968Z"
   },
   {
    "duration": 10,
    "start_time": "2024-10-16T14:34:21.982Z"
   },
   {
    "duration": 5,
    "start_time": "2024-10-16T14:34:21.993Z"
   },
   {
    "duration": 5,
    "start_time": "2024-10-16T14:34:21.999Z"
   },
   {
    "duration": 15,
    "start_time": "2024-10-16T14:34:22.006Z"
   },
   {
    "duration": 3,
    "start_time": "2024-10-16T14:34:22.022Z"
   },
   {
    "duration": 101,
    "start_time": "2024-10-16T14:35:07.057Z"
   },
   {
    "duration": 8,
    "start_time": "2024-10-16T14:35:38.998Z"
   },
   {
    "duration": 3,
    "start_time": "2024-10-16T14:35:59.720Z"
   },
   {
    "duration": 15,
    "start_time": "2024-10-16T14:36:00.727Z"
   },
   {
    "duration": 4,
    "start_time": "2024-10-16T14:36:14.386Z"
   },
   {
    "duration": 3,
    "start_time": "2024-10-16T14:36:36.497Z"
   },
   {
    "duration": 14,
    "start_time": "2024-10-16T14:36:36.655Z"
   },
   {
    "duration": 3,
    "start_time": "2024-10-16T14:38:24.556Z"
   },
   {
    "duration": 15,
    "start_time": "2024-10-16T14:38:24.986Z"
   },
   {
    "duration": 3,
    "start_time": "2024-10-16T14:39:08.955Z"
   },
   {
    "duration": 3,
    "start_time": "2024-10-16T15:13:47.074Z"
   },
   {
    "duration": 9,
    "start_time": "2024-10-16T15:17:07.015Z"
   },
   {
    "duration": 8,
    "start_time": "2024-10-16T15:17:44.245Z"
   },
   {
    "duration": 12,
    "start_time": "2024-10-16T15:18:11.508Z"
   },
   {
    "duration": 1473,
    "start_time": "2024-10-16T15:18:22.905Z"
   },
   {
    "duration": 76,
    "start_time": "2024-10-16T15:18:44.056Z"
   },
   {
    "duration": 1638,
    "start_time": "2024-10-16T15:18:47.963Z"
   },
   {
    "duration": 3,
    "start_time": "2024-10-16T15:19:07.071Z"
   },
   {
    "duration": 519,
    "start_time": "2024-10-16T15:19:19.769Z"
   },
   {
    "duration": 524,
    "start_time": "2024-10-16T15:21:07.137Z"
   },
   {
    "duration": 3,
    "start_time": "2024-10-16T15:33:05.978Z"
   },
   {
    "duration": 17,
    "start_time": "2024-10-16T15:33:07.010Z"
   },
   {
    "duration": 15,
    "start_time": "2024-10-16T15:33:45.251Z"
   },
   {
    "duration": 15,
    "start_time": "2024-10-16T15:35:00.527Z"
   },
   {
    "duration": 5,
    "start_time": "2024-10-16T15:40:25.349Z"
   },
   {
    "duration": 4,
    "start_time": "2024-10-16T15:40:41.210Z"
   },
   {
    "duration": 6,
    "start_time": "2024-10-16T15:45:58.877Z"
   },
   {
    "duration": 5,
    "start_time": "2024-10-16T15:47:03.149Z"
   },
   {
    "duration": 4,
    "start_time": "2024-10-16T15:47:13.756Z"
   },
   {
    "duration": 4,
    "start_time": "2024-10-16T15:47:50.897Z"
   },
   {
    "duration": 4,
    "start_time": "2024-10-16T15:48:17.182Z"
   },
   {
    "duration": 8,
    "start_time": "2024-10-16T15:48:45.420Z"
   },
   {
    "duration": 3,
    "start_time": "2024-10-16T15:48:50.783Z"
   },
   {
    "duration": 499,
    "start_time": "2024-10-16T15:48:56.655Z"
   },
   {
    "duration": 4,
    "start_time": "2024-10-16T15:49:28.134Z"
   },
   {
    "duration": 500,
    "start_time": "2024-10-16T15:49:30.967Z"
   },
   {
    "duration": 5,
    "start_time": "2024-10-16T15:49:43.770Z"
   },
   {
    "duration": 3,
    "start_time": "2024-10-16T15:49:43.937Z"
   },
   {
    "duration": 510,
    "start_time": "2024-10-16T15:49:44.155Z"
   },
   {
    "duration": 5,
    "start_time": "2024-10-16T15:51:12.210Z"
   },
   {
    "duration": 5,
    "start_time": "2024-10-16T15:51:21.731Z"
   },
   {
    "duration": 5,
    "start_time": "2024-10-16T15:51:26.887Z"
   },
   {
    "duration": 4,
    "start_time": "2024-10-16T15:51:34.884Z"
   },
   {
    "duration": 3,
    "start_time": "2024-10-16T15:54:35.684Z"
   },
   {
    "duration": 14,
    "start_time": "2024-10-16T15:54:35.996Z"
   },
   {
    "duration": 4,
    "start_time": "2024-10-16T15:55:06.816Z"
   },
   {
    "duration": 4,
    "start_time": "2024-10-16T15:55:09.571Z"
   },
   {
    "duration": 493,
    "start_time": "2024-10-16T15:55:13.127Z"
   },
   {
    "duration": 4,
    "start_time": "2024-10-16T15:56:19.309Z"
   },
   {
    "duration": 4,
    "start_time": "2024-10-16T15:56:22.254Z"
   },
   {
    "duration": 508,
    "start_time": "2024-10-16T15:56:24.627Z"
   },
   {
    "duration": 8,
    "start_time": "2024-10-16T16:02:25.667Z"
   },
   {
    "duration": 4,
    "start_time": "2024-10-16T16:06:43.758Z"
   },
   {
    "duration": 5,
    "start_time": "2024-10-16T16:09:15.788Z"
   },
   {
    "duration": 4,
    "start_time": "2024-10-16T16:09:16.108Z"
   },
   {
    "duration": 9,
    "start_time": "2024-10-16T16:09:16.267Z"
   },
   {
    "duration": 490,
    "start_time": "2024-10-16T16:09:16.523Z"
   },
   {
    "duration": 4,
    "start_time": "2024-10-16T16:09:36.679Z"
   },
   {
    "duration": 3,
    "start_time": "2024-10-16T16:09:36.838Z"
   },
   {
    "duration": 10,
    "start_time": "2024-10-16T16:09:37.004Z"
   },
   {
    "duration": 521,
    "start_time": "2024-10-16T16:09:37.158Z"
   },
   {
    "duration": 1271,
    "start_time": "2024-10-16T16:13:07.487Z"
   },
   {
    "duration": 3,
    "start_time": "2024-10-16T16:13:08.760Z"
   },
   {
    "duration": 18,
    "start_time": "2024-10-16T16:13:08.764Z"
   },
   {
    "duration": 363,
    "start_time": "2024-10-16T16:13:08.784Z"
   },
   {
    "duration": 275,
    "start_time": "2024-10-16T16:13:09.149Z"
   },
   {
    "duration": 69,
    "start_time": "2024-10-16T16:13:09.426Z"
   },
   {
    "duration": 50,
    "start_time": "2024-10-16T16:13:09.496Z"
   },
   {
    "duration": 45,
    "start_time": "2024-10-16T16:13:09.558Z"
   },
   {
    "duration": 24,
    "start_time": "2024-10-16T16:13:09.604Z"
   },
   {
    "duration": 27,
    "start_time": "2024-10-16T16:13:09.630Z"
   },
   {
    "duration": 3,
    "start_time": "2024-10-16T16:13:09.659Z"
   },
   {
    "duration": 31,
    "start_time": "2024-10-16T16:13:09.663Z"
   },
   {
    "duration": 12,
    "start_time": "2024-10-16T16:13:09.695Z"
   },
   {
    "duration": 11,
    "start_time": "2024-10-16T16:13:09.708Z"
   },
   {
    "duration": 8,
    "start_time": "2024-10-16T16:13:09.721Z"
   },
   {
    "duration": 28,
    "start_time": "2024-10-16T16:13:09.730Z"
   },
   {
    "duration": 160,
    "start_time": "2024-10-16T16:13:09.759Z"
   },
   {
    "duration": 1395,
    "start_time": "2024-10-16T16:13:09.920Z"
   },
   {
    "duration": 5,
    "start_time": "2024-10-16T16:13:11.316Z"
   },
   {
    "duration": 348,
    "start_time": "2024-10-16T16:13:11.323Z"
   },
   {
    "duration": 90,
    "start_time": "2024-10-16T16:13:11.672Z"
   },
   {
    "duration": 95,
    "start_time": "2024-10-16T16:13:11.764Z"
   },
   {
    "duration": 5,
    "start_time": "2024-10-16T16:13:11.860Z"
   },
   {
    "duration": 6,
    "start_time": "2024-10-16T16:13:11.866Z"
   },
   {
    "duration": 5,
    "start_time": "2024-10-16T16:13:11.873Z"
   },
   {
    "duration": 2,
    "start_time": "2024-10-16T16:13:11.879Z"
   },
   {
    "duration": 3,
    "start_time": "2024-10-16T16:13:11.883Z"
   },
   {
    "duration": 18,
    "start_time": "2024-10-16T16:13:11.889Z"
   },
   {
    "duration": 3,
    "start_time": "2024-10-16T16:13:11.908Z"
   },
   {
    "duration": 9,
    "start_time": "2024-10-16T16:13:11.912Z"
   },
   {
    "duration": 128,
    "start_time": "2024-10-16T16:13:11.922Z"
   },
   {
    "duration": 0,
    "start_time": "2024-10-16T16:13:12.051Z"
   },
   {
    "duration": 0,
    "start_time": "2024-10-16T16:13:12.053Z"
   },
   {
    "duration": 499,
    "start_time": "2024-10-16T16:14:21.065Z"
   },
   {
    "duration": 515,
    "start_time": "2024-10-16T16:14:50.218Z"
   },
   {
    "duration": 520,
    "start_time": "2024-10-16T16:15:06.020Z"
   },
   {
    "duration": 504,
    "start_time": "2024-10-16T16:16:21.004Z"
   },
   {
    "duration": 524,
    "start_time": "2024-10-16T16:16:26.140Z"
   },
   {
    "duration": 510,
    "start_time": "2024-10-16T16:16:38.740Z"
   },
   {
    "duration": 520,
    "start_time": "2024-10-16T16:16:42.000Z"
   },
   {
    "duration": 5,
    "start_time": "2024-10-16T16:17:28.722Z"
   },
   {
    "duration": 711,
    "start_time": "2024-10-16T16:17:31.161Z"
   },
   {
    "duration": 700,
    "start_time": "2024-10-16T16:17:33.040Z"
   },
   {
    "duration": 708,
    "start_time": "2024-10-16T16:17:34.490Z"
   },
   {
    "duration": 693,
    "start_time": "2024-10-16T16:17:38.526Z"
   },
   {
    "duration": 693,
    "start_time": "2024-10-16T16:17:41.079Z"
   },
   {
    "duration": 697,
    "start_time": "2024-10-16T16:17:43.700Z"
   },
   {
    "duration": 701,
    "start_time": "2024-10-16T16:17:45.838Z"
   },
   {
    "duration": 713,
    "start_time": "2024-10-16T16:17:47.709Z"
   },
   {
    "duration": 4,
    "start_time": "2024-10-16T16:18:04.679Z"
   },
   {
    "duration": 509,
    "start_time": "2024-10-16T16:18:04.887Z"
   },
   {
    "duration": 506,
    "start_time": "2024-10-16T16:18:05.398Z"
   },
   {
    "duration": 506,
    "start_time": "2024-10-16T16:18:05.905Z"
   },
   {
    "duration": 4,
    "start_time": "2024-10-16T16:19:38.060Z"
   },
   {
    "duration": 499,
    "start_time": "2024-10-16T16:19:38.498Z"
   },
   {
    "duration": 510,
    "start_time": "2024-10-16T16:19:38.999Z"
   },
   {
    "duration": 502,
    "start_time": "2024-10-16T16:19:39.511Z"
   },
   {
    "duration": 4,
    "start_time": "2024-10-16T16:19:43.899Z"
   },
   {
    "duration": 507,
    "start_time": "2024-10-16T16:19:44.079Z"
   },
   {
    "duration": 502,
    "start_time": "2024-10-16T16:19:44.588Z"
   },
   {
    "duration": 495,
    "start_time": "2024-10-16T16:19:54.517Z"
   },
   {
    "duration": 1604,
    "start_time": "2024-10-16T16:22:38.588Z"
   },
   {
    "duration": 1527,
    "start_time": "2024-10-16T16:22:58.242Z"
   },
   {
    "duration": 1584,
    "start_time": "2024-10-16T16:23:48.327Z"
   },
   {
    "duration": 1327,
    "start_time": "2024-10-16T16:24:39.338Z"
   },
   {
    "duration": 3,
    "start_time": "2024-10-16T16:24:40.667Z"
   },
   {
    "duration": 11,
    "start_time": "2024-10-16T16:24:40.672Z"
   },
   {
    "duration": 351,
    "start_time": "2024-10-16T16:24:40.685Z"
   },
   {
    "duration": 280,
    "start_time": "2024-10-16T16:24:41.037Z"
   },
   {
    "duration": 64,
    "start_time": "2024-10-16T16:24:41.319Z"
   },
   {
    "duration": 51,
    "start_time": "2024-10-16T16:24:41.384Z"
   },
   {
    "duration": 59,
    "start_time": "2024-10-16T16:24:41.436Z"
   },
   {
    "duration": 24,
    "start_time": "2024-10-16T16:24:41.496Z"
   },
   {
    "duration": 11,
    "start_time": "2024-10-16T16:24:41.522Z"
   },
   {
    "duration": 25,
    "start_time": "2024-10-16T16:24:41.534Z"
   },
   {
    "duration": 44,
    "start_time": "2024-10-16T16:24:41.560Z"
   },
   {
    "duration": 11,
    "start_time": "2024-10-16T16:24:41.605Z"
   },
   {
    "duration": 11,
    "start_time": "2024-10-16T16:24:41.617Z"
   },
   {
    "duration": 8,
    "start_time": "2024-10-16T16:24:41.629Z"
   },
   {
    "duration": 3,
    "start_time": "2024-10-16T16:24:41.639Z"
   },
   {
    "duration": 178,
    "start_time": "2024-10-16T16:24:41.643Z"
   },
   {
    "duration": 1382,
    "start_time": "2024-10-16T16:24:41.822Z"
   },
   {
    "duration": 4,
    "start_time": "2024-10-16T16:24:43.206Z"
   },
   {
    "duration": 149,
    "start_time": "2024-10-16T16:24:43.211Z"
   },
   {
    "duration": 97,
    "start_time": "2024-10-16T16:24:43.361Z"
   },
   {
    "duration": 5,
    "start_time": "2024-10-16T16:24:43.460Z"
   },
   {
    "duration": 4,
    "start_time": "2024-10-16T16:24:43.466Z"
   },
   {
    "duration": 3,
    "start_time": "2024-10-16T16:24:43.558Z"
   },
   {
    "duration": 6,
    "start_time": "2024-10-16T16:24:43.562Z"
   },
   {
    "duration": 2,
    "start_time": "2024-10-16T16:24:43.569Z"
   },
   {
    "duration": 4,
    "start_time": "2024-10-16T16:24:43.572Z"
   },
   {
    "duration": 15,
    "start_time": "2024-10-16T16:24:43.579Z"
   },
   {
    "duration": 3,
    "start_time": "2024-10-16T16:24:43.595Z"
   },
   {
    "duration": 4,
    "start_time": "2024-10-16T16:24:43.599Z"
   },
   {
    "duration": 1569,
    "start_time": "2024-10-16T16:24:43.604Z"
   },
   {
    "duration": 4,
    "start_time": "2024-10-16T16:26:29.118Z"
   },
   {
    "duration": 1517,
    "start_time": "2024-10-16T16:26:29.330Z"
   },
   {
    "duration": 5,
    "start_time": "2024-10-16T16:27:16.994Z"
   },
   {
    "duration": 1521,
    "start_time": "2024-10-16T16:27:17.219Z"
   },
   {
    "duration": 13,
    "start_time": "2024-10-16T16:32:07.450Z"
   },
   {
    "duration": 14,
    "start_time": "2024-10-16T16:32:16.409Z"
   },
   {
    "duration": 4,
    "start_time": "2024-10-16T16:37:17.566Z"
   },
   {
    "duration": 1531,
    "start_time": "2024-10-16T16:37:17.749Z"
   },
   {
    "duration": 4,
    "start_time": "2024-10-16T16:38:26.958Z"
   },
   {
    "duration": 1511,
    "start_time": "2024-10-16T16:38:27.234Z"
   },
   {
    "duration": 4,
    "start_time": "2024-10-16T16:41:02.567Z"
   },
   {
    "duration": 1498,
    "start_time": "2024-10-16T16:41:03.346Z"
   },
   {
    "duration": 1514,
    "start_time": "2024-10-16T16:42:28.605Z"
   },
   {
    "duration": 1535,
    "start_time": "2024-10-16T16:44:53.077Z"
   },
   {
    "duration": 1618,
    "start_time": "2024-10-16T16:45:05.224Z"
   },
   {
    "duration": 1532,
    "start_time": "2024-10-16T16:45:33.071Z"
   },
   {
    "duration": 1587,
    "start_time": "2024-10-16T16:46:06.986Z"
   },
   {
    "duration": 14,
    "start_time": "2024-10-16T16:47:31.514Z"
   },
   {
    "duration": 123,
    "start_time": "2024-10-16T16:48:23.996Z"
   },
   {
    "duration": 1572,
    "start_time": "2024-10-16T16:48:32.621Z"
   },
   {
    "duration": 1608,
    "start_time": "2024-10-16T16:48:49.392Z"
   },
   {
    "duration": 1541,
    "start_time": "2024-10-16T16:50:43.702Z"
   },
   {
    "duration": 1608,
    "start_time": "2024-10-16T16:51:07.199Z"
   },
   {
    "duration": 1557,
    "start_time": "2024-10-16T16:51:51.987Z"
   },
   {
    "duration": 1338,
    "start_time": "2024-10-16T16:52:24.294Z"
   },
   {
    "duration": 4,
    "start_time": "2024-10-16T16:52:25.634Z"
   },
   {
    "duration": 23,
    "start_time": "2024-10-16T16:52:25.640Z"
   },
   {
    "duration": 391,
    "start_time": "2024-10-16T16:52:25.665Z"
   },
   {
    "duration": 374,
    "start_time": "2024-10-16T16:52:26.059Z"
   },
   {
    "duration": 96,
    "start_time": "2024-10-16T16:52:26.434Z"
   },
   {
    "duration": 88,
    "start_time": "2024-10-16T16:52:26.532Z"
   },
   {
    "duration": 57,
    "start_time": "2024-10-16T16:52:26.621Z"
   },
   {
    "duration": 33,
    "start_time": "2024-10-16T16:52:26.679Z"
   },
   {
    "duration": 12,
    "start_time": "2024-10-16T16:52:26.714Z"
   },
   {
    "duration": 5,
    "start_time": "2024-10-16T16:52:26.727Z"
   },
   {
    "duration": 61,
    "start_time": "2024-10-16T16:52:26.733Z"
   },
   {
    "duration": 16,
    "start_time": "2024-10-16T16:52:26.796Z"
   },
   {
    "duration": 12,
    "start_time": "2024-10-16T16:52:26.815Z"
   },
   {
    "duration": 31,
    "start_time": "2024-10-16T16:52:26.829Z"
   },
   {
    "duration": 4,
    "start_time": "2024-10-16T16:52:26.861Z"
   },
   {
    "duration": 173,
    "start_time": "2024-10-16T16:52:26.866Z"
   },
   {
    "duration": 1536,
    "start_time": "2024-10-16T16:52:27.041Z"
   },
   {
    "duration": 4,
    "start_time": "2024-10-16T16:52:28.579Z"
   },
   {
    "duration": 487,
    "start_time": "2024-10-16T16:52:28.584Z"
   },
   {
    "duration": 180,
    "start_time": "2024-10-16T16:52:29.078Z"
   },
   {
    "duration": 7,
    "start_time": "2024-10-16T16:52:29.260Z"
   },
   {
    "duration": 2,
    "start_time": "2024-10-16T16:52:29.269Z"
   },
   {
    "duration": 6,
    "start_time": "2024-10-16T16:52:29.273Z"
   },
   {
    "duration": 8,
    "start_time": "2024-10-16T16:52:29.280Z"
   },
   {
    "duration": 2,
    "start_time": "2024-10-16T16:52:29.290Z"
   },
   {
    "duration": 4,
    "start_time": "2024-10-16T16:52:29.294Z"
   },
   {
    "duration": 17,
    "start_time": "2024-10-16T16:52:29.300Z"
   },
   {
    "duration": 39,
    "start_time": "2024-10-16T16:52:29.319Z"
   },
   {
    "duration": 1678,
    "start_time": "2024-10-16T16:52:29.360Z"
   },
   {
    "duration": 1775,
    "start_time": "2024-10-17T02:59:36.450Z"
   },
   {
    "duration": 4,
    "start_time": "2024-10-17T02:59:38.227Z"
   },
   {
    "duration": 12,
    "start_time": "2024-10-17T02:59:38.233Z"
   },
   {
    "duration": 1086,
    "start_time": "2024-10-17T02:59:38.248Z"
   },
   {
    "duration": 355,
    "start_time": "2024-10-17T02:59:39.335Z"
   },
   {
    "duration": 102,
    "start_time": "2024-10-17T02:59:39.693Z"
   },
   {
    "duration": 96,
    "start_time": "2024-10-17T02:59:39.797Z"
   },
   {
    "duration": 73,
    "start_time": "2024-10-17T02:59:39.895Z"
   },
   {
    "duration": 38,
    "start_time": "2024-10-17T02:59:39.970Z"
   },
   {
    "duration": 45,
    "start_time": "2024-10-17T02:59:40.015Z"
   },
   {
    "duration": 4,
    "start_time": "2024-10-17T02:59:40.062Z"
   },
   {
    "duration": 34,
    "start_time": "2024-10-17T02:59:40.067Z"
   },
   {
    "duration": 13,
    "start_time": "2024-10-17T02:59:40.102Z"
   },
   {
    "duration": 52,
    "start_time": "2024-10-17T02:59:40.117Z"
   },
   {
    "duration": 10,
    "start_time": "2024-10-17T02:59:40.171Z"
   },
   {
    "duration": 4,
    "start_time": "2024-10-17T02:59:40.183Z"
   },
   {
    "duration": 227,
    "start_time": "2024-10-17T02:59:40.188Z"
   },
   {
    "duration": 1810,
    "start_time": "2024-10-17T02:59:40.417Z"
   },
   {
    "duration": 5,
    "start_time": "2024-10-17T02:59:42.228Z"
   },
   {
    "duration": 327,
    "start_time": "2024-10-17T02:59:42.234Z"
   },
   {
    "duration": 192,
    "start_time": "2024-10-17T02:59:42.563Z"
   },
   {
    "duration": 4,
    "start_time": "2024-10-17T02:59:42.757Z"
   },
   {
    "duration": 2,
    "start_time": "2024-10-17T02:59:42.763Z"
   },
   {
    "duration": 4,
    "start_time": "2024-10-17T02:59:42.767Z"
   },
   {
    "duration": 5,
    "start_time": "2024-10-17T02:59:42.773Z"
   },
   {
    "duration": 2,
    "start_time": "2024-10-17T02:59:42.780Z"
   },
   {
    "duration": 17,
    "start_time": "2024-10-17T02:59:42.785Z"
   },
   {
    "duration": 43,
    "start_time": "2024-10-17T02:59:42.806Z"
   },
   {
    "duration": 3,
    "start_time": "2024-10-17T02:59:42.851Z"
   },
   {
    "duration": 2270,
    "start_time": "2024-10-17T02:59:42.856Z"
   },
   {
    "duration": 145,
    "start_time": "2024-10-17T03:02:20.013Z"
   },
   {
    "duration": 1571,
    "start_time": "2024-10-17T03:02:39.010Z"
   },
   {
    "duration": 4,
    "start_time": "2024-10-17T03:02:40.584Z"
   },
   {
    "duration": 26,
    "start_time": "2024-10-17T03:02:40.590Z"
   },
   {
    "duration": 465,
    "start_time": "2024-10-17T03:02:40.617Z"
   },
   {
    "duration": 347,
    "start_time": "2024-10-17T03:02:41.083Z"
   },
   {
    "duration": 88,
    "start_time": "2024-10-17T03:02:41.431Z"
   },
   {
    "duration": 84,
    "start_time": "2024-10-17T03:02:41.520Z"
   },
   {
    "duration": 67,
    "start_time": "2024-10-17T03:02:41.606Z"
   },
   {
    "duration": 29,
    "start_time": "2024-10-17T03:02:41.675Z"
   },
   {
    "duration": 13,
    "start_time": "2024-10-17T03:02:41.707Z"
   },
   {
    "duration": 26,
    "start_time": "2024-10-17T03:02:41.721Z"
   },
   {
    "duration": 39,
    "start_time": "2024-10-17T03:02:41.749Z"
   },
   {
    "duration": 14,
    "start_time": "2024-10-17T03:02:41.789Z"
   },
   {
    "duration": 39,
    "start_time": "2024-10-17T03:02:41.805Z"
   },
   {
    "duration": 16,
    "start_time": "2024-10-17T03:02:41.846Z"
   },
   {
    "duration": 5,
    "start_time": "2024-10-17T03:02:41.865Z"
   },
   {
    "duration": 253,
    "start_time": "2024-10-17T03:02:41.871Z"
   },
   {
    "duration": 1771,
    "start_time": "2024-10-17T03:02:42.125Z"
   },
   {
    "duration": 4,
    "start_time": "2024-10-17T03:02:43.898Z"
   },
   {
    "duration": 349,
    "start_time": "2024-10-17T03:02:43.904Z"
   },
   {
    "duration": 188,
    "start_time": "2024-10-17T03:02:44.255Z"
   },
   {
    "duration": 6,
    "start_time": "2024-10-17T03:02:44.445Z"
   },
   {
    "duration": 4,
    "start_time": "2024-10-17T03:02:44.453Z"
   },
   {
    "duration": 12,
    "start_time": "2024-10-17T03:02:44.459Z"
   },
   {
    "duration": 6,
    "start_time": "2024-10-17T03:02:44.472Z"
   },
   {
    "duration": 6,
    "start_time": "2024-10-17T03:02:44.479Z"
   },
   {
    "duration": 6,
    "start_time": "2024-10-17T03:02:44.487Z"
   },
   {
    "duration": 21,
    "start_time": "2024-10-17T03:02:44.496Z"
   },
   {
    "duration": 4,
    "start_time": "2024-10-17T03:02:44.544Z"
   },
   {
    "duration": 3239,
    "start_time": "2024-10-17T03:02:44.550Z"
   },
   {
    "duration": 108,
    "start_time": "2024-10-17T03:18:47.330Z"
   },
   {
    "duration": 99,
    "start_time": "2024-10-17T03:18:52.577Z"
   },
   {
    "duration": 25,
    "start_time": "2024-10-17T03:19:31.217Z"
   },
   {
    "duration": 127,
    "start_time": "2024-10-17T03:25:47.430Z"
   },
   {
    "duration": 26,
    "start_time": "2024-10-17T03:27:27.007Z"
   },
   {
    "duration": 106,
    "start_time": "2024-10-17T03:27:53.594Z"
   },
   {
    "duration": 126,
    "start_time": "2024-10-17T03:28:08.435Z"
   },
   {
    "duration": 144,
    "start_time": "2024-10-17T04:58:08.236Z"
   },
   {
    "duration": 121,
    "start_time": "2024-10-17T04:58:14.555Z"
   },
   {
    "duration": 1476,
    "start_time": "2024-10-17T05:38:44.125Z"
   },
   {
    "duration": 3,
    "start_time": "2024-10-17T05:38:45.603Z"
   },
   {
    "duration": 19,
    "start_time": "2024-10-17T05:38:45.608Z"
   },
   {
    "duration": 438,
    "start_time": "2024-10-17T05:38:45.630Z"
   },
   {
    "duration": 353,
    "start_time": "2024-10-17T05:38:46.070Z"
   },
   {
    "duration": 80,
    "start_time": "2024-10-17T05:38:46.425Z"
   },
   {
    "duration": 82,
    "start_time": "2024-10-17T05:38:46.507Z"
   },
   {
    "duration": 66,
    "start_time": "2024-10-17T05:38:46.591Z"
   },
   {
    "duration": 31,
    "start_time": "2024-10-17T05:38:46.659Z"
   },
   {
    "duration": 15,
    "start_time": "2024-10-17T05:38:46.693Z"
   },
   {
    "duration": 9,
    "start_time": "2024-10-17T05:38:46.709Z"
   },
   {
    "duration": 54,
    "start_time": "2024-10-17T05:38:46.719Z"
   },
   {
    "duration": 15,
    "start_time": "2024-10-17T05:38:46.775Z"
   },
   {
    "duration": 18,
    "start_time": "2024-10-17T05:38:46.792Z"
   },
   {
    "duration": 42,
    "start_time": "2024-10-17T05:38:46.812Z"
   },
   {
    "duration": 5,
    "start_time": "2024-10-17T05:38:46.856Z"
   },
   {
    "duration": 225,
    "start_time": "2024-10-17T05:38:46.862Z"
   },
   {
    "duration": 1781,
    "start_time": "2024-10-17T05:38:47.089Z"
   },
   {
    "duration": 135,
    "start_time": "2024-10-17T05:38:48.872Z"
   },
   {
    "duration": 5,
    "start_time": "2024-10-17T05:38:49.008Z"
   },
   {
    "duration": 530,
    "start_time": "2024-10-17T05:38:49.014Z"
   },
   {
    "duration": 99,
    "start_time": "2024-10-17T05:38:49.548Z"
   },
   {
    "duration": 21,
    "start_time": "2024-10-17T05:38:49.649Z"
   },
   {
    "duration": 87,
    "start_time": "2024-10-17T05:38:49.672Z"
   },
   {
    "duration": 87,
    "start_time": "2024-10-17T05:38:49.761Z"
   },
   {
    "duration": 17,
    "start_time": "2024-10-17T05:38:49.850Z"
   },
   {
    "duration": 13,
    "start_time": "2024-10-17T05:38:49.870Z"
   },
   {
    "duration": 32,
    "start_time": "2024-10-17T05:38:49.886Z"
   },
   {
    "duration": 37,
    "start_time": "2024-10-17T05:38:49.920Z"
   },
   {
    "duration": 4,
    "start_time": "2024-10-17T05:38:49.960Z"
   },
   {
    "duration": 2177,
    "start_time": "2024-10-17T05:38:49.966Z"
   },
   {
    "duration": 9,
    "start_time": "2024-10-18T10:20:50.319Z"
   },
   {
    "duration": 3,
    "start_time": "2024-10-18T10:21:06.303Z"
   },
   {
    "duration": 9,
    "start_time": "2024-10-18T10:21:06.600Z"
   },
   {
    "duration": 1652,
    "start_time": "2024-10-18T10:26:04.915Z"
   },
   {
    "duration": 4,
    "start_time": "2024-10-18T10:26:06.569Z"
   },
   {
    "duration": 14,
    "start_time": "2024-10-18T10:26:06.574Z"
   },
   {
    "duration": 1752,
    "start_time": "2024-10-18T10:26:06.590Z"
   },
   {
    "duration": 347,
    "start_time": "2024-10-18T10:26:08.343Z"
   },
   {
    "duration": 99,
    "start_time": "2024-10-18T10:26:08.691Z"
   },
   {
    "duration": 84,
    "start_time": "2024-10-18T10:26:08.792Z"
   },
   {
    "duration": 58,
    "start_time": "2024-10-18T10:26:08.878Z"
   },
   {
    "duration": 50,
    "start_time": "2024-10-18T10:26:08.937Z"
   },
   {
    "duration": 15,
    "start_time": "2024-10-18T10:26:08.990Z"
   },
   {
    "duration": 6,
    "start_time": "2024-10-18T10:26:09.006Z"
   },
   {
    "duration": 39,
    "start_time": "2024-10-18T10:26:09.013Z"
   },
   {
    "duration": 36,
    "start_time": "2024-10-18T10:26:09.054Z"
   },
   {
    "duration": 15,
    "start_time": "2024-10-18T10:26:09.092Z"
   },
   {
    "duration": 10,
    "start_time": "2024-10-18T10:26:09.109Z"
   },
   {
    "duration": 4,
    "start_time": "2024-10-18T10:26:09.120Z"
   },
   {
    "duration": 284,
    "start_time": "2024-10-18T10:26:09.126Z"
   },
   {
    "duration": 1915,
    "start_time": "2024-10-18T10:26:09.411Z"
   },
   {
    "duration": 144,
    "start_time": "2024-10-18T10:26:11.328Z"
   },
   {
    "duration": 5,
    "start_time": "2024-10-18T10:26:11.473Z"
   },
   {
    "duration": 401,
    "start_time": "2024-10-18T10:26:11.480Z"
   },
   {
    "duration": 193,
    "start_time": "2024-10-18T10:26:11.883Z"
   },
   {
    "duration": 16,
    "start_time": "2024-10-18T10:26:12.078Z"
   },
   {
    "duration": 6,
    "start_time": "2024-10-18T10:26:12.095Z"
   },
   {
    "duration": 13,
    "start_time": "2024-10-18T10:26:12.103Z"
   },
   {
    "duration": 11,
    "start_time": "2024-10-18T10:26:12.117Z"
   },
   {
    "duration": 12,
    "start_time": "2024-10-18T10:26:12.129Z"
   },
   {
    "duration": 4,
    "start_time": "2024-10-18T10:26:12.144Z"
   },
   {
    "duration": 120,
    "start_time": "2024-10-18T10:26:12.150Z"
   },
   {
    "duration": 0,
    "start_time": "2024-10-18T10:26:12.272Z"
   },
   {
    "duration": 0,
    "start_time": "2024-10-18T10:26:12.273Z"
   },
   {
    "duration": 22,
    "start_time": "2024-10-18T10:29:25.366Z"
   },
   {
    "duration": 4,
    "start_time": "2024-10-18T10:29:53.387Z"
   },
   {
    "duration": 20,
    "start_time": "2024-10-18T10:29:53.604Z"
   },
   {
    "duration": 3,
    "start_time": "2024-10-18T10:29:58.822Z"
   },
   {
    "duration": 2380,
    "start_time": "2024-10-18T10:29:59.071Z"
   },
   {
    "duration": 4,
    "start_time": "2024-10-18T10:48:29.739Z"
   },
   {
    "duration": 17,
    "start_time": "2024-10-18T10:48:29.901Z"
   },
   {
    "duration": 3,
    "start_time": "2024-10-18T10:48:30.365Z"
   },
   {
    "duration": 2405,
    "start_time": "2024-10-18T10:48:30.607Z"
   },
   {
    "duration": 2309,
    "start_time": "2024-10-18T10:53:07.885Z"
   },
   {
    "duration": 5,
    "start_time": "2024-10-18T10:53:41.348Z"
   },
   {
    "duration": 2220,
    "start_time": "2024-10-18T10:54:04.064Z"
   },
   {
    "duration": 13,
    "start_time": "2024-10-18T12:26:56.728Z"
   },
   {
    "duration": 3,
    "start_time": "2024-10-18T12:29:43.208Z"
   },
   {
    "duration": 50,
    "start_time": "2024-10-18T12:30:03.026Z"
   },
   {
    "duration": 18,
    "start_time": "2024-10-18T12:31:06.443Z"
   },
   {
    "duration": 2468,
    "start_time": "2024-10-18T12:31:43.359Z"
   },
   {
    "duration": 2470,
    "start_time": "2024-10-18T12:32:09.179Z"
   },
   {
    "duration": 5,
    "start_time": "2024-10-18T12:38:30.929Z"
   },
   {
    "duration": 8,
    "start_time": "2024-10-18T12:39:11.997Z"
   },
   {
    "duration": 18,
    "start_time": "2024-10-18T12:39:12.406Z"
   },
   {
    "duration": 17,
    "start_time": "2024-10-18T12:39:21.030Z"
   },
   {
    "duration": 2435,
    "start_time": "2024-10-18T12:39:28.991Z"
   },
   {
    "duration": 1531,
    "start_time": "2024-10-18T12:45:44.631Z"
   },
   {
    "duration": 4,
    "start_time": "2024-10-18T12:45:46.164Z"
   },
   {
    "duration": 6,
    "start_time": "2024-10-18T12:45:46.169Z"
   },
   {
    "duration": 504,
    "start_time": "2024-10-18T12:45:46.183Z"
   },
   {
    "duration": 374,
    "start_time": "2024-10-18T12:45:46.689Z"
   },
   {
    "duration": 103,
    "start_time": "2024-10-18T12:45:47.064Z"
   },
   {
    "duration": 85,
    "start_time": "2024-10-18T12:45:47.168Z"
   },
   {
    "duration": 80,
    "start_time": "2024-10-18T12:45:47.255Z"
   },
   {
    "duration": 56,
    "start_time": "2024-10-18T12:45:47.337Z"
   },
   {
    "duration": 15,
    "start_time": "2024-10-18T12:45:47.401Z"
   },
   {
    "duration": 61,
    "start_time": "2024-10-18T12:45:47.418Z"
   },
   {
    "duration": 47,
    "start_time": "2024-10-18T12:45:47.485Z"
   },
   {
    "duration": 15,
    "start_time": "2024-10-18T12:45:47.534Z"
   },
   {
    "duration": 22,
    "start_time": "2024-10-18T12:45:47.550Z"
   },
   {
    "duration": 20,
    "start_time": "2024-10-18T12:45:47.574Z"
   },
   {
    "duration": 67,
    "start_time": "2024-10-18T12:45:47.596Z"
   },
   {
    "duration": 262,
    "start_time": "2024-10-18T12:45:47.665Z"
   },
   {
    "duration": 2052,
    "start_time": "2024-10-18T12:45:47.928Z"
   },
   {
    "duration": 152,
    "start_time": "2024-10-18T12:45:49.987Z"
   },
   {
    "duration": 5,
    "start_time": "2024-10-18T12:45:50.140Z"
   },
   {
    "duration": 434,
    "start_time": "2024-10-18T12:45:50.146Z"
   },
   {
    "duration": 97,
    "start_time": "2024-10-18T12:45:50.585Z"
   },
   {
    "duration": 15,
    "start_time": "2024-10-18T12:45:50.687Z"
   },
   {
    "duration": 68,
    "start_time": "2024-10-18T12:45:50.705Z"
   },
   {
    "duration": 16,
    "start_time": "2024-10-18T12:45:50.774Z"
   },
   {
    "duration": 12,
    "start_time": "2024-10-18T12:45:50.793Z"
   },
   {
    "duration": 5,
    "start_time": "2024-10-18T12:45:50.807Z"
   },
   {
    "duration": 87,
    "start_time": "2024-10-18T12:45:50.816Z"
   },
   {
    "duration": 4,
    "start_time": "2024-10-18T12:45:50.904Z"
   },
   {
    "duration": 33,
    "start_time": "2024-10-18T12:45:50.909Z"
   },
   {
    "duration": 4,
    "start_time": "2024-10-18T12:45:50.944Z"
   },
   {
    "duration": 2374,
    "start_time": "2024-10-18T12:45:50.949Z"
   },
   {
    "duration": 1453,
    "start_time": "2024-10-18T13:23:21.196Z"
   },
   {
    "duration": 4,
    "start_time": "2024-10-18T13:23:22.651Z"
   },
   {
    "duration": 15,
    "start_time": "2024-10-18T13:23:22.657Z"
   },
   {
    "duration": 469,
    "start_time": "2024-10-18T13:23:22.675Z"
   },
   {
    "duration": 355,
    "start_time": "2024-10-18T13:23:23.146Z"
   },
   {
    "duration": 99,
    "start_time": "2024-10-18T13:23:23.502Z"
   },
   {
    "duration": 84,
    "start_time": "2024-10-18T13:23:23.602Z"
   },
   {
    "duration": 58,
    "start_time": "2024-10-18T13:23:23.688Z"
   },
   {
    "duration": 47,
    "start_time": "2024-10-18T13:23:23.747Z"
   },
   {
    "duration": 14,
    "start_time": "2024-10-18T13:23:23.797Z"
   },
   {
    "duration": 4,
    "start_time": "2024-10-18T13:23:23.812Z"
   },
   {
    "duration": 38,
    "start_time": "2024-10-18T13:23:23.818Z"
   },
   {
    "duration": 32,
    "start_time": "2024-10-18T13:23:23.858Z"
   },
   {
    "duration": 15,
    "start_time": "2024-10-18T13:23:23.891Z"
   },
   {
    "duration": 10,
    "start_time": "2024-10-18T13:23:23.908Z"
   },
   {
    "duration": 5,
    "start_time": "2024-10-18T13:23:23.919Z"
   },
   {
    "duration": 251,
    "start_time": "2024-10-18T13:23:23.925Z"
   },
   {
    "duration": 5915,
    "start_time": "2024-10-18T21:13:31.534Z"
   },
   {
    "duration": 3,
    "start_time": "2024-10-18T21:13:37.451Z"
   },
   {
    "duration": 14,
    "start_time": "2024-10-18T21:13:37.456Z"
   },
   {
    "duration": 986,
    "start_time": "2024-10-18T21:13:37.472Z"
   },
   {
    "duration": 385,
    "start_time": "2024-10-18T21:13:38.461Z"
   },
   {
    "duration": 101,
    "start_time": "2024-10-18T21:13:38.848Z"
   },
   {
    "duration": 76,
    "start_time": "2024-10-18T21:13:38.950Z"
   },
   {
    "duration": 53,
    "start_time": "2024-10-18T21:13:39.028Z"
   },
   {
    "duration": 30,
    "start_time": "2024-10-18T21:13:39.083Z"
   },
   {
    "duration": 34,
    "start_time": "2024-10-18T21:13:39.115Z"
   },
   {
    "duration": 8,
    "start_time": "2024-10-18T21:13:39.151Z"
   },
   {
    "duration": 47,
    "start_time": "2024-10-18T21:13:39.161Z"
   },
   {
    "duration": 14,
    "start_time": "2024-10-18T21:13:39.209Z"
   },
   {
    "duration": 16,
    "start_time": "2024-10-18T21:13:39.243Z"
   },
   {
    "duration": 10,
    "start_time": "2024-10-18T21:13:39.261Z"
   },
   {
    "duration": 9,
    "start_time": "2024-10-18T21:13:39.273Z"
   },
   {
    "duration": 246,
    "start_time": "2024-10-18T21:13:39.283Z"
   },
   {
    "duration": 1859,
    "start_time": "2024-10-18T21:13:39.531Z"
   },
   {
    "duration": 132,
    "start_time": "2024-10-18T21:13:41.391Z"
   },
   {
    "duration": 5,
    "start_time": "2024-10-18T21:13:41.524Z"
   },
   {
    "duration": 311,
    "start_time": "2024-10-18T21:13:41.542Z"
   },
   {
    "duration": 102,
    "start_time": "2024-10-18T21:13:41.855Z"
   },
   {
    "duration": 7,
    "start_time": "2024-10-18T21:13:42.043Z"
   },
   {
    "duration": 14,
    "start_time": "2024-10-18T21:13:42.051Z"
   },
   {
    "duration": 10,
    "start_time": "2024-10-18T21:13:42.067Z"
   },
   {
    "duration": 14,
    "start_time": "2024-10-18T21:13:42.078Z"
   },
   {
    "duration": 5,
    "start_time": "2024-10-18T21:13:42.093Z"
   },
   {
    "duration": 14,
    "start_time": "2024-10-18T21:13:42.099Z"
   },
   {
    "duration": 4,
    "start_time": "2024-10-18T21:13:42.114Z"
   },
   {
    "duration": 25,
    "start_time": "2024-10-18T21:13:42.119Z"
   },
   {
    "duration": 5,
    "start_time": "2024-10-18T21:13:42.146Z"
   },
   {
    "duration": 2377,
    "start_time": "2024-10-18T21:13:42.152Z"
   }
  ],
  "kernelspec": {
   "display_name": "Python 3 (ipykernel)",
   "language": "python",
   "name": "python3"
  },
  "language_info": {
   "codemirror_mode": {
    "name": "ipython",
    "version": 3
   },
   "file_extension": ".py",
   "mimetype": "text/x-python",
   "name": "python",
   "nbconvert_exporter": "python",
   "pygments_lexer": "ipython3",
   "version": "3.9.5"
  },
  "toc": {
   "base_numbering": 1,
   "nav_menu": {},
   "number_sections": true,
   "sideBar": true,
   "skip_h1_title": true,
   "title_cell": "Table of Contents",
   "title_sidebar": "Contents",
   "toc_cell": false,
   "toc_position": {
    "height": "calc(100% - 180px)",
    "left": "10px",
    "top": "150px",
    "width": "306.917px"
   },
   "toc_section_display": true,
   "toc_window_display": true
  }
 },
 "nbformat": 4,
 "nbformat_minor": 2
}
